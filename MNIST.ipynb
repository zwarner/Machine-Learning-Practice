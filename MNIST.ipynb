{
 "cells": [
  {
   "cell_type": "code",
   "execution_count": 1,
   "metadata": {},
   "outputs": [],
   "source": [
    "#First import a few common modules\n",
    "import sys\n",
    "assert sys.version_info >= (3, 5)\n",
    "\n",
    "# Scikit-Learn ≥0.20 is required\n",
    "import sklearn\n",
    "assert sklearn.__version__ >= \"0.20\"\n",
    "\n",
    "# Common imports\n",
    "import numpy as np\n",
    "import os\n",
    "\n",
    "# to make this notebook's output stable across runs\n",
    "np.random.seed(42)\n",
    "\n",
    "# To plot pretty figures\n",
    "%matplotlib inline\n",
    "import matplotlib as mpl\n",
    "import matplotlib.pyplot as plt\n",
    "mpl.rc('axes', labelsize=14)\n",
    "mpl.rc('xtick', labelsize=12)\n",
    "mpl.rc('ytick', labelsize=12)\n",
    "\n",
    "# Where to save the figures\n",
    "PROJECT_ROOT_DIR = \".\"\n",
    "CHAPTER_ID = \"classification\"\n",
    "IMAGES_PATH = os.path.join(PROJECT_ROOT_DIR, \"images\", CHAPTER_ID)\n",
    "os.makedirs(IMAGES_PATH, exist_ok=True)\n",
    "\n",
    "def save_fig(fig_id, tight_layout=True, fig_extension=\"png\", resolution=300):\n",
    "    path = os.path.join(IMAGES_PATH, fig_id + \".\" + fig_extension)\n",
    "    print(\"Saving figure\", fig_id)\n",
    "    if tight_layout:\n",
    "        plt.tight_layout()\n",
    "    plt.savefig(path, format=fig_extension, dpi=resolution)"
   ]
  },
  {
   "cell_type": "code",
   "execution_count": 2,
   "metadata": {},
   "outputs": [],
   "source": [
    "# keras imports for the dataset and building our neural network\n",
    "from keras.datasets import mnist\n",
    "from keras.models import Sequential, load_model\n",
    "from keras.layers.core import Dense, Dropout, Activation\n",
    "from keras.utils import np_utils"
   ]
  },
  {
   "cell_type": "code",
   "execution_count": 4,
   "metadata": {},
   "outputs": [
    {
     "data": {
      "text/plain": [
       "(60000, 28, 28)"
      ]
     },
     "execution_count": 4,
     "metadata": {},
     "output_type": "execute_result"
    }
   ],
   "source": [
    "# Using keras dictionary structure lets look at the arrays describing the instance data and the\n",
    "# target data\n",
    "# Note: Book uses sklearn to load data, but I could not get it to work so I use tensor flow. It is easier and\n",
    "# involves less steps\n",
    "\n",
    "(X_train, y_train), (X_test, y_test) = mnist.load_data()\n",
    "X_train.shape"
   ]
  },
  {
   "cell_type": "code",
   "execution_count": 5,
   "metadata": {},
   "outputs": [
    {
     "data": {
      "text/plain": [
       "(60000,)"
      ]
     },
     "execution_count": 5,
     "metadata": {},
     "output_type": "execute_result"
    }
   ],
   "source": [
    "y_train.shape"
   ]
  },
  {
   "cell_type": "code",
   "execution_count": 6,
   "metadata": {},
   "outputs": [
    {
     "data": {
      "text/plain": [
       "5"
      ]
     },
     "execution_count": 6,
     "metadata": {},
     "output_type": "execute_result"
    }
   ],
   "source": [
    "# Apparently there are 70,000 images with 784 features. This is because each image is a 28 x 28 = 784 pixel.\n",
    "# Let's look at the first target value\n",
    "y_train[0]"
   ]
  },
  {
   "cell_type": "code",
   "execution_count": 7,
   "metadata": {},
   "outputs": [
    {
     "ename": "NameError",
     "evalue": "name 'y' is not defined",
     "output_type": "error",
     "traceback": [
      "\u001b[0;31m---------------------------------------------------------------------------\u001b[0m",
      "\u001b[0;31mNameError\u001b[0m                                 Traceback (most recent call last)",
      "\u001b[0;32m<ipython-input-7-d2234c1d8378>\u001b[0m in \u001b[0;36m<module>\u001b[0;34m\u001b[0m\n\u001b[1;32m      1\u001b[0m \u001b[0;31m# The first taret value is a 5. Since the label is a string and most ML expect numbers lets make y an interager\u001b[0m\u001b[0;34m\u001b[0m\u001b[0;34m\u001b[0m\u001b[0;34m\u001b[0m\u001b[0m\n\u001b[1;32m      2\u001b[0m \u001b[0;31m# Note: this step is only necessary if we use sklearn to load data\u001b[0m\u001b[0;34m\u001b[0m\u001b[0;34m\u001b[0m\u001b[0;34m\u001b[0m\u001b[0m\n\u001b[0;32m----> 3\u001b[0;31m \u001b[0my\u001b[0m \u001b[0;34m=\u001b[0m \u001b[0my\u001b[0m\u001b[0;34m.\u001b[0m\u001b[0mastype\u001b[0m\u001b[0;34m(\u001b[0m\u001b[0mnp\u001b[0m\u001b[0;34m.\u001b[0m\u001b[0muint8\u001b[0m\u001b[0;34m)\u001b[0m\u001b[0;34m\u001b[0m\u001b[0;34m\u001b[0m\u001b[0m\n\u001b[0m",
      "\u001b[0;31mNameError\u001b[0m: name 'y' is not defined"
     ]
    }
   ],
   "source": [
    "# The first taret value is a 5. Since the label is a string and most ML expect numbers lets make y an interager\n",
    "# Note: this step is only necessary if we use sklearn to load data\n",
    "y = y.astype(np.uint8)"
   ]
  },
  {
   "cell_type": "code",
   "execution_count": 8,
   "metadata": {},
   "outputs": [
    {
     "name": "stdout",
     "output_type": "stream",
     "text": [
      "Saving figure some_digit_plot\n"
     ]
    },
    {
     "data": {
      "image/png": "[encoded data removed]",
      "text/plain": [
       "<Figure size 432x288 with 1 Axes>"
      ]
     },
     "metadata": {
      "needs_background": "light"
     },
     "output_type": "display_data"
    }
   ],
   "source": [
    "#Let's look @ the 1st digit to make sure they match\n",
    "%matplotlib inline\n",
    "import matplotlib as mpl\n",
    "import matplotlib.pyplot as plt\n",
    "\n",
    "some_digit = X_train[0]\n",
    "some_digit_image = some_digit.reshape(28, 28)\n",
    "plt.imshow(some_digit_image, cmap=mpl.cm.binary)\n",
    "plt.axis(\"off\")\n",
    "\n",
    "save_fig(\"some_digit_plot\")\n",
    "plt.show()"
   ]
  },
  {
   "cell_type": "code",
   "execution_count": 70,
   "metadata": {},
   "outputs": [
    {
     "data": {
      "image/png": "[encoded data removed]",
      "text/plain": [
       "<Figure size 432x288 with 9 Axes>"
      ]
     },
     "execution_count": 70,
     "metadata": {},
     "output_type": "execute_result"
    },
    {
     "data": {
      "image/png": "[encoded data removed]",
      "text/plain": [
       "<Figure size 432x288 with 9 Axes>"
      ]
     },
     "metadata": {},
     "output_type": "display_data"
    }
   ],
   "source": [
    "#Let's look @ the other digits to make sure they match\n",
    "fig = plt.figure()\n",
    "for i in range(9):\n",
    "  plt.subplot(3,3,i+1)\n",
    "  plt.tight_layout()\n",
    "  plt.imshow(X_train[i], cmap='gray', interpolation='none')\n",
    "  plt.title(\"Digit: {}\".format(y_train[i]))\n",
    "  plt.xticks([])\n",
    "  plt.yticks([])\n",
    "fig"
   ]
  },
  {
   "cell_type": "markdown",
   "metadata": {},
   "source": [
    "## Binary Classifier"
   ]
  },
  {
   "cell_type": "code",
   "execution_count": 71,
   "metadata": {},
   "outputs": [],
   "source": [
    "# Let's start with a simple code that trains a binary classifier to identify one digit, 5.\n",
    "# Since it is binary it will distinguish between 5 and not-5.\n",
    "\n",
    "#First create the target vector for the classification task\n",
    "y_train_5 = (y_train == 5)\n",
    "y_test_5 = (y_test == 5)"
   ]
  },
  {
   "cell_type": "code",
   "execution_count": 75,
   "metadata": {},
   "outputs": [
    {
     "data": {
      "text/plain": [
       "(60000,)"
      ]
     },
     "execution_count": 75,
     "metadata": {},
     "output_type": "execute_result"
    }
   ],
   "source": [
    "# Note: some hyperparameters will have a different defaut value in future versions of Scikit-Learn, such as \n",
    "# max_iter and tol. To be future-proof, we explicitly set these hyperparameters to their future default values.\n",
    "# For simplicity, this is not shown in the book.\n"
   ]
  },
  {
   "cell_type": "code",
   "execution_count": 76,
   "metadata": {},
   "outputs": [],
   "source": [
    "# Let's start with a Stochastic Gradient Decent (SGD) classifier. This efficiently handels large data sets by \n",
    "# training instances independently, one at a time.\n",
    "\n",
    "# Before doing this we must reshape the X_train since it is an array with 3 dimensions (60000, 28, 28), but\n",
    "# y_train_5 is a 2 dimension array (60000,)\n",
    "\n",
    "X_train = X_train.reshape(60000, 784)\n",
    "X_test = X_test.reshape(10000, 784)\n",
    "X_train = X_train.astype('float32')\n",
    "X_test = X_test.astype('float32')\n",
    "\n"
   ]
  },
  {
   "cell_type": "code",
   "execution_count": 77,
   "metadata": {},
   "outputs": [
    {
     "data": {
      "text/plain": [
       "SGDClassifier(random_state=42)"
      ]
     },
     "execution_count": 77,
     "metadata": {},
     "output_type": "execute_result"
    }
   ],
   "source": [
    "from sklearn.linear_model import SGDClassifier\n",
    "\n",
    "sgd_clf = SGDClassifier(max_iter=1000, tol=1e-3, random_state=42)\n",
    "sgd_clf.fit(X_train, y_train_5)"
   ]
  },
  {
   "cell_type": "code",
   "execution_count": 79,
   "metadata": {},
   "outputs": [
    {
     "data": {
      "text/plain": [
       "array([ True])"
      ]
     },
     "execution_count": 79,
     "metadata": {},
     "output_type": "execute_result"
    }
   ],
   "source": [
    "# check to make sure it is predicting properly using a known instance of 5\n",
    "some_digit = X_train[0]\n",
    "sgd_clf.predict([some_digit])"
   ]
  },
  {
   "cell_type": "code",
   "execution_count": 80,
   "metadata": {},
   "outputs": [
    {
     "data": {
      "text/plain": [
       "array([0.95035, 0.96035, 0.9604 ])"
      ]
     },
     "execution_count": 80,
     "metadata": {},
     "output_type": "execute_result"
    }
   ],
   "source": [
    "from sklearn.model_selection import cross_val_score\n",
    "cross_val_score(sgd_clf, X_train, y_train_5, cv=3, scoring=\"accuracy\")\n",
    "# Here cv = 3 means we are splitting the k-fold cross validaiton into 3 folds"
   ]
  },
  {
   "cell_type": "code",
   "execution_count": 81,
   "metadata": {},
   "outputs": [],
   "source": [
    "# Let's test to see if we really have 95% accuracy, or if we are overfitting\n",
    "\n",
    "#Let's make a classifier that classifies every image as \"not-5\"\n",
    "from sklearn.base import BaseEstimator\n",
    "\n",
    "# This class guesses \"not-5\"\n",
    "class Never5Classifier(BaseEstimator): \n",
    "    def fit(self, X, y=None):\n",
    "        pass\n",
    "    def predict(self, X):\n",
    "        return np.zeros((len(X), 1), dtype=bool)"
   ]
  },
  {
   "cell_type": "code",
   "execution_count": 82,
   "metadata": {},
   "outputs": [
    {
     "data": {
      "text/plain": [
       "array([0.91125, 0.90855, 0.90915])"
      ]
     },
     "execution_count": 82,
     "metadata": {},
     "output_type": "execute_result"
    }
   ],
   "source": [
    "never_5_clf = Never5Classifier()\n",
    "cross_val_score(never_5_clf, X_train, y_train_5, cv=3, scoring=\"accuracy\")"
   ]
  },
  {
   "cell_type": "code",
   "execution_count": 84,
   "metadata": {},
   "outputs": [],
   "source": [
    "# Since less than 10% of data is a 5, guessing \"not-5\" gets you over 90% accuracy\n",
    "# We need a better way of determining accuracy. Try a confusion matrix"
   ]
  },
  {
   "cell_type": "code",
   "execution_count": 85,
   "metadata": {},
   "outputs": [],
   "source": [
    "# Using cross-predict instead of cross-validation. This allows us to still test witout using the testing set. \n",
    "# It returns predictions made by each test fold instead of returing the evaluation scores\n",
    "\n",
    "from sklearn.model_selection import cross_val_predict\n",
    "\n",
    "y_train_pred = cross_val_predict(sgd_clf, X_train, y_train_5, cv=3)"
   ]
  },
  {
   "cell_type": "code",
   "execution_count": 86,
   "metadata": {},
   "outputs": [
    {
     "data": {
      "text/plain": [
       "array([[53892,   687],\n",
       "       [ 1891,  3530]])"
      ]
     },
     "execution_count": 86,
     "metadata": {},
     "output_type": "execute_result"
    }
   ],
   "source": [
    "#Look @ the confusion matrix\n",
    "\n",
    "from sklearn.metrics import confusion_matrix\n",
    "\n",
    "confusion_matrix(y_train_5, y_train_pred)"
   ]
  },
  {
   "cell_type": "code",
   "execution_count": 87,
   "metadata": {},
   "outputs": [],
   "source": [
    "# Each row represents an \"actual class\" while each column represents a \"predcted class\"\n",
    "# The first row consideres \"non-5\" images (negative class) 53,892 were true-negatives and 687 were \n",
    "# classified as 5's meaning false-positives.\n",
    "# The second row considers the images of 5's (positive class). 1891 false negatives from classifying as \n",
    "# \"non-5\", and 3530 were consideres ture positives for correctly classifying as 5"
   ]
  },
  {
   "cell_type": "code",
   "execution_count": 98,
   "metadata": {},
   "outputs": [
    {
     "data": {
      "text/plain": [
       "0.8370879772350012"
      ]
     },
     "execution_count": 98,
     "metadata": {},
     "output_type": "execute_result"
    }
   ],
   "source": [
    "#Next let's look @ precision (accuracy of positive prediction) = TP / (TP + FP), and the \n",
    "# recall = TP / (TP + FN)\n",
    "from sklearn.metrics import precision_score,recall_score\n",
    "\n",
    "precision_score(y_train_5, y_train_pred)"
   ]
  },
  {
   "cell_type": "code",
   "execution_count": 93,
   "metadata": {},
   "outputs": [
    {
     "data": {
      "text/plain": [
       "0.8370879772350012"
      ]
     },
     "execution_count": 93,
     "metadata": {},
     "output_type": "execute_result"
    }
   ],
   "source": [
    "#check that this is the same as what would be produced by precision equation\n",
    "cm = confusion_matrix(y_train_5, y_train_pred)\n",
    "cm[1, 1] / (cm[0, 1] + cm[1, 1])"
   ]
  },
  {
   "cell_type": "code",
   "execution_count": 99,
   "metadata": {},
   "outputs": [
    {
     "data": {
      "text/plain": [
       "0.6511713705958311"
      ]
     },
     "execution_count": 99,
     "metadata": {},
     "output_type": "execute_result"
    }
   ],
   "source": [
    "recall_score(y_train_5, y_train_pred)"
   ]
  },
  {
   "cell_type": "code",
   "execution_count": 97,
   "metadata": {},
   "outputs": [
    {
     "data": {
      "text/plain": [
       "0.6511713705958311"
      ]
     },
     "execution_count": 97,
     "metadata": {},
     "output_type": "execute_result"
    }
   ],
   "source": [
    "# Check that this is the same as what would be produced by recall equation\n",
    "cm[1, 1] / (cm[1, 0] + cm[1, 1])"
   ]
  },
  {
   "cell_type": "code",
   "execution_count": 100,
   "metadata": {},
   "outputs": [],
   "source": [
    "# The precision says that when it says the image is a 5, it is right only 83.7% of the time. The recall says\n",
    "# that the algorithm only detects 65% of all the fives."
   ]
  },
  {
   "cell_type": "code",
   "execution_count": 102,
   "metadata": {},
   "outputs": [
    {
     "data": {
      "text/plain": [
       "0.7325171197343846"
      ]
     },
     "execution_count": 102,
     "metadata": {},
     "output_type": "execute_result"
    }
   ],
   "source": [
    "# Look @ F1 score\n",
    "from sklearn.metrics import f1_score\n",
    "\n",
    "f1_score(y_train_5, y_train_pred)"
   ]
  },
  {
   "cell_type": "code",
   "execution_count": 103,
   "metadata": {},
   "outputs": [
    {
     "data": {
      "text/plain": [
       "array([2164.22030239])"
      ]
     },
     "execution_count": 103,
     "metadata": {},
     "output_type": "execute_result"
    }
   ],
   "source": [
    "# To understand trade-off of precision/recall let's look @ how SGD makes classification decisions based on a \n",
    "# \"decision threshold\"\n",
    "y_score = sgd_clf.decision_function([some_digit])\n",
    "y_score"
   ]
  },
  {
   "cell_type": "code",
   "execution_count": 105,
   "metadata": {},
   "outputs": [
    {
     "data": {
      "text/plain": [
       "array([ True])"
      ]
     },
     "execution_count": 105,
     "metadata": {},
     "output_type": "execute_result"
    }
   ],
   "source": [
    "threshold = 0\n",
    "y_some_digit_pred = (y_score > threshold) #check to see if threhold is 0\n",
    "y_some_digit_pred"
   ]
  },
  {
   "cell_type": "code",
   "execution_count": 106,
   "metadata": {},
   "outputs": [
    {
     "data": {
      "text/plain": [
       "array([False])"
      ]
     },
     "execution_count": 106,
     "metadata": {},
     "output_type": "execute_result"
    }
   ],
   "source": [
    "# It returns true since the the SGD Classifier uses a threshold equal to 0. Thus this code returns the same \n",
    "# predict() method\n",
    "\n",
    "threshold = 8000\n",
    "y_some_digit_pred = (y_score > threshold)\n",
    "y_some_digit_pred"
   ]
  },
  {
   "cell_type": "code",
   "execution_count": 108,
   "metadata": {},
   "outputs": [],
   "source": [
    "# Returns false since raising the threshold decreases recall. It detects the five @ a threshold of 0, but\n",
    "# misses @ a threshold of 80000\n",
    "\n",
    "# First, use cross_val_predict function to get cores of all instances in the training set, specifying that \n",
    "# you want the decision scores.\n",
    "y_scores = cross_val_predict(sgd_clf, X_train, y_train_5, cv=3,\n",
    "                             method=\"decision_function\")"
   ]
  },
  {
   "cell_type": "markdown",
   "metadata": {},
   "source": [
    "## ROC Curves"
   ]
  },
  {
   "cell_type": "code",
   "execution_count": 109,
   "metadata": {},
   "outputs": [],
   "source": [
    "# One can use the precision_recall_curve() to compute precision and recall for all possible thresholds\n",
    "from sklearn.metrics import precision_recall_curve\n",
    "\n",
    "precisions, recalls, thresholds = precision_recall_curve(y_train_5, y_scores)"
   ]
  },
  {
   "cell_type": "code",
   "execution_count": 117,
   "metadata": {},
   "outputs": [
    {
     "data": {
      "image/png": "[encoded data removed]",
      "text/plain": [
       "<Figure size 576x288 with 1 Axes>"
      ]
     },
     "metadata": {
      "needs_background": "light"
     },
     "output_type": "display_data"
    }
   ],
   "source": [
    "# plotting preceision and recall as a function of threshold using Matplitlib\n",
    "def plot_precision_recall_vs_threshold(precisions, recalls, thresholds):\n",
    "    plt.plot(thresholds, precisions[:-1], \"b--\", label=\"Precision\", linewidth=2)\n",
    "    plt.plot(thresholds, recalls[:-1], \"g-\", label=\"Recall\", linewidth=2)\n",
    "    plt.legend(loc=\"center right\", fontsize=16) # Not shown in the book\n",
    "    plt.xlabel(\"Threshold\", fontsize=16)        # Not shown\n",
    "    plt.grid(True)                              # Not shown\n",
    "    plt.axis([-50000, 50000, 0, 1])             # Not shown\n",
    "\n",
    "\n",
    "\n",
    "recall_90_precision = recalls[np.argmax(precisions >= 0.90)] # used to create red dottel line for prec. = 0.9\n",
    "threshold_90_precision = thresholds[np.argmax(precisions >= 0.90)]\n",
    "\n",
    "\n",
    "plt.figure(figsize=(8, 4))                                                                  # Not shown\n",
    "plot_precision_recall_vs_threshold(precisions, recalls, thresholds)\n",
    "plt.plot([threshold_90_precision, threshold_90_precision], [0., 0.9], \"r:\")                 # Not shown\n",
    "plt.plot([-50000, threshold_90_precision], [0.9, 0.9], \"r:\")                                # Not shown\n",
    "plt.plot([-50000, threshold_90_precision], [recall_90_precision, recall_90_precision], \"r:\")# Not shown\n",
    "plt.plot([threshold_90_precision], [0.9], \"ro\")                                             # Not shown\n",
    "plt.plot([threshold_90_precision], [recall_90_precision], \"ro\")                             # Not shown\n",
    "                                \n",
    "plt.show()"
   ]
  },
  {
   "cell_type": "code",
   "execution_count": 119,
   "metadata": {},
   "outputs": [
    {
     "data": {
      "image/png": "[encoded data removed]",
      "text/plain": [
       "<Figure size 576x432 with 1 Axes>"
      ]
     },
     "metadata": {
      "needs_background": "light"
     },
     "output_type": "display_data"
    }
   ],
   "source": [
    "# One can also look @ precision vs recall\n",
    "\n",
    "def plot_precision_vs_recall(precisions, recalls):\n",
    "    plt.plot(recalls, precisions, \"b-\", linewidth=2)\n",
    "    plt.xlabel(\"Recall\", fontsize=16)\n",
    "    plt.ylabel(\"Precision\", fontsize=16)\n",
    "    plt.axis([0, 1, 0, 1])\n",
    "    plt.grid(True)\n",
    "\n",
    "plt.figure(figsize=(8, 6))\n",
    "plot_precision_vs_recall(precisions, recalls)\n",
    "plt.plot([recall_90_precision, recall_90_precision], [0., 0.9], \"r:\")\n",
    "plt.plot([0.0, recall_90_precision], [0.9, 0.9], \"r:\")\n",
    "plt.plot([recall_90_precision], [0.9], \"ro\")\n",
    "\n",
    "plt.show()"
   ]
  },
  {
   "cell_type": "code",
   "execution_count": 120,
   "metadata": {},
   "outputs": [],
   "source": [
    "# Let's assume we want a threshold that gives 90% precision. Can find that value using...\n",
    "threshold_90_precision = thresholds[np.argmax(precisions >= 0.90)]"
   ]
  },
  {
   "cell_type": "code",
   "execution_count": 121,
   "metadata": {},
   "outputs": [
    {
     "data": {
      "text/plain": [
       "3370.0194991439557"
      ]
     },
     "execution_count": 121,
     "metadata": {},
     "output_type": "execute_result"
    }
   ],
   "source": [
    "threshold_90_precision"
   ]
  },
  {
   "cell_type": "code",
   "execution_count": 122,
   "metadata": {},
   "outputs": [],
   "source": [
    "#Now check the precision and recall using this value for predictions\n",
    "y_train_pred_90 = (y_scores >= threshold_90_precision)"
   ]
  },
  {
   "cell_type": "code",
   "execution_count": 123,
   "metadata": {},
   "outputs": [
    {
     "data": {
      "text/plain": [
       "0.9000345901072293"
      ]
     },
     "execution_count": 123,
     "metadata": {},
     "output_type": "execute_result"
    }
   ],
   "source": [
    "precision_score(y_train_5, y_train_pred_90)"
   ]
  },
  {
   "cell_type": "code",
   "execution_count": 124,
   "metadata": {},
   "outputs": [
    {
     "data": {
      "text/plain": [
       "0.4799852425751706"
      ]
     },
     "execution_count": 124,
     "metadata": {},
     "output_type": "execute_result"
    }
   ],
   "source": [
    "recall_score(y_train_5, y_train_pred_90)"
   ]
  },
  {
   "cell_type": "code",
   "execution_count": 125,
   "metadata": {},
   "outputs": [],
   "source": [
    "# Next let's look @ a ROC curve (TPR vs FPR) = TP/(TP+FN) vs FP/(TN+FP)\n",
    "from sklearn.metrics import roc_curve\n",
    "\n",
    "fpr, tpr, thresholds = roc_curve(y_train_5, y_scores)"
   ]
  },
  {
   "cell_type": "code",
   "execution_count": 126,
   "metadata": {},
   "outputs": [
    {
     "name": "stdout",
     "output_type": "stream",
     "text": [
      "Saving figure roc_curve_plot\n"
     ]
    },
    {
     "data": {
      "image/png": "[encoded data removed]",
      "text/plain": [
       "<Figure size 576x432 with 1 Axes>"
      ]
     },
     "metadata": {
      "needs_background": "light"
     },
     "output_type": "display_data"
    }
   ],
   "source": [
    "def plot_roc_curve(fpr, tpr, label=None):\n",
    "    plt.plot(fpr, tpr, linewidth=2, label=label)\n",
    "    plt.plot([0, 1], [0, 1], 'k--') # dashed diagonal of purely random classifier\n",
    "    plt.axis([0, 1, 0, 1])                                   \n",
    "    plt.xlabel('False Positive Rate (Fall-Out)', fontsize=16) \n",
    "    plt.ylabel('True Positive Rate (Recall)', fontsize=16)    \n",
    "    plt.grid(True)                                            \n",
    "\n",
    "plt.figure(figsize=(8, 6))        \n",
    "plot_roc_curve(fpr, tpr)\n",
    "fpr_90 = fpr[np.argmax(tpr >= recall_90_precision)]          \n",
    "plt.plot([fpr_90, fpr_90], [0., recall_90_precision], \"r:\")   #highlights chosen ration for prec = 90%\n",
    "plt.plot([0.0, fpr_90], [recall_90_precision, recall_90_precision], \"r:\")  \n",
    "plt.plot([fpr_90], [recall_90_precision], \"ro\")              \n",
    "                                  \n",
    "plt.show()"
   ]
  },
  {
   "cell_type": "code",
   "execution_count": 127,
   "metadata": {},
   "outputs": [
    {
     "data": {
      "text/plain": [
       "0.9604938554008616"
      ]
     },
     "execution_count": 127,
     "metadata": {},
     "output_type": "execute_result"
    }
   ],
   "source": [
    "# Measuring Area Under the Curve (AUC) is a way of testing the accuracy of different classifiers. This is \n",
    "# useful since AUC is scale and classifier invariant. A perfect classifier has has ROC AUC = 1 and a purely\n",
    "# random has an AUC = 0.5 (as shown in dotted line above)\n",
    "from sklearn.metrics import roc_auc_score\n",
    "\n",
    "roc_auc_score(y_train_5, y_scores)"
   ]
  },
  {
   "cell_type": "code",
   "execution_count": 128,
   "metadata": {},
   "outputs": [],
   "source": [
    "# Here we should use the PR curve since our positive class is rare (5s) compared to the negatives (not-5)\n",
    "# This is why ROC AUC is close to one even though th ePR curve should be closer to the top left corner\n",
    "\n",
    "# now let's look at a random forest \n",
    "# \n",
    "from sklearn.ensemble import RandomForestClassifier\n",
    "\n",
    "forest_clf = RandomForestClassifier(n_estimators=100, random_state=42)\n",
    "y_probas_forest = cross_val_predict(forest_clf, X_train, y_train_5, cv=3,\n",
    "                                    method=\"predict_proba\")"
   ]
  },
  {
   "cell_type": "code",
   "execution_count": 129,
   "metadata": {},
   "outputs": [],
   "source": [
    "# Instead of scores we will give the ROC function probabilities \n",
    "y_scores_forest = y_probas_forest[:, 1] # score = proba of positive class\n",
    "fpr_forest, tpr_forest, thresholds_forest = roc_curve(y_train_5,y_scores_forest)"
   ]
  },
  {
   "cell_type": "code",
   "execution_count": 130,
   "metadata": {},
   "outputs": [
    {
     "name": "stdout",
     "output_type": "stream",
     "text": [
      "Saving figure roc_curve_comparison_plot\n"
     ]
    },
    {
     "data": {
      "image/png": "[encoded data removed]",
      "text/plain": [
       "<Figure size 576x432 with 1 Axes>"
      ]
     },
     "metadata": {
      "needs_background": "light"
     },
     "output_type": "display_data"
    }
   ],
   "source": [
    "# Plot forst ROC along SGD ROC to compare preformance\n",
    "recall_for_forest = tpr_forest[np.argmax(fpr_forest >= fpr_90)]\n",
    "\n",
    "plt.figure(figsize=(8, 6))\n",
    "plt.plot(fpr, tpr, \"b:\", linewidth=2, label=\"SGD\")\n",
    "plot_roc_curve(fpr_forest, tpr_forest, \"Random Forest\")\n",
    "plt.plot([fpr_90, fpr_90], [0., recall_90_precision], \"r:\")\n",
    "plt.plot([0.0, fpr_90], [recall_90_precision, recall_90_precision], \"r:\")\n",
    "plt.plot([fpr_90], [recall_90_precision], \"ro\")\n",
    "plt.plot([fpr_90, fpr_90], [0., recall_for_forest], \"r:\")\n",
    "plt.plot([fpr_90], [recall_for_forest], \"ro\")\n",
    "plt.grid(True)\n",
    "plt.legend(loc=\"lower right\", fontsize=16)\n",
    "\n",
    "plt.show()"
   ]
  },
  {
   "cell_type": "code",
   "execution_count": 131,
   "metadata": {},
   "outputs": [
    {
     "data": {
      "text/plain": [
       "0.9983436731328145"
      ]
     },
     "execution_count": 131,
     "metadata": {},
     "output_type": "execute_result"
    }
   ],
   "source": [
    "\n",
    "roc_auc_score(y_train_5, y_scores_forest)"
   ]
  },
  {
   "cell_type": "code",
   "execution_count": 132,
   "metadata": {},
   "outputs": [
    {
     "data": {
      "text/plain": [
       "0.9905083315756169"
      ]
     },
     "execution_count": 132,
     "metadata": {},
     "output_type": "execute_result"
    }
   ],
   "source": [
    "y_train_pred_forest = cross_val_predict(forest_clf, X_train, y_train_5, cv=3)\n",
    "precision_score(y_train_5, y_train_pred_forest)"
   ]
  },
  {
   "cell_type": "code",
   "execution_count": 133,
   "metadata": {},
   "outputs": [
    {
     "data": {
      "text/plain": [
       "0.8662608374838591"
      ]
     },
     "execution_count": 133,
     "metadata": {},
     "output_type": "execute_result"
    }
   ],
   "source": [
    "recall_score(y_train_5, y_train_pred_forest)\n",
    "# These metrics along with the ROC curve show the random forest preforms very well!"
   ]
  },
  {
   "cell_type": "markdown",
   "metadata": {},
   "source": [
    "## Multiclass Classification"
   ]
  },
  {
   "cell_type": "code",
   "execution_count": 135,
   "metadata": {},
   "outputs": [
    {
     "data": {
      "text/plain": [
       "array([5], dtype=uint8)"
      ]
     },
     "execution_count": 135,
     "metadata": {},
     "output_type": "execute_result"
    }
   ],
   "source": [
    "# So far we have used a binary classifier (5 or not-5). Next let's look @ a Multiclass Classification. \n",
    "# This can be done by using multiclass classfiers (SDG, Random Forest, etc.) or by combining binary classfiers\n",
    "# (Logistic Regression or SVM)\n",
    "\n",
    "# Let's try a SVM classifier\n",
    "from sklearn.svm import SVC\n",
    "\n",
    "\n",
    "from sklearn.svm import SVC\n",
    "\n",
    "svm_clf = SVC(gamma=\"auto\", random_state=42) #declare classifier\n",
    "svm_clf.fit(X_train[:1000], y_train[:1000]) #trains using original target class of 0-9\n",
    "svm_clf.predict([some_digit])"
   ]
  },
  {
   "cell_type": "code",
   "execution_count": 136,
   "metadata": {},
   "outputs": [
    {
     "data": {
      "text/plain": [
       "array([[ 2.81585438,  7.09167958,  3.82972099,  0.79365551,  5.8885703 ,\n",
       "         9.29718395,  1.79862509,  8.10392157, -0.228207  ,  4.83753243]])"
      ]
     },
     "execution_count": 136,
     "metadata": {},
     "output_type": "execute_result"
    }
   ],
   "source": [
    "# This method uses the one-versus-one (OvO) strategy. This can be seen by decision _function shows 10 \n",
    "# scores per instance instead of just 1.\n",
    "some_digit_scores = svm_clf.decision_function([some_digit])\n",
    "some_digit_scores"
   ]
  },
  {
   "cell_type": "code",
   "execution_count": 137,
   "metadata": {},
   "outputs": [
    {
     "data": {
      "text/plain": [
       "5"
      ]
     },
     "execution_count": 137,
     "metadata": {},
     "output_type": "execute_result"
    }
   ],
   "source": [
    "# It can be seen that 9.29 is the highest score. By counting you can see this is 5, as expected. \n",
    "# Can also check which class the highest score corresponds to with the following.\n",
    "\n",
    "np.argmax(some_digit_scores)"
   ]
  },
  {
   "cell_type": "code",
   "execution_count": 138,
   "metadata": {},
   "outputs": [
    {
     "data": {
      "text/plain": [
       "array([0, 1, 2, 3, 4, 5, 6, 7, 8, 9], dtype=uint8)"
      ]
     },
     "execution_count": 138,
     "metadata": {},
     "output_type": "execute_result"
    }
   ],
   "source": [
    "# Can look at all target classes using\n",
    "svm_clf.classes_"
   ]
  },
  {
   "cell_type": "code",
   "execution_count": 139,
   "metadata": {},
   "outputs": [
    {
     "data": {
      "text/plain": [
       "5"
      ]
     },
     "execution_count": 139,
     "metadata": {},
     "output_type": "execute_result"
    }
   ],
   "source": [
    "# Can check which class is stored in a given array index using\n",
    "svm_clf.classes_[5]"
   ]
  },
  {
   "cell_type": "code",
   "execution_count": 140,
   "metadata": {},
   "outputs": [
    {
     "data": {
      "text/plain": [
       "array([5], dtype=uint8)"
      ]
     },
     "execution_count": 140,
     "metadata": {},
     "output_type": "execute_result"
    }
   ],
   "source": [
    "# We can also force Scikit-Learn to use OvO or one-verse-the-rest (OvR). Let's now do OvR\n",
    "from sklearn.multiclass import OneVsRestClassifier\n",
    "\n",
    "ovr_clf = OneVsRestClassifier(SVC(gamma=\"auto\", random_state=42))\n",
    "ovr_clf.fit(X_train[:1000], y_train[:1000])\n",
    "ovr_clf.predict([some_digit])"
   ]
  },
  {
   "cell_type": "code",
   "execution_count": 141,
   "metadata": {},
   "outputs": [
    {
     "data": {
      "text/plain": [
       "10"
      ]
     },
     "execution_count": 141,
     "metadata": {},
     "output_type": "execute_result"
    }
   ],
   "source": [
    "# Check that the length of classifier is only 10 since we used OvR\n",
    "len(ovr_clf.estimators_)"
   ]
  },
  {
   "cell_type": "code",
   "execution_count": 142,
   "metadata": {},
   "outputs": [
    {
     "data": {
      "text/plain": [
       "array([[-0.9990256 , -0.99963766, -0.99949709, -0.99902667, -0.99986906,\n",
       "         0.10132159, -0.99976287, -0.99933311, -0.99943631, -0.99924045]])"
      ]
     },
     "execution_count": 142,
     "metadata": {},
     "output_type": "execute_result"
    }
   ],
   "source": [
    "some_digit_scores = ovr_clf.decision_function([some_digit])\n",
    "some_digit_scores"
   ]
  },
  {
   "cell_type": "code",
   "execution_count": 144,
   "metadata": {},
   "outputs": [
    {
     "data": {
      "text/plain": [
       "5"
      ]
     },
     "execution_count": 144,
     "metadata": {},
     "output_type": "execute_result"
    }
   ],
   "source": [
    "np.argmax(some_digit_scores)"
   ]
  },
  {
   "cell_type": "code",
   "execution_count": 146,
   "metadata": {},
   "outputs": [
    {
     "data": {
      "text/plain": [
       "array([3], dtype=uint8)"
      ]
     },
     "execution_count": 146,
     "metadata": {},
     "output_type": "execute_result"
    }
   ],
   "source": [
    "# Now let's train the SGD classifier, a true mutliclass classifier\n",
    "\n",
    "sgd_clf.fit(X_train,y_train)\n",
    "sgd_clf.predict([some_digit])"
   ]
  },
  {
   "cell_type": "code",
   "execution_count": 149,
   "metadata": {},
   "outputs": [
    {
     "data": {
      "text/plain": [
       "array([[-31893.03095419, -34419.69069632,  -9530.63950739,\n",
       "          1823.73154031, -22320.14822878,  -1385.80478895,\n",
       "        -26188.91070951, -16147.51323997,  -4604.35491274,\n",
       "        -12050.767298  ]])"
      ]
     },
     "execution_count": 149,
     "metadata": {},
     "output_type": "execute_result"
    }
   ],
   "source": [
    "# Look @ scores assigned to each classsifer\n",
    "sgd_clf.decision_function([some_digit])"
   ]
  },
  {
   "cell_type": "code",
   "execution_count": 150,
   "metadata": {},
   "outputs": [
    {
     "data": {
      "text/plain": [
       "array([0.87365, 0.85835, 0.8689 ])"
      ]
     },
     "execution_count": 150,
     "metadata": {},
     "output_type": "execute_result"
    }
   ],
   "source": [
    "# This classifier is confident that it is a three\n",
    "# Use cross-validatin to evaluate the classifier\n",
    "cross_val_score(sgd_clf, X_train, y_train, cv=3, scoring=\"accuracy\")"
   ]
  },
  {
   "cell_type": "code",
   "execution_count": 151,
   "metadata": {},
   "outputs": [
    {
     "data": {
      "text/plain": [
       "array([0.8983, 0.891 , 0.9018])"
      ]
     },
     "execution_count": 151,
     "metadata": {},
     "output_type": "execute_result"
    }
   ],
   "source": [
    "# Check that simply scaling (normalizing) the inputs increases the accuracy greatly\n",
    "from sklearn.preprocessing import StandardScaler\n",
    "\n",
    "scaler = StandardScaler()\n",
    "X_train_scaled = scaler.fit_transform(X_train.astype(np.float64)) #Normalized the input (pixels)\n",
    "cross_val_score(sgd_clf, X_train_scaled, y_train, cv=3, scoring=\"accuracy\")"
   ]
  },
  {
   "cell_type": "code",
   "execution_count": 152,
   "metadata": {},
   "outputs": [
    {
     "data": {
      "text/plain": [
       "array([[5577,    0,   22,    5,    8,   43,   36,    6,  225,    1],\n",
       "       [   0, 6400,   37,   24,    4,   44,    4,    7,  212,   10],\n",
       "       [  27,   27, 5220,   92,   73,   27,   67,   36,  378,   11],\n",
       "       [  22,   17,  117, 5227,    2,  203,   27,   40,  403,   73],\n",
       "       [  12,   14,   41,    9, 5182,   12,   34,   27,  347,  164],\n",
       "       [  27,   15,   30,  168,   53, 4444,   75,   14,  535,   60],\n",
       "       [  30,   15,   42,    3,   44,   97, 5552,    3,  131,    1],\n",
       "       [  21,   10,   51,   30,   49,   12,    3, 5684,  195,  210],\n",
       "       [  17,   63,   48,   86,    3,  126,   25,   10, 5429,   44],\n",
       "       [  25,   18,   30,   64,  118,   36,    1,  179,  371, 5107]])"
      ]
     },
     "execution_count": 152,
     "metadata": {},
     "output_type": "execute_result"
    }
   ],
   "source": [
    "# ERROR ANALYSIS\n",
    "# Assuming we have a promising model let's analyze the types of errors our model is making\n",
    "# Fist look at a confusion matrix\n",
    "\n",
    "y_train_pred = cross_val_predict(sgd_clf, X_train_scaled, y_train, cv=3) # get predictions\n",
    "conf_mx = confusion_matrix(y_train, y_train_pred)\n",
    "conf_mx\n"
   ]
  },
  {
   "cell_type": "code",
   "execution_count": 153,
   "metadata": {},
   "outputs": [],
   "source": [
    "# One can see that the numbers along the diagonals (meaning correct classification) are the largest. An easier\n",
    "# way to look at this is an image representatino of the Confusion matrix\n",
    "\n",
    "# since sklearn 0.22, you can use sklearn.metrics.plot_confusion_matrix()\n",
    "def plot_confusion_matrix(matrix):\n",
    "    \"\"\"If you prefer color and a colorbar\"\"\"\n",
    "    fig = plt.figure(figsize=(8,8))\n",
    "    ax = fig.add_subplot(111)\n",
    "    cax = ax.matshow(matrix)\n",
    "    fig.colorbar(cax)"
   ]
  },
  {
   "cell_type": "code",
   "execution_count": 155,
   "metadata": {},
   "outputs": [
    {
     "data": {
      "image/png": "[encoded data removed]",
      "text/plain": [
       "<Figure size 288x288 with 1 Axes>"
      ]
     },
     "metadata": {
      "needs_background": "light"
     },
     "output_type": "display_data"
    }
   ],
   "source": [
    "plt.matshow(conf_mx, cmap=plt.cm.gray)\n",
    "plt.show()"
   ]
  },
  {
   "cell_type": "code",
   "execution_count": 156,
   "metadata": {},
   "outputs": [
    {
     "data": {
      "image/png": "[encoded data removed]",
      "text/plain": [
       "<Figure size 576x576 with 2 Axes>"
      ]
     },
     "metadata": {
      "needs_background": "light"
     },
     "output_type": "display_data"
    }
   ],
   "source": [
    "#or in color\n",
    "plot_confusion_matrix(conf_mx)"
   ]
  },
  {
   "cell_type": "markdown",
   "metadata": {},
   "source": [
    "## Error Analysis"
   ]
  },
  {
   "cell_type": "code",
   "execution_count": 157,
   "metadata": {},
   "outputs": [],
   "source": [
    "# Note five is darker (bluer) than the rest. This could mean that there are fewer images of 5s in the dataset,\n",
    "# or the clasifier does not perform well on 5s\n",
    "\n",
    "# Let's look at errors. To compare error rates we need to divide each value in the confusion matrix by the \n",
    "# number of images in the corresponding class.\n",
    "\n",
    "row_sums = conf_mx.sum(axis=1, keepdims=True) #gets number of images in corresponding class\n",
    "norm_conf_mx = conf_mx / row_sums # normalized conf. matrix"
   ]
  },
  {
   "cell_type": "code",
   "execution_count": 158,
   "metadata": {},
   "outputs": [
    {
     "data": {
      "image/png": "[encoded data removed]",
      "text/plain": [
       "<Figure size 288x288 with 1 Axes>"
      ]
     },
     "metadata": {
      "needs_background": "light"
     },
     "output_type": "display_data"
    }
   ],
   "source": [
    "np.fill_diagonal(norm_conf_mx, 0) #fills diagonals with zero to keep only errors\n",
    "plt.matshow(norm_conf_mx, cmap=plt.cm.gray)\n",
    "plt.show()"
   ]
  },
  {
   "cell_type": "code",
   "execution_count": 159,
   "metadata": {},
   "outputs": [
    {
     "data": {
      "image/png": "[encoded data removed]",
      "text/plain": [
       "<Figure size 576x576 with 4 Axes>"
      ]
     },
     "metadata": {
      "needs_background": "light"
     },
     "output_type": "display_data"
    }
   ],
   "source": [
    "# Above the rows represent actual classes &and the columns represent predicted classes\n",
    "# For example the column 8 is rather bright meaning there were quite a few images misclassified as 8s, but the\n",
    "# row 8 is dark meaning most 8s were classified correctly\n",
    "# This plot suggests we should focus our efforts on reducing false 8s (and the three-five misclassification)\n",
    "\n",
    "# next let's lok at some individual errors, the ones where threes and fives were misclassified\n",
    "# Left two 5 x 5 blocks show objects classified as 3s and the right two blocks show objects classified as fives\n",
    "\n",
    "cl_a, cl_b = 3, 5\n",
    "X_aa = X_train[(y_train == cl_a) & (y_train_pred == cl_a)]\n",
    "X_ab = X_train[(y_train == cl_a) & (y_train_pred == cl_b)]\n",
    "X_ba = X_train[(y_train == cl_b) & (y_train_pred == cl_a)]\n",
    "X_bb = X_train[(y_train == cl_b) & (y_train_pred == cl_b)]\n",
    "\n",
    "plt.figure(figsize=(8,8))\n",
    "plt.subplot(221); plot_digits(X_aa[:25], images_per_row=5)\n",
    "plt.subplot(222); plot_digits(X_ab[:25], images_per_row=5)\n",
    "plt.subplot(223); plot_digits(X_ba[:25], images_per_row=5)\n",
    "plt.subplot(224); plot_digits(X_bb[:25], images_per_row=5)\n",
    "\n",
    "plt.show()"
   ]
  },
  {
   "cell_type": "code",
   "execution_count": 160,
   "metadata": {},
   "outputs": [],
   "source": [
    "# Some are badly written resulting in misclasification, but some seem like more obvious errors. This is due\n",
    "# to using a linear SGD classifer. One could try preprocessing images to make sure they are more centered\n",
    "# and not too rotated."
   ]
  },
  {
   "cell_type": "markdown",
   "metadata": {},
   "source": [
    "# Multilabel Classification"
   ]
  },
  {
   "cell_type": "code",
   "execution_count": 161,
   "metadata": {},
   "outputs": [
    {
     "data": {
      "text/plain": [
       "KNeighborsClassifier()"
      ]
     },
     "execution_count": 161,
     "metadata": {},
     "output_type": "execute_result"
    }
   ],
   "source": [
    "# Here we look at k-nearest neightbor multilable classifier\n",
    "from sklearn.neighbors import KNeighborsClassifier\n",
    "\n",
    "y_train_large = (y_train >= 7) #indicates whether it is a 7, 8, or 9\n",
    "y_train_odd = (y_train % 2 == 1) #checks if it is odd\n",
    "y_multilabel = np.c_[y_train_large, y_train_odd] # creates array containing two labels for each digit\n",
    "\n",
    "knn_clf = KNeighborsClassifier() # creates k-nearest neighbor classifier\n",
    "knn_clf.fit(X_train, y_multilabel) # train K-NN on our two target arrays"
   ]
  },
  {
   "cell_type": "code",
   "execution_count": 162,
   "metadata": {},
   "outputs": [
    {
     "data": {
      "text/plain": [
       "array([[False,  True]])"
      ]
     },
     "execution_count": 162,
     "metadata": {},
     "output_type": "execute_result"
    }
   ],
   "source": [
    "# Make predictions (note: the two ouputs from two target arrays)\n",
    "knn_clf.predict([some_digit])"
   ]
  },
  {
   "cell_type": "code",
   "execution_count": null,
   "metadata": {},
   "outputs": [],
   "source": [
    "# One way to select right metric for a multilabel classifier is to use a F1 score for each label, then\n",
    "# compute the average. This is done in the following code \n",
    "\n",
    "#This code was not ran since it could take hours depending on hardware\n",
    "y_train_knn_pred = cross_val_predict(knn_clf, X_train, y_multilabel, cv=3)\n",
    "f1_score(y_multilabel, y_train_knn_pred, average=\"macro\") # could als set average = \"weighted\" to weight label according to the number of instances"
   ]
  },
  {
   "cell_type": "markdown",
   "metadata": {},
   "source": [
    "## Multioutput Classification"
   ]
  },
  {
   "cell_type": "code",
   "execution_count": 163,
   "metadata": {},
   "outputs": [],
   "source": [
    "# Multioutput classsifcation allows for two possible values of a prediction\n",
    "# To illustrate we build a system that removes noise from images. It is multioutput since there is one \n",
    "# label per pixel and each pixel can have multiple values\n",
    "\n",
    "noise = np.random.randint(0, 100, (len(X_train), 784)) #adds noise using numpy random function\n",
    "X_train_mod = X_train + noise\n",
    "noise = np.random.randint(0, 100, (len(X_test), 784))\n",
    "X_test_mod = X_test + noise\n",
    "y_train_mod = X_train\n",
    "y_test_mod = X_test"
   ]
  },
  {
   "cell_type": "code",
   "execution_count": 164,
   "metadata": {},
   "outputs": [
    {
     "data": {
      "image/png": "[encoded data removed]",
      "text/plain": [
       "<Figure size 432x288 with 2 Axes>"
      ]
     },
     "metadata": {
      "needs_background": "light"
     },
     "output_type": "display_data"
    }
   ],
   "source": [
    "# Lets look at the noise we hav added by comparing noise (left) to non noise (right)\n",
    "some_index = 0\n",
    "plt.subplot(121); plot_digit(X_test_mod[some_index])\n",
    "plt.subplot(122); plot_digit(y_test_mod[some_index])\n",
    "\n",
    "plt.show()"
   ]
  },
  {
   "cell_type": "code",
   "execution_count": 165,
   "metadata": {},
   "outputs": [
    {
     "data": {
      "image/png": "[encoded data removed]",
      "text/plain": [
       "<Figure size 432x288 with 1 Axes>"
      ]
     },
     "metadata": {
      "needs_background": "light"
     },
     "output_type": "display_data"
    }
   ],
   "source": [
    "# Next let's train the classifier to clean this image\n",
    "knn_clf.fit(X_train_mod, y_train_mod)\n",
    "clean_digit = knn_clf.predict([X_test_mod[some_index]])\n",
    "plot_digit(clean_digit)"
   ]
  },
  {
   "cell_type": "markdown",
   "metadata": {},
   "source": [
    "## Exercies"
   ]
  },
  {
   "cell_type": "markdown",
   "metadata": {},
   "source": [
    "## Question 1: \n",
    "Try to create a classifier for the MNIST data set with over 97% accuracy. Hint: K-NN is a good one to try, but you need to adjust the hyperparameters (use a grid search on weights & n_neighbors hyperparameters)"
   ]
  },
  {
   "cell_type": "code",
   "execution_count": 166,
   "metadata": {},
   "outputs": [
    {
     "name": "stdout",
     "output_type": "stream",
     "text": [
      "Fitting 5 folds for each of 6 candidates, totalling 30 fits\n",
      "[CV 1/5] END .................n_neighbors=3, weights=uniform; total time=  43.7s\n",
      "[CV 2/5] END .................n_neighbors=3, weights=uniform; total time=  46.0s\n",
      "[CV 3/5] END .................n_neighbors=3, weights=uniform; total time=  44.2s\n",
      "[CV 4/5] END .................n_neighbors=3, weights=uniform; total time=  57.5s\n",
      "[CV 5/5] END .................n_neighbors=3, weights=uniform; total time=  54.9s\n",
      "[CV 1/5] END ................n_neighbors=3, weights=distance; total time=  57.4s\n",
      "[CV 2/5] END ................n_neighbors=3, weights=distance; total time=  54.5s\n",
      "[CV 3/5] END ................n_neighbors=3, weights=distance; total time=  49.2s\n",
      "[CV 4/5] END ................n_neighbors=3, weights=distance; total time=  57.5s\n",
      "[CV 5/5] END ................n_neighbors=3, weights=distance; total time=  49.6s\n",
      "[CV 1/5] END .................n_neighbors=4, weights=uniform; total time=  52.2s\n",
      "[CV 2/5] END .................n_neighbors=4, weights=uniform; total time= 1.0min\n",
      "[CV 3/5] END .................n_neighbors=4, weights=uniform; total time=  51.8s\n",
      "[CV 4/5] END .................n_neighbors=4, weights=uniform; total time=  45.1s\n",
      "[CV 5/5] END .................n_neighbors=4, weights=uniform; total time=  45.6s\n",
      "[CV 1/5] END ................n_neighbors=4, weights=distance; total time=  44.7s\n",
      "[CV 2/5] END ................n_neighbors=4, weights=distance; total time=  45.1s\n",
      "[CV 3/5] END ................n_neighbors=4, weights=distance; total time=  44.9s\n",
      "[CV 4/5] END ................n_neighbors=4, weights=distance; total time=  45.0s\n",
      "[CV 5/5] END ................n_neighbors=4, weights=distance; total time=  45.4s\n",
      "[CV 1/5] END .................n_neighbors=5, weights=uniform; total time=  44.8s\n",
      "[CV 2/5] END .................n_neighbors=5, weights=uniform; total time=  45.6s\n",
      "[CV 3/5] END .................n_neighbors=5, weights=uniform; total time=  44.8s\n",
      "[CV 4/5] END .................n_neighbors=5, weights=uniform; total time=  45.1s\n",
      "[CV 5/5] END .................n_neighbors=5, weights=uniform; total time=  45.9s\n",
      "[CV 1/5] END ................n_neighbors=5, weights=distance; total time=  44.7s\n",
      "[CV 2/5] END ................n_neighbors=5, weights=distance; total time=  45.3s\n",
      "[CV 3/5] END ................n_neighbors=5, weights=distance; total time=  44.8s\n",
      "[CV 4/5] END ................n_neighbors=5, weights=distance; total time=  45.2s\n",
      "[CV 5/5] END ................n_neighbors=5, weights=distance; total time=  45.6s\n"
     ]
    },
    {
     "data": {
      "text/plain": [
       "GridSearchCV(cv=5, estimator=KNeighborsClassifier(),\n",
       "             param_grid=[{'n_neighbors': [3, 4, 5],\n",
       "                          'weights': ['uniform', 'distance']}],\n",
       "             verbose=3)"
      ]
     },
     "execution_count": 166,
     "metadata": {},
     "output_type": "execute_result"
    }
   ],
   "source": [
    "# Warning: this could take up to 16hrs \n",
    "from sklearn.model_selection import GridSearchCV\n",
    "\n",
    "param_grid = [{'weights': [\"uniform\", \"distance\"], 'n_neighbors': [3, 4, 5]}]\n",
    "\n",
    "knn_clf = KNeighborsClassifier()\n",
    "grid_search = GridSearchCV(knn_clf, param_grid, cv=5, verbose=3)\n",
    "grid_search.fit(X_train, y_train)"
   ]
  },
  {
   "cell_type": "code",
   "execution_count": 167,
   "metadata": {},
   "outputs": [
    {
     "data": {
      "text/plain": [
       "{'n_neighbors': 4, 'weights': 'distance'}"
      ]
     },
     "execution_count": 167,
     "metadata": {},
     "output_type": "execute_result"
    }
   ],
   "source": [
    "grid_search.best_params_"
   ]
  },
  {
   "cell_type": "code",
   "execution_count": 168,
   "metadata": {},
   "outputs": [
    {
     "data": {
      "text/plain": [
       "0.9716166666666666"
      ]
     },
     "execution_count": 168,
     "metadata": {},
     "output_type": "execute_result"
    }
   ],
   "source": [
    "grid_search.best_score_"
   ]
  },
  {
   "cell_type": "code",
   "execution_count": 169,
   "metadata": {},
   "outputs": [
    {
     "data": {
      "text/plain": [
       "0.9714"
      ]
     },
     "execution_count": 169,
     "metadata": {},
     "output_type": "execute_result"
    }
   ],
   "source": [
    "# Check accuracy with the test set\n",
    "from sklearn.metrics import accuracy_score\n",
    "\n",
    "y_pred = grid_search.predict(X_test)\n",
    "accuracy_score(y_test, y_pred)"
   ]
  },
  {
   "cell_type": "markdown",
   "metadata": {},
   "source": [
    "## Question 2: Data Augmentation\n",
    "Write a function that can shift a MNIST image in any direction by one pixel. Then, for each image in the training set, create four shifted copies (one per direciton) and add them to the training set. Finally, triain your best model on this expanded training set and measure it's accuracy. This is called data augmentation and should improve the performance of the model. "
   ]
  },
  {
   "cell_type": "code",
   "execution_count": 170,
   "metadata": {},
   "outputs": [],
   "source": [
    "from scipy.ndimage.interpolation import shift #used to \"shift\" data around"
   ]
  },
  {
   "cell_type": "code",
   "execution_count": 171,
   "metadata": {},
   "outputs": [],
   "source": [
    "def shift_image(image, dx, dy): #create class to shift image in x & y direction by dx & dy amount\n",
    "    image = image.reshape((28, 28))\n",
    "    shifted_image = shift(image, [dy, dx], cval=0, mode=\"constant\")\n",
    "    return shifted_image.reshape([-1])"
   ]
  },
  {
   "cell_type": "code",
   "execution_count": 172,
   "metadata": {},
   "outputs": [
    {
     "data": {
      "image/png": "[encoded data removed]",
      "text/plain": [
       "<Figure size 864x216 with 3 Axes>"
      ]
     },
     "metadata": {
      "needs_background": "light"
     },
     "output_type": "display_data"
    }
   ],
   "source": [
    "# test by shifting an image down and to the left by five pixel and then looking at the augmented images \n",
    "# compared to the original\n",
    "\n",
    "image = X_train[1000]\n",
    "shifted_image_down = shift_image(image, 0, 5)\n",
    "shifted_image_left = shift_image(image, -5, 0)\n",
    "\n",
    "plt.figure(figsize=(12,3))\n",
    "plt.subplot(131)\n",
    "plt.title(\"Original\", fontsize=14)\n",
    "plt.imshow(image.reshape(28, 28), interpolation=\"nearest\", cmap=\"Greys\")\n",
    "plt.subplot(132)\n",
    "plt.title(\"Shifted down\", fontsize=14)\n",
    "plt.imshow(shifted_image_down.reshape(28, 28), interpolation=\"nearest\", cmap=\"Greys\")\n",
    "plt.subplot(133)\n",
    "plt.title(\"Shifted left\", fontsize=14)\n",
    "plt.imshow(shifted_image_left.reshape(28, 28), interpolation=\"nearest\", cmap=\"Greys\")\n",
    "plt.show()"
   ]
  },
  {
   "cell_type": "code",
   "execution_count": 173,
   "metadata": {},
   "outputs": [],
   "source": [
    "# Now lets augment the images by one pixel.\n",
    "X_train_augmented = [image for image in X_train]\n",
    "y_train_augmented = [label for label in y_train]\n",
    "\n",
    "for dx, dy in ((1, 0), (-1, 0), (0, 1), (0, -1)): # moves up, down, left, right by one pixel\n",
    "    for image, label in zip(X_train, y_train):\n",
    "        X_train_augmented.append(shift_image(image, dx, dy))\n",
    "        y_train_augmented.append(label)\n",
    "\n",
    "X_train_augmented = np.array(X_train_augmented) # puts augmented images in a numpy array\n",
    "y_train_augmented = np.array(y_train_augmented)"
   ]
  },
  {
   "cell_type": "code",
   "execution_count": 174,
   "metadata": {},
   "outputs": [],
   "source": [
    "# shuffle the training data\n",
    "shuffle_idx = np.random.permutation(len(X_train_augmented))\n",
    "X_train_augmented = X_train_augmented[shuffle_idx]\n",
    "y_train_augmented = y_train_augmented[shuffle_idx]"
   ]
  },
  {
   "cell_type": "code",
   "execution_count": 175,
   "metadata": {},
   "outputs": [],
   "source": [
    "knn_clf = KNeighborsClassifier(**grid_search.best_params_) #use best parameters from previous search in Question 1"
   ]
  },
  {
   "cell_type": "code",
   "execution_count": 176,
   "metadata": {},
   "outputs": [
    {
     "data": {
      "text/plain": [
       "KNeighborsClassifier(n_neighbors=4, weights='distance')"
      ]
     },
     "execution_count": 176,
     "metadata": {},
     "output_type": "execute_result"
    }
   ],
   "source": [
    "knn_clf.fit(X_train_augmented, y_train_augmented) #train classifier"
   ]
  },
  {
   "cell_type": "code",
   "execution_count": 177,
   "metadata": {},
   "outputs": [
    {
     "data": {
      "text/plain": [
       "0.9763"
      ]
     },
     "execution_count": 177,
     "metadata": {},
     "output_type": "execute_result"
    }
   ],
   "source": [
    "#test new augmented model. Warnging: could take an hour to run depending on hardware. Mine is fast thanks to\n",
    "# SSD card\n",
    "y_pred = knn_clf.predict(X_test)\n",
    "accuracy_score(y_test, y_pred)"
   ]
  },
  {
   "cell_type": "markdown",
   "metadata": {},
   "source": [
    "By simply augmenting the data, we got a 0.5% accuracy boost."
   ]
  },
  {
   "cell_type": "markdown",
   "metadata": {},
   "source": [
    "## Question 3: Tackle the Titanic dataset\n",
    "The goal is to predict whether or not a passenger survived based on attributes such as their age, sex, passenger class, where they embarked and so on.\n",
    "\n",
    "First, login to Kaggle and go to the Titanic challenge to download train.csv and test.csv. Save them to the datasets/titanic directory."
   ]
  },
  {
   "cell_type": "code",
   "execution_count": 178,
   "metadata": {},
   "outputs": [],
   "source": [
    "import os\n",
    "\n",
    "TITANIC_PATH = os.path.join(\"datasets\", \"titanic\")"
   ]
  },
  {
   "cell_type": "code",
   "execution_count": 179,
   "metadata": {},
   "outputs": [],
   "source": [
    "import pandas as pd\n",
    "\n",
    "def load_titanic_data(filename, titanic_path=TITANIC_PATH):\n",
    "    csv_path = os.path.join(titanic_path, filename)\n",
    "    return pd.read_csv(csv_path)"
   ]
  },
  {
   "cell_type": "code",
   "execution_count": 180,
   "metadata": {},
   "outputs": [],
   "source": [
    "train_data = load_titanic_data(\"train.csv\")\n",
    "test_data = load_titanic_data(\"test.csv\")"
   ]
  },
  {
   "cell_type": "markdown",
   "metadata": {},
   "source": [
    "The data is already split into a training set and a test set. However, the test data does not contain the labels: your goal is to train the best model you can using the training data, then make your predictions on the test data and upload them to Kaggle to see your final score.\n",
    "\n",
    "Let's take a peek at the top few rows of the training set:"
   ]
  },
  {
   "cell_type": "code",
   "execution_count": 181,
   "metadata": {},
   "outputs": [
    {
     "data": {
      "text/html": [
       "<div>\n",
       "<style scoped>\n",
       "    .dataframe tbody tr th:only-of-type {\n",
       "        vertical-align: middle;\n",
       "    }\n",
       "\n",
       "    .dataframe tbody tr th {\n",
       "        vertical-align: top;\n",
       "    }\n",
       "\n",
       "    .dataframe thead th {\n",
       "        text-align: right;\n",
       "    }\n",
       "</style>\n",
       "<table border=\"1\" class=\"dataframe\">\n",
       "  <thead>\n",
       "    <tr style=\"text-align: right;\">\n",
       "      <th></th>\n",
       "      <th>PassengerId</th>\n",
       "      <th>Survived</th>\n",
       "      <th>Pclass</th>\n",
       "      <th>Name</th>\n",
       "      <th>Sex</th>\n",
       "      <th>Age</th>\n",
       "      <th>SibSp</th>\n",
       "      <th>Parch</th>\n",
       "      <th>Ticket</th>\n",
       "      <th>Fare</th>\n",
       "      <th>Cabin</th>\n",
       "      <th>Embarked</th>\n",
       "    </tr>\n",
       "  </thead>\n",
       "  <tbody>\n",
       "    <tr>\n",
       "      <th>0</th>\n",
       "      <td>1</td>\n",
       "      <td>0</td>\n",
       "      <td>3</td>\n",
       "      <td>Braund, Mr. Owen Harris</td>\n",
       "      <td>male</td>\n",
       "      <td>22.0</td>\n",
       "      <td>1</td>\n",
       "      <td>0</td>\n",
       "      <td>A/5 21171</td>\n",
       "      <td>7.2500</td>\n",
       "      <td>NaN</td>\n",
       "      <td>S</td>\n",
       "    </tr>\n",
       "    <tr>\n",
       "      <th>1</th>\n",
       "      <td>2</td>\n",
       "      <td>1</td>\n",
       "      <td>1</td>\n",
       "      <td>Cumings, Mrs. John Bradley (Florence Briggs Th...</td>\n",
       "      <td>female</td>\n",
       "      <td>38.0</td>\n",
       "      <td>1</td>\n",
       "      <td>0</td>\n",
       "      <td>PC 17599</td>\n",
       "      <td>71.2833</td>\n",
       "      <td>C85</td>\n",
       "      <td>C</td>\n",
       "    </tr>\n",
       "    <tr>\n",
       "      <th>2</th>\n",
       "      <td>3</td>\n",
       "      <td>1</td>\n",
       "      <td>3</td>\n",
       "      <td>Heikkinen, Miss. Laina</td>\n",
       "      <td>female</td>\n",
       "      <td>26.0</td>\n",
       "      <td>0</td>\n",
       "      <td>0</td>\n",
       "      <td>STON/O2. 3101282</td>\n",
       "      <td>7.9250</td>\n",
       "      <td>NaN</td>\n",
       "      <td>S</td>\n",
       "    </tr>\n",
       "    <tr>\n",
       "      <th>3</th>\n",
       "      <td>4</td>\n",
       "      <td>1</td>\n",
       "      <td>1</td>\n",
       "      <td>Futrelle, Mrs. Jacques Heath (Lily May Peel)</td>\n",
       "      <td>female</td>\n",
       "      <td>35.0</td>\n",
       "      <td>1</td>\n",
       "      <td>0</td>\n",
       "      <td>113803</td>\n",
       "      <td>53.1000</td>\n",
       "      <td>C123</td>\n",
       "      <td>S</td>\n",
       "    </tr>\n",
       "    <tr>\n",
       "      <th>4</th>\n",
       "      <td>5</td>\n",
       "      <td>0</td>\n",
       "      <td>3</td>\n",
       "      <td>Allen, Mr. William Henry</td>\n",
       "      <td>male</td>\n",
       "      <td>35.0</td>\n",
       "      <td>0</td>\n",
       "      <td>0</td>\n",
       "      <td>373450</td>\n",
       "      <td>8.0500</td>\n",
       "      <td>NaN</td>\n",
       "      <td>S</td>\n",
       "    </tr>\n",
       "  </tbody>\n",
       "</table>\n",
       "</div>"
      ],
      "text/plain": [
       "   PassengerId  Survived  Pclass  \\\n",
       "0            1         0       3   \n",
       "1            2         1       1   \n",
       "2            3         1       3   \n",
       "3            4         1       1   \n",
       "4            5         0       3   \n",
       "\n",
       "                                                Name     Sex   Age  SibSp  \\\n",
       "0                            Braund, Mr. Owen Harris    male  22.0      1   \n",
       "1  Cumings, Mrs. John Bradley (Florence Briggs Th...  female  38.0      1   \n",
       "2                             Heikkinen, Miss. Laina  female  26.0      0   \n",
       "3       Futrelle, Mrs. Jacques Heath (Lily May Peel)  female  35.0      1   \n",
       "4                           Allen, Mr. William Henry    male  35.0      0   \n",
       "\n",
       "   Parch            Ticket     Fare Cabin Embarked  \n",
       "0      0         A/5 21171   7.2500   NaN        S  \n",
       "1      0          PC 17599  71.2833   C85        C  \n",
       "2      0  STON/O2. 3101282   7.9250   NaN        S  \n",
       "3      0            113803  53.1000  C123        S  \n",
       "4      0            373450   8.0500   NaN        S  "
      ]
     },
     "execution_count": 181,
     "metadata": {},
     "output_type": "execute_result"
    }
   ],
   "source": [
    "train_data.head()"
   ]
  },
  {
   "cell_type": "markdown",
   "metadata": {},
   "source": [
    "The attributes have the following meaning:\n",
    "\n",
    "Survived: that's the target, 0 means the passenger did not survive, while 1 means he/she survived.\n",
    "\n",
    "Pclass: passenger class.\n",
    "\n",
    "Name, Sex, Age: self-explanatory\n",
    "\n",
    "SibSp: how many siblings & spouses of the passenger aboard the Titanic.\n",
    "\n",
    "Parch: how many children & parents of the passenger aboard the Titanic.\n",
    "\n",
    "Ticket: ticket id\n",
    "\n",
    "Fare: price paid (in pounds)\n",
    "\n",
    "Cabin: passenger's cabin number\n",
    "\n",
    "Embarked: where the passenger embarked the Titanic"
   ]
  },
  {
   "cell_type": "markdown",
   "metadata": {},
   "source": [
    "Let's get more info to see how much data is missing..."
   ]
  },
  {
   "cell_type": "code",
   "execution_count": 182,
   "metadata": {},
   "outputs": [
    {
     "name": "stdout",
     "output_type": "stream",
     "text": [
      "<class 'pandas.core.frame.DataFrame'>\n",
      "RangeIndex: 891 entries, 0 to 890\n",
      "Data columns (total 12 columns):\n",
      " #   Column       Non-Null Count  Dtype  \n",
      "---  ------       --------------  -----  \n",
      " 0   PassengerId  891 non-null    int64  \n",
      " 1   Survived     891 non-null    int64  \n",
      " 2   Pclass       891 non-null    int64  \n",
      " 3   Name         891 non-null    object \n",
      " 4   Sex          891 non-null    object \n",
      " 5   Age          714 non-null    float64\n",
      " 6   SibSp        891 non-null    int64  \n",
      " 7   Parch        891 non-null    int64  \n",
      " 8   Ticket       891 non-null    object \n",
      " 9   Fare         891 non-null    float64\n",
      " 10  Cabin        204 non-null    object \n",
      " 11  Embarked     889 non-null    object \n",
      "dtypes: float64(2), int64(5), object(5)\n",
      "memory usage: 83.7+ KB\n"
     ]
    }
   ],
   "source": [
    "train_data.info()"
   ]
  },
  {
   "cell_type": "markdown",
   "metadata": {},
   "source": [
    "Age, Cabin and Embarked attributes are sometimes null (less than 891 non-null), especially the Cabin (77% are null). We will ignore the Cabin for now and focus on the rest. The Age attribute has about 19% null values, but is probably an important attribute. We will need to decide what to do with them. Replacing null values with the median age seems reasonable.\n",
    "\n",
    "The Name and Ticket attributes may have some value, but they will be a bit tricky to convert into useful numbers that a model can consume. So for now, we will ignore them."
   ]
  },
  {
   "cell_type": "code",
   "execution_count": 183,
   "metadata": {},
   "outputs": [
    {
     "data": {
      "text/html": [
       "<div>\n",
       "<style scoped>\n",
       "    .dataframe tbody tr th:only-of-type {\n",
       "        vertical-align: middle;\n",
       "    }\n",
       "\n",
       "    .dataframe tbody tr th {\n",
       "        vertical-align: top;\n",
       "    }\n",
       "\n",
       "    .dataframe thead th {\n",
       "        text-align: right;\n",
       "    }\n",
       "</style>\n",
       "<table border=\"1\" class=\"dataframe\">\n",
       "  <thead>\n",
       "    <tr style=\"text-align: right;\">\n",
       "      <th></th>\n",
       "      <th>PassengerId</th>\n",
       "      <th>Survived</th>\n",
       "      <th>Pclass</th>\n",
       "      <th>Age</th>\n",
       "      <th>SibSp</th>\n",
       "      <th>Parch</th>\n",
       "      <th>Fare</th>\n",
       "    </tr>\n",
       "  </thead>\n",
       "  <tbody>\n",
       "    <tr>\n",
       "      <th>count</th>\n",
       "      <td>891.000000</td>\n",
       "      <td>891.000000</td>\n",
       "      <td>891.000000</td>\n",
       "      <td>714.000000</td>\n",
       "      <td>891.000000</td>\n",
       "      <td>891.000000</td>\n",
       "      <td>891.000000</td>\n",
       "    </tr>\n",
       "    <tr>\n",
       "      <th>mean</th>\n",
       "      <td>446.000000</td>\n",
       "      <td>0.383838</td>\n",
       "      <td>2.308642</td>\n",
       "      <td>29.699118</td>\n",
       "      <td>0.523008</td>\n",
       "      <td>0.381594</td>\n",
       "      <td>32.204208</td>\n",
       "    </tr>\n",
       "    <tr>\n",
       "      <th>std</th>\n",
       "      <td>257.353842</td>\n",
       "      <td>0.486592</td>\n",
       "      <td>0.836071</td>\n",
       "      <td>14.526497</td>\n",
       "      <td>1.102743</td>\n",
       "      <td>0.806057</td>\n",
       "      <td>49.693429</td>\n",
       "    </tr>\n",
       "    <tr>\n",
       "      <th>min</th>\n",
       "      <td>1.000000</td>\n",
       "      <td>0.000000</td>\n",
       "      <td>1.000000</td>\n",
       "      <td>0.420000</td>\n",
       "      <td>0.000000</td>\n",
       "      <td>0.000000</td>\n",
       "      <td>0.000000</td>\n",
       "    </tr>\n",
       "    <tr>\n",
       "      <th>25%</th>\n",
       "      <td>223.500000</td>\n",
       "      <td>0.000000</td>\n",
       "      <td>2.000000</td>\n",
       "      <td>20.125000</td>\n",
       "      <td>0.000000</td>\n",
       "      <td>0.000000</td>\n",
       "      <td>7.910400</td>\n",
       "    </tr>\n",
       "    <tr>\n",
       "      <th>50%</th>\n",
       "      <td>446.000000</td>\n",
       "      <td>0.000000</td>\n",
       "      <td>3.000000</td>\n",
       "      <td>28.000000</td>\n",
       "      <td>0.000000</td>\n",
       "      <td>0.000000</td>\n",
       "      <td>14.454200</td>\n",
       "    </tr>\n",
       "    <tr>\n",
       "      <th>75%</th>\n",
       "      <td>668.500000</td>\n",
       "      <td>1.000000</td>\n",
       "      <td>3.000000</td>\n",
       "      <td>38.000000</td>\n",
       "      <td>1.000000</td>\n",
       "      <td>0.000000</td>\n",
       "      <td>31.000000</td>\n",
       "    </tr>\n",
       "    <tr>\n",
       "      <th>max</th>\n",
       "      <td>891.000000</td>\n",
       "      <td>1.000000</td>\n",
       "      <td>3.000000</td>\n",
       "      <td>80.000000</td>\n",
       "      <td>8.000000</td>\n",
       "      <td>6.000000</td>\n",
       "      <td>512.329200</td>\n",
       "    </tr>\n",
       "  </tbody>\n",
       "</table>\n",
       "</div>"
      ],
      "text/plain": [
       "       PassengerId    Survived      Pclass         Age       SibSp  \\\n",
       "count   891.000000  891.000000  891.000000  714.000000  891.000000   \n",
       "mean    446.000000    0.383838    2.308642   29.699118    0.523008   \n",
       "std     257.353842    0.486592    0.836071   14.526497    1.102743   \n",
       "min       1.000000    0.000000    1.000000    0.420000    0.000000   \n",
       "25%     223.500000    0.000000    2.000000   20.125000    0.000000   \n",
       "50%     446.000000    0.000000    3.000000   28.000000    0.000000   \n",
       "75%     668.500000    1.000000    3.000000   38.000000    1.000000   \n",
       "max     891.000000    1.000000    3.000000   80.000000    8.000000   \n",
       "\n",
       "            Parch        Fare  \n",
       "count  891.000000  891.000000  \n",
       "mean     0.381594   32.204208  \n",
       "std      0.806057   49.693429  \n",
       "min      0.000000    0.000000  \n",
       "25%      0.000000    7.910400  \n",
       "50%      0.000000   14.454200  \n",
       "75%      0.000000   31.000000  \n",
       "max      6.000000  512.329200  "
      ]
     },
     "execution_count": 183,
     "metadata": {},
     "output_type": "execute_result"
    }
   ],
   "source": [
    "# The following code looks @ the numerical attributes of data\n",
    "train_data.describe()"
   ]
  },
  {
   "cell_type": "markdown",
   "metadata": {},
   "source": [
    "Only 38% Survived. \n",
    "The mean Fare was £32.20, which does not seem so expensive (but it was probably a lot of money back then).\n",
    "The mean Age was less than 30 years old."
   ]
  },
  {
   "cell_type": "code",
   "execution_count": 184,
   "metadata": {},
   "outputs": [
    {
     "data": {
      "text/plain": [
       "0    549\n",
       "1    342\n",
       "Name: Survived, dtype: int64"
      ]
     },
     "execution_count": 184,
     "metadata": {},
     "output_type": "execute_result"
    }
   ],
   "source": [
    "# The following code looks at the \"Survived\" category to make sure it is either a 0 or 1\n",
    "train_data[\"Survived\"].value_counts()"
   ]
  },
  {
   "cell_type": "markdown",
   "metadata": {},
   "source": [
    "Take a look @ all categorical attributes to see what the attributes they have"
   ]
  },
  {
   "cell_type": "code",
   "execution_count": 185,
   "metadata": {},
   "outputs": [
    {
     "data": {
      "text/plain": [
       "male      577\n",
       "female    314\n",
       "Name: Sex, dtype: int64"
      ]
     },
     "execution_count": 185,
     "metadata": {},
     "output_type": "execute_result"
    }
   ],
   "source": [
    "train_data[\"Sex\"].value_counts()"
   ]
  },
  {
   "cell_type": "code",
   "execution_count": 186,
   "metadata": {},
   "outputs": [
    {
     "data": {
      "text/plain": [
       "3    491\n",
       "1    216\n",
       "2    184\n",
       "Name: Pclass, dtype: int64"
      ]
     },
     "execution_count": 186,
     "metadata": {},
     "output_type": "execute_result"
    }
   ],
   "source": [
    "train_data[\"Pclass\"].value_counts()"
   ]
  },
  {
   "cell_type": "code",
   "execution_count": 187,
   "metadata": {},
   "outputs": [
    {
     "data": {
      "text/plain": [
       "S    644\n",
       "C    168\n",
       "Q     77\n",
       "Name: Embarked, dtype: int64"
      ]
     },
     "execution_count": 187,
     "metadata": {},
     "output_type": "execute_result"
    }
   ],
   "source": [
    "train_data[\"Embarked\"].value_counts() # Passengers embarked from C=Cherbourg, Q=Queenstown, or S=Southampton."
   ]
  },
  {
   "cell_type": "markdown",
   "metadata": {},
   "source": [
    "Now let's build our preprocessing pipelines. We will reuse the DataframeSelector we built in the previous chapter to select specific attributes from the DataFrame. The code below uses a mix of Pipeline, FeatureUnion and a custom DataFrameSelector to preprocess some columns differently. Since Scikit-Learn 0.20, it is preferable to use a ColumnTransformer"
   ]
  },
  {
   "cell_type": "code",
   "execution_count": 191,
   "metadata": {},
   "outputs": [],
   "source": [
    "from sklearn.base import BaseEstimator, TransformerMixin\n",
    "\n",
    "class DataFrameSelector(BaseEstimator, TransformerMixin): #Gets attribute names\n",
    "    def __init__(self, attribute_names):\n",
    "        self.attribute_names = attribute_names\n",
    "    def fit(self, X, y=None):\n",
    "        return self\n",
    "    def transform(self, X):\n",
    "        return X[self.attribute_names]"
   ]
  },
  {
   "cell_type": "code",
   "execution_count": 192,
   "metadata": {},
   "outputs": [],
   "source": [
    "from sklearn.pipeline import Pipeline\n",
    "from sklearn.impute import SimpleImputer\n",
    "\n",
    "num_pipeline = Pipeline([\n",
    "        (\"select_numeric\", DataFrameSelector([\"Age\", \"SibSp\", \"Parch\", \"Fare\"])),\n",
    "        (\"imputer\", SimpleImputer(strategy=\"median\")),\n",
    "    ])"
   ]
  },
  {
   "cell_type": "code",
   "execution_count": 193,
   "metadata": {},
   "outputs": [
    {
     "data": {
      "text/plain": [
       "array([[22.    ,  1.    ,  0.    ,  7.25  ],\n",
       "       [38.    ,  1.    ,  0.    , 71.2833],\n",
       "       [26.    ,  0.    ,  0.    ,  7.925 ],\n",
       "       ...,\n",
       "       [28.    ,  1.    ,  2.    , 23.45  ],\n",
       "       [26.    ,  0.    ,  0.    , 30.    ],\n",
       "       [32.    ,  0.    ,  0.    ,  7.75  ]])"
      ]
     },
     "execution_count": 193,
     "metadata": {},
     "output_type": "execute_result"
    }
   ],
   "source": [
    "num_pipeline.fit_transform(train_data)"
   ]
  },
  {
   "cell_type": "markdown",
   "metadata": {},
   "source": [
    "We will also need an imputer for the string categorical columns (the regular SimpleImputer does not work on those)"
   ]
  },
  {
   "cell_type": "code",
   "execution_count": 194,
   "metadata": {},
   "outputs": [],
   "source": [
    "# Inspired from stackoverflow.com/questions/25239958\n",
    "class MostFrequentImputer(BaseEstimator, TransformerMixin):\n",
    "    def fit(self, X, y=None):\n",
    "        self.most_frequent_ = pd.Series([X[c].value_counts().index[0] for c in X],\n",
    "                                        index=X.columns)\n",
    "        return self\n",
    "    def transform(self, X, y=None):\n",
    "        return X.fillna(self.most_frequent_)"
   ]
  },
  {
   "cell_type": "code",
   "execution_count": 195,
   "metadata": {},
   "outputs": [],
   "source": [
    "from sklearn.preprocessing import OneHotEncoder\n"
   ]
  },
  {
   "cell_type": "markdown",
   "metadata": {},
   "source": [
    "Now we can build the pipeline for the categorical attributes"
   ]
  },
  {
   "cell_type": "code",
   "execution_count": 196,
   "metadata": {},
   "outputs": [],
   "source": [
    "#Convert data to numeric\n",
    "cat_pipeline = Pipeline([\n",
    "        (\"select_cat\", DataFrameSelector([\"Pclass\", \"Sex\", \"Embarked\"])),\n",
    "        (\"imputer\", MostFrequentImputer()),\n",
    "        (\"cat_encoder\", OneHotEncoder(sparse=False)), \n",
    "    ])"
   ]
  },
  {
   "cell_type": "code",
   "execution_count": 197,
   "metadata": {},
   "outputs": [
    {
     "data": {
      "text/plain": [
       "array([[0., 0., 1., ..., 0., 0., 1.],\n",
       "       [1., 0., 0., ..., 1., 0., 0.],\n",
       "       [0., 0., 1., ..., 0., 0., 1.],\n",
       "       ...,\n",
       "       [0., 0., 1., ..., 0., 0., 1.],\n",
       "       [1., 0., 0., ..., 1., 0., 0.],\n",
       "       [0., 0., 1., ..., 0., 1., 0.]])"
      ]
     },
     "execution_count": 197,
     "metadata": {},
     "output_type": "execute_result"
    }
   ],
   "source": [
    "cat_pipeline.fit_transform(train_data)"
   ]
  },
  {
   "cell_type": "code",
   "execution_count": 198,
   "metadata": {},
   "outputs": [],
   "source": [
    "# Combine the numerical and categorical data\n",
    "\n",
    "from sklearn.pipeline import FeatureUnion\n",
    "preprocess_pipeline = FeatureUnion(transformer_list=[\n",
    "        (\"num_pipeline\", num_pipeline),\n",
    "        (\"cat_pipeline\", cat_pipeline),\n",
    "    ])"
   ]
  },
  {
   "cell_type": "markdown",
   "metadata": {},
   "source": [
    "Now we have a nice preprocessing pipeline that takes the raw data and outputs numerical input features that we can feed to any Machine Learning model we want"
   ]
  },
  {
   "cell_type": "code",
   "execution_count": 199,
   "metadata": {},
   "outputs": [
    {
     "data": {
      "text/plain": [
       "array([[22.,  1.,  0., ...,  0.,  0.,  1.],\n",
       "       [38.,  1.,  0., ...,  1.,  0.,  0.],\n",
       "       [26.,  0.,  0., ...,  0.,  0.,  1.],\n",
       "       ...,\n",
       "       [28.,  1.,  2., ...,  0.,  0.,  1.],\n",
       "       [26.,  0.,  0., ...,  1.,  0.,  0.],\n",
       "       [32.,  0.,  0., ...,  0.,  1.,  0.]])"
      ]
     },
     "execution_count": 199,
     "metadata": {},
     "output_type": "execute_result"
    }
   ],
   "source": [
    "# Splitting training data into label and instances\n",
    "X_train = preprocess_pipeline.fit_transform(train_data)\n",
    "X_train"
   ]
  },
  {
   "cell_type": "code",
   "execution_count": 200,
   "metadata": {},
   "outputs": [],
   "source": [
    "y_train = train_data[\"Survived\"]"
   ]
  },
  {
   "cell_type": "markdown",
   "metadata": {},
   "source": [
    "We are now ready to train a classifier. Let's start with an SVC"
   ]
  },
  {
   "cell_type": "code",
   "execution_count": 201,
   "metadata": {},
   "outputs": [
    {
     "data": {
      "text/plain": [
       "SVC(gamma='auto')"
      ]
     },
     "execution_count": 201,
     "metadata": {},
     "output_type": "execute_result"
    }
   ],
   "source": [
    "from sklearn.svm import SVC\n",
    "\n",
    "svm_clf = SVC(gamma=\"auto\")\n",
    "svm_clf.fit(X_train, y_train)"
   ]
  },
  {
   "cell_type": "code",
   "execution_count": 202,
   "metadata": {},
   "outputs": [],
   "source": [
    "X_test = preprocess_pipeline.transform(test_data)\n",
    "y_pred = svm_clf.predict(X_test)"
   ]
  },
  {
   "cell_type": "markdown",
   "metadata": {},
   "source": [
    "And now we could just build a CSV file with these predictions (respecting the format excepted by Kaggle), then upload it and hope for the best. Now let's use cross-validation to have an idea of how good our model is?"
   ]
  },
  {
   "cell_type": "code",
   "execution_count": 203,
   "metadata": {},
   "outputs": [
    {
     "data": {
      "text/plain": [
       "0.7329588014981274"
      ]
     },
     "execution_count": 203,
     "metadata": {},
     "output_type": "execute_result"
    }
   ],
   "source": [
    "from sklearn.model_selection import cross_val_score\n",
    "\n",
    "svm_scores = cross_val_score(svm_clf, X_train, y_train, cv=10)\n",
    "svm_scores.mean()"
   ]
  },
  {
   "cell_type": "markdown",
   "metadata": {},
   "source": [
    "About 73% accuracy, clearly better than random chance, but it's not a great score. Looking at the leaderboard for the Titanic competition on Kaggle, you can see that you need to reach above 80% accuracy to be within the top 10% Kagglers. Let's try to build a model that reaches 80% accuracy."
   ]
  },
  {
   "cell_type": "markdown",
   "metadata": {},
   "source": [
    "Let's try a RandomForestClassifier"
   ]
  },
  {
   "cell_type": "code",
   "execution_count": 204,
   "metadata": {},
   "outputs": [
    {
     "data": {
      "text/plain": [
       "0.8126466916354558"
      ]
     },
     "execution_count": 204,
     "metadata": {},
     "output_type": "execute_result"
    }
   ],
   "source": [
    "from sklearn.ensemble import RandomForestClassifier\n",
    "\n",
    "forest_clf = RandomForestClassifier(n_estimators=100, random_state=42)\n",
    "forest_scores = cross_val_score(forest_clf, X_train, y_train, cv=10)\n",
    "forest_scores.mean()"
   ]
  },
  {
   "cell_type": "markdown",
   "metadata": {},
   "source": [
    "That's much better!\n",
    "\n",
    "Instead of just looking at the mean accuracy across the 10 cross-validation folds, let's plot all 10 scores for each model, along with a box plot highlighting the lower and upper quartiles, and \"whiskers\" showing the extent of the scores (thanks to Nevin Yilmaz for suggesting this visualization). Note that the boxplot() function detects outliers (called \"fliers\") and does not include them within the whiskers. Specifically, if the lower quartile is $Q_1$ and the upper quartile is $Q_3$, then the interquartile range $IQR = Q_3 - Q_1$ (this is the box's height), and any score lower than $Q_1 - 1.5 \\times IQR$ is a flier, and so is any score greater than $Q3 + 1.5 \\times IQR$"
   ]
  },
  {
   "cell_type": "code",
   "execution_count": 205,
   "metadata": {},
   "outputs": [
    {
     "data": {
      "image/png": "[encoded data removed]",
      "text/plain": [
       "<Figure size 576x288 with 1 Axes>"
      ]
     },
     "metadata": {
      "needs_background": "light"
     },
     "output_type": "display_data"
    }
   ],
   "source": [
    "plt.figure(figsize=(8, 4))\n",
    "plt.plot([1]*10, svm_scores, \".\")\n",
    "plt.plot([2]*10, forest_scores, \".\")\n",
    "plt.boxplot([svm_scores, forest_scores], labels=(\"SVM\",\"Random Forest\"))\n",
    "plt.ylabel(\"Accuracy\", fontsize=14)\n",
    "plt.show()"
   ]
  },
  {
   "cell_type": "markdown",
   "metadata": {},
   "source": [
    "To improve this result further, you could:\n",
    "\n",
    "1. Compare many more models and tune hyperparameters using cross validation and grid search,\n",
    "2. Do more feature engineering, for example: replace SibSp and Parch with their sum, try to identify parts of names that correlate well with the Survived attribute (e.g. if the name contains \"Countess\", then survival seems more likely),\n",
    "3. try to convert numerical attributes to categorical attributes: for example, different age groups had very different survival rates (see below), so it may help to create an age bucket category and use it instead of the age. Similarly, it may be useful to have a special category for people traveling alone since only 30% of them survived (see below)."
   ]
  },
  {
   "cell_type": "code",
   "execution_count": 206,
   "metadata": {},
   "outputs": [
    {
     "data": {
      "text/html": [
       "<div>\n",
       "<style scoped>\n",
       "    .dataframe tbody tr th:only-of-type {\n",
       "        vertical-align: middle;\n",
       "    }\n",
       "\n",
       "    .dataframe tbody tr th {\n",
       "        vertical-align: top;\n",
       "    }\n",
       "\n",
       "    .dataframe thead th {\n",
       "        text-align: right;\n",
       "    }\n",
       "</style>\n",
       "<table border=\"1\" class=\"dataframe\">\n",
       "  <thead>\n",
       "    <tr style=\"text-align: right;\">\n",
       "      <th></th>\n",
       "      <th>Survived</th>\n",
       "    </tr>\n",
       "    <tr>\n",
       "      <th>AgeBucket</th>\n",
       "      <th></th>\n",
       "    </tr>\n",
       "  </thead>\n",
       "  <tbody>\n",
       "    <tr>\n",
       "      <th>0.0</th>\n",
       "      <td>0.576923</td>\n",
       "    </tr>\n",
       "    <tr>\n",
       "      <th>15.0</th>\n",
       "      <td>0.362745</td>\n",
       "    </tr>\n",
       "    <tr>\n",
       "      <th>30.0</th>\n",
       "      <td>0.423256</td>\n",
       "    </tr>\n",
       "    <tr>\n",
       "      <th>45.0</th>\n",
       "      <td>0.404494</td>\n",
       "    </tr>\n",
       "    <tr>\n",
       "      <th>60.0</th>\n",
       "      <td>0.240000</td>\n",
       "    </tr>\n",
       "    <tr>\n",
       "      <th>75.0</th>\n",
       "      <td>1.000000</td>\n",
       "    </tr>\n",
       "  </tbody>\n",
       "</table>\n",
       "</div>"
      ],
      "text/plain": [
       "           Survived\n",
       "AgeBucket          \n",
       "0.0        0.576923\n",
       "15.0       0.362745\n",
       "30.0       0.423256\n",
       "45.0       0.404494\n",
       "60.0       0.240000\n",
       "75.0       1.000000"
      ]
     },
     "execution_count": 206,
     "metadata": {},
     "output_type": "execute_result"
    }
   ],
   "source": [
    "train_data[\"AgeBucket\"] = train_data[\"Age\"] // 15 * 15\n",
    "train_data[[\"AgeBucket\", \"Survived\"]].groupby(['AgeBucket']).mean()"
   ]
  },
  {
   "cell_type": "code",
   "execution_count": 207,
   "metadata": {},
   "outputs": [
    {
     "data": {
      "text/html": [
       "<div>\n",
       "<style scoped>\n",
       "    .dataframe tbody tr th:only-of-type {\n",
       "        vertical-align: middle;\n",
       "    }\n",
       "\n",
       "    .dataframe tbody tr th {\n",
       "        vertical-align: top;\n",
       "    }\n",
       "\n",
       "    .dataframe thead th {\n",
       "        text-align: right;\n",
       "    }\n",
       "</style>\n",
       "<table border=\"1\" class=\"dataframe\">\n",
       "  <thead>\n",
       "    <tr style=\"text-align: right;\">\n",
       "      <th></th>\n",
       "      <th>Survived</th>\n",
       "    </tr>\n",
       "    <tr>\n",
       "      <th>RelativesOnboard</th>\n",
       "      <th></th>\n",
       "    </tr>\n",
       "  </thead>\n",
       "  <tbody>\n",
       "    <tr>\n",
       "      <th>0</th>\n",
       "      <td>0.303538</td>\n",
       "    </tr>\n",
       "    <tr>\n",
       "      <th>1</th>\n",
       "      <td>0.552795</td>\n",
       "    </tr>\n",
       "    <tr>\n",
       "      <th>2</th>\n",
       "      <td>0.578431</td>\n",
       "    </tr>\n",
       "    <tr>\n",
       "      <th>3</th>\n",
       "      <td>0.724138</td>\n",
       "    </tr>\n",
       "    <tr>\n",
       "      <th>4</th>\n",
       "      <td>0.200000</td>\n",
       "    </tr>\n",
       "    <tr>\n",
       "      <th>5</th>\n",
       "      <td>0.136364</td>\n",
       "    </tr>\n",
       "    <tr>\n",
       "      <th>6</th>\n",
       "      <td>0.333333</td>\n",
       "    </tr>\n",
       "    <tr>\n",
       "      <th>7</th>\n",
       "      <td>0.000000</td>\n",
       "    </tr>\n",
       "    <tr>\n",
       "      <th>10</th>\n",
       "      <td>0.000000</td>\n",
       "    </tr>\n",
       "  </tbody>\n",
       "</table>\n",
       "</div>"
      ],
      "text/plain": [
       "                  Survived\n",
       "RelativesOnboard          \n",
       "0                 0.303538\n",
       "1                 0.552795\n",
       "2                 0.578431\n",
       "3                 0.724138\n",
       "4                 0.200000\n",
       "5                 0.136364\n",
       "6                 0.333333\n",
       "7                 0.000000\n",
       "10                0.000000"
      ]
     },
     "execution_count": 207,
     "metadata": {},
     "output_type": "execute_result"
    }
   ],
   "source": [
    "train_data[\"RelativesOnboard\"] = train_data[\"SibSp\"] + train_data[\"Parch\"]\n",
    "train_data[[\"RelativesOnboard\", \"Survived\"]].groupby(['RelativesOnboard']).mean()"
   ]
  },
  {
   "cell_type": "markdown",
   "metadata": {},
   "source": [
    "## Question 4: Spam Filter"
   ]
  },
  {
   "cell_type": "code",
   "execution_count": 9,
   "metadata": {},
   "outputs": [],
   "source": [
    "import os\n",
    "import tarfile # allows tarfile access\n",
    "import urllib.request # Library for opening URLs\n",
    "\n",
    "DOWNLOAD_ROOT = \"http://spamassassin.apache.org/old/publiccorpus/\"\n",
    "HAM_URL = DOWNLOAD_ROOT + \"20030228_easy_ham.tar.bz2\"\n",
    "SPAM_URL = DOWNLOAD_ROOT + \"20030228_spam.tar.bz2\"\n",
    "SPAM_PATH = os.path.join(\"datasets\", \"spam\")\n",
    "\n",
    "def fetch_spam_data(spam_url=SPAM_URL, spam_path=SPAM_PATH):\n",
    "    if not os.path.isdir(spam_path):\n",
    "        os.makedirs(spam_path)\n",
    "    for filename, url in ((\"ham.tar.bz2\", HAM_URL), (\"spam.tar.bz2\", SPAM_URL)):\n",
    "        path = os.path.join(spam_path, filename)\n",
    "        if not os.path.isfile(path):\n",
    "            urllib.request.urlretrieve(url, path)\n",
    "        tar_bz2_file = tarfile.open(path)\n",
    "        tar_bz2_file.extractall(path=SPAM_PATH)\n",
    "        tar_bz2_file.close()"
   ]
  },
  {
   "cell_type": "code",
   "execution_count": 10,
   "metadata": {},
   "outputs": [],
   "source": [
    "# Get SPAM data from path\n",
    "fetch_spam_data()"
   ]
  },
  {
   "cell_type": "code",
   "execution_count": 15,
   "metadata": {},
   "outputs": [],
   "source": [
    "# Load the emails\n",
    "HAM_DIR = os.path.join(SPAM_PATH, \"easy_ham\")\n",
    "SPAM_DIR = os.path.join(SPAM_PATH, \"spam\")\n",
    "ham_filenames = [name for name in sorted(os.listdir(HAM_DIR)) if len(name) > 20] # > 20 ensures legit files\n",
    "spam_filenames = [name for name in sorted(os.listdir(SPAM_DIR)) if len(name) > 20] "
   ]
  },
  {
   "cell_type": "code",
   "execution_count": 16,
   "metadata": {},
   "outputs": [
    {
     "data": {
      "text/plain": [
       "2500"
      ]
     },
     "execution_count": 16,
     "metadata": {},
     "output_type": "execute_result"
    }
   ],
   "source": [
    "len(ham_filenames)"
   ]
  },
  {
   "cell_type": "code",
   "execution_count": 17,
   "metadata": {},
   "outputs": [
    {
     "data": {
      "text/plain": [
       "500"
      ]
     },
     "execution_count": 17,
     "metadata": {},
     "output_type": "execute_result"
    }
   ],
   "source": [
    "len(spam_filenames)"
   ]
  },
  {
   "cell_type": "code",
   "execution_count": 19,
   "metadata": {},
   "outputs": [
    {
     "name": "stdout",
     "output_type": "stream",
     "text": [
      "['00001.7c53336b37003a9286aba55d2945844c', '00002.9c4069e25e1ef370c078db7ee85ff9ac', '00003.860e3c3cee1b42ead714c5c874fe25f7', '00004.864220c5b6930b209cc287c361c99af1', '00005.bf27cdeaf0b8c4647ecd61b1d09da613', '00006.253ea2f9a9cc36fa0b1129b04b806608', '00007.37a8af848caae585af4fe35779656d55', '00008.5891548d921601906337dcf1ed8543cb', '00009.371eca25b0169ce5cb4f71d3e07b9e2d', '00010.145d22c053c1a0c410242e46c01635b3', '00011.fbcde1b4833bdbaaf0ced723edd6e355', '00012.48a387bc38d1316a6f6b49e8c2e43a03', '00013.81c34741dbed59c6dde50777e27e7ea3', '00014.cb20e10b2bfcb8210a1c310798532a57', '00015.4d7026347ba7478c9db04c70913e68fd', '00016.ef397cef16f8041242e3b6560e168053', '00017.08ef2d89f14cf7e2a458b80697eb1837', '00018.6fee38026193b5adde4b56892a6f14bc', '00019.5322cb10d8819b39499924d852819c27', '00020.d10651e31fcb92630c6229ec773cfe26', '00021.607c41268c5b0d66e81b58713a66d12c', '00022.48098f942c31097d2ef605df44dd8593', '00023.e0e815ea1d7fd40e7e70b4c0035bef0c', '00024.59c2cb781c60594315241e2b50ea70e2', '00025.d685245bdc4444f44fa091e6620b20b3', '00026.f9755fb0cee92676d7bd76d32bc5f50f', '00027.4d456dd9ce0afde7629f94dc3034e0bb', '00028.ddbae7c7b229813409ae50c47624ddb9', '00029.56d4310a82386b76b9e771523d571e67', '00030.cc78e84cd398ff4a2e9e287263de928f', '00031.ac7e81ff64671b17569d2c6a66648bb2', '00032.57e29a75bca42afb412fc68d5051aa20', '00033.2ceb520d2c6500ccf24357f2ebdce618', '00034.1d56abea55f3c516d0ffdd4f1e8b883b', '00035.9069e05ad40dd0f98cdae72072ee7186', '00036.719795e8d4670c6d8095274b18b59749', '00037.5a7af2f7bd57a2f50b7cfa05d5e37c29', '00038.cd457af47eb78d4b93c7d94043a43108', '00039.be5e34dcebd922928045634015e3ed78', '00040.eec48d76fbc04e9b98c3de0f59af97ac', '00041.002af69a10eb9b6683a7cff5f3ac14b4', '00042.efe6317ef2ebefe739aaeb4f0d51fbdb', '00043.d2673a72d215cbdd747dc98cde41fbd2', '00044.d087bf5e76ba737908b482cb028b056c', '00045.f0a8de2cf2b3cf745341b960d7a0119f', '00046.c8491e68aa5652272d6511bb7d848d37', '00047.39812fcb014cf9c22a2ff4fec61f3c19', '00048.1e067f31e83cc6ea3e9103b52f15588e', '00049.838d44b342e0ab4743507510a8ca206f', '00050.74d3103c5691914a530dcae2f656a1f5', '00051.03dcdb0e4e6100cfcf0eddbf78fbae17', '00052.c6c74aeef6d36423f57807ad4c901dc4', '00053.707c625cb618aadafe3e54544fa3ca78', '00054.f3e1dc8f3a7fdc5bec424db5e07e8ef8', '00055.8481bc92aa3ab9d23ca30c0eaecfc5e4', '00056.b510d34bac037c4c377b1f51dbe5f0d3', '00057.7c3a836baaa732cd915546442c0fef1a', '00058.ecfc3a7f406355a82abe9d16d3d5733a', '00059.34a8067a36762120b9292004a4d68558', '00060.d51949a7342f8adc568483f6e799ee25', '00061.9cc2b5c110807914cc6c38263b7dd62a', '00062.009f5a1a8fa88f0b38299ad01562bb37', '00063.0acbc484a73f0e0b727e06c100d8df7b', '00064.cb4bd5482454f02b6c3d70343af090a8', '00065.fa593405941ce1f32a29e813493eacf2', '00066.7dda463deb5e41ba1af3a0da55ab504b', '00067.23813c5ac6ce66fd892ee5501fd5dbd2', '00068.5053f669dda8f920e5300ed327cdd986', '00069.1477f740f56d3e0bd132ad70993edda5', '00070.c62a036deb1de40aa32cabc761b0861c', '00071.a1a5f4834bebcb59bb75698821cf9f9a', '00072.8dcd09744b5534002262a8f3927ba3fc', '00073.30ffa73f8021a40ac03218af092d0dc7', '00074.71045f0bdb236b814e4729d318bd6509', '00075.6485889c364c71761110c2b1190bb645', '00076.5aa682e393bfbef53e244acf3b2d23d6', '00077.24cfaba59d55d652be33b58bd7d41ca2', '00078.2ea8ca29bc2ed373a6c8270b488def60', '00079.5fa6a133fe202da2627f52bdf31fc6e2', '00080.ba42e846212f912a63aa36c7a9ded217', '00081.c16e4d631ac7941fd25ffb1cd316e100', '00082.b40e4eedafc60aef72a0a0cbb63c2406', '00083.d6bec4788401bc0df20b740557680768', '00084.2ef0c65e298880c3869b39dc95b40e8e', '00085.badc533c7037554017afb30c94dfcb55', '00086.2d36c5f829135d1fed8f88471163b240', '00087.03a92f5753c44cb83d28837121d82b06', '00088.945614c3f6213f59548ab21306451675', '00089.c31c9b44b66c440d6b39c5f8841ed43b', '00090.3af9d04b3ade1077fce4fb224ebf38cb', '00091.abb1965e279e4365f1ef31e4878c5d14', '00092.7ecc7d565565fbe466bfc8db6e456f9d', '00093.ee758841ef674e30d7d36f22fffeaeb6', '00094.ef72156b3ba9ff0fc5fedc2125ceb736', '00095.24caf7db5c45203f312f742f49385618', '00096.3517ca839b03cdf37c14ff9b3667dd98', '00097.e8e276c07ee885c4b8d904c1414412e5', '00098.90c05d1ad65ea3fa796bfa2808f71052', '00099.beef92f5eeeed3e40c1facf42809d510', '00100.f070e3aaa7f475f95589b1900ff58d26', '00101.216942b87258b063ec2d7b7981ee2454', '00102.b18fa07ca9504cfc39be46ba8376ee7d', '00103.23abe7cbe651a970e2dc6cc531c268a3', '00104.1a66c829aa9b0883591a2e8266c18bb2', '00105.00d508c7c037170e597798385b380a80', '00106.d8f1a8de1b70767b3dbf5ce810da67fd', '00107.787086c3c593b9e2335199019b130158', '00108.9ab147c83812fc34f69032c40df5a21f', '00109.bcb73e4561798e05f2299471ab0be1bb', '00110.1e36beebd2dffe60b0d8f68d82bde52c', '00111.a478af0547f2fd548f7b412df2e71a92', '00112.55ec2d4a4203ff075f5570bdac744550', '00113.6b233fa48d08abf97ff91e4548fd381d', '00114.240461056916c0cdd555ba9d2bc9e63e', '00115.d5db4a9d477aa17a19669e3945b7aedb', '00116.22aef63fc606e0ad46b5593bc897469a', '00117.a9afb0bc89818ffe2f2a590c8a40434b', '00118.f15bf997342540b404a4672c47d57d55', '00119.0f469afee6aef0a05d9850f7021bd629', '00120.4de6f88fbcb22a39a0498f84d9ce358b', '00121.333fff2f2cb3dfd617a6210b669757d3', '00122.b4b9733750e203d0215d49043d29c173', '00123.91b85aaea560d92f9199f9ba74e77918', '00124.f0f8fe0588f5245c08846ca9d308dfb1', '00125.0b972a986a586ab4ba3ff45e88f330db', '00126.b0a45fbc9d8f9e6de6be5d3062cc91ef', '00127.c1981aeb12ebd22536f12f0a044efe56', '00128.0e92ec0c8bd8233f7e7873e93df43277', '00129.ac1318f7fba969847e1ac4aa4ec3c26a', '00130.77c75ddeffde2b89edaf8720370f6afc', '00131.0884e29887b7378ca04f4defe0a069e0', '00132.2eddfbbe44385a450eae4ee89da0a830', '00133.e5aa9fa1cc35faff5801a6b16ca7afa6', '00134.f7d26b0dc6c2f3de63b08d2810d54df6', '00135.bd3bc1c036eab89c9c50cff40958c939', '00136.c507301e643ec123aa6e487ce2e2e3e2', '00137.11311a8e5dbfe18503bf736b82b91fc7', '00138.b4fe49f8cd3b3bcc8d19741e705b0e01', '00139.cfea5d726c0371fa63c9720a291ca9ad', '00140.354632516317e3a37a05e93c609ec65d', '00141.00b956daf6951da2bea354300d121512', '00142.0f7dc427ea4ecdf0c257b8bf7d152249', '00143.4cae4623140fc349a57dac7ffd863227', '00144.a6f12b97adc08a63ce541daaba0b0825', '00145.9e4594abeb96d3ba5650b9cf88e91015', '00146.a6d4ba98c7866de55109077d2960d245', '00147.fcb1b60290a155a5b837cd290b77a6dd', '00148.6bdcd2791992fb3b923e961f71295ce8', '00149.6ace09f27948721429b08699d9b92f4c', '00150.a4c5a8aaccd6b54f1000e9fa02f53114', '00151.4ecb35a7f837a0240663d3bbc5c8dbe8', '00152.703c271de3d42fb8bf266db6f77a0dda', '00153.2ba33aef8f6b3010c92db7f992fbec43', '00154.cc63335f9a4e3b5f4a16be338b0d00a4', '00155.22281cddbc29a93d630798e0aa97f725', '00156.d4205c868d67d1c334455950b21d226d', '00157.3a532432a98ebf828fdeb46a6ddfa082', '00158.71abc842fe120eb73cbfa0fe6c5df852', '00159.53acdde1c0b5aadf73295f0c58ddb6a7', '00160.eb0db8e14a3308c08db1cc38c4c7d66a', '00161.e75ee4467e41dd1d5f5156f2b9ca5bd8', '00162.02738313b3d9cf5812167de5493c6852', '00163.550a6ef7fd451fba494cc3128aaf3c7c', '00164.8a0a728a1d5e56631369e5192f0348b6', '00165.a626a87fa5b56f724e6a00e7c1ec163a', '00166.8feace9f17d092d9532e62c35c37ce95', '00167.ae9235b61c9e2fb740bfe4b0b3d703da', '00168.a13640e4b9528891d2e6690008307683', '00169.efbfc0b209eeae7c4c08e5ff14d539a8', '00170.14c40e625814c14dfe2eb997157c6437', '00171.71f0cff94c1091432c43111941bd015c', '00172.de357389925b5094f2e7ff3d1c20deb9', '00173.253a0161257f4fe309df9d9ffabd5ef3', '00174.ea47d0c060fa8ce10dfb448db1f27be8', '00175.04e562a3e92558eef6aa45dd66a96564', '00176.69b5e43c0fb4a313ba18a91c291b3bbc', '00177.22e75f7ffcce4664a3266d90a4b4266b', '00178.e021e35d6b9ec076f35e72ed932356e2', '00179.402096b649c7af65ed3b8b18ca416544', '00180.1d7edb742cfbd5d48881c99a8e03cccd', '00181.6831a0d4a6d648236f7ccd26b5e3e7ab', '00182.8e6541320c6c08e0a899455a0a21f91c', '00183.54d98788fca5892267d8dfe4d09b2bbf', '00184.4534b61b19d6102fe241eecf0a436a35', '00185.d596ca9befa5afe75fd8ebca4c215d46', '00186.7fb6108d51b6cf37e682b16713376f98', '00187.f2e1e617b73fa1c5137d78383372886f', '00188.f416128c8a1bc74ac615e5bdf7ae0172', '00189.b66293957540969a231d2fd09886ee0f', '00190.e26c75eb1c827ea35cf2e3407595fa67', '00191.41a15d7d511bc977b0fcb93cd9492bd1', '00192.9ab41d05f7b9bad7f7eccf7d393293dc', '00193.56c58a594fe8a1e7b830f48eaf12e654', '00194.c2c3f757416af5818ec89cf01a9aa601', '00195.d01606c130956bbbe4d0571e187a03de', '00196.5a8ba13e30d79286b01472ef383d773d', '00197.811a3c4022f3c7c548fcc7df7782e1d8', '00198.abf0f5bd6209bb8e268d51902158e0aa', '00199.05aa582ea00818b07c867878ced559fb', '00200.883884dc35bd45feb65b9a351371a7c9', '00201.190add142b96a42eec8969c51dcf89c7', '00202.fc22c26924eef6d26b3818db4450e2b6', '00203.b5773afbae12d0d79df74b32b2f46697', '00204.5c64400ff51925eb0ca4bc7bdab0bc09', '00205.a7ef07a6046817705ce83f59e2bd3ac8', '00206.5c77fcb0b64166d0fd0795b9d5f7330b', '00207.13171e04f004b9e401b749be95abb2ea', '00208.f6805ede51fb25adfc2bebfa72e70f3b', '00209.d685082621cfefa2f7a2e614b455258d', '00210.a85c0673394ffce41e84cbd558ade870', '00211.3ccf7a2df02a7f7ec7160e29eacfd8ee', '00212.51860640683706a0041c8576cf35fe26', '00213.cbab995631e4345875a326d533cf6cd6', '00214.ccc58960373c957d965f300ace6c9576', '00215.d09b3f3c0df56258c17c3de4dfbfc6c6', '00216.70fc915ba97c52baa07a10c19b89f848', '00217.e2416507f33a5350042484cc38de4800', '00218.17547ce08d682678c539484cf094982d', '00219.642f44312e1eaf0fbecf90d6b39876d9', '00220.7c18420ed3257e8630e67dd0045f6563', '00221.073d8414c8d4801265b1894e139284f9', '00222.09f314ba527328f1537a99a2423af0c6', '00223.02084417d77ed822ef1ba7391a7ff417', '00224.937d82e92fbb4a21cc11cc49310eff39', '00225.13c1eaece69dd93afacadb48189e65fc', '00226.b629152d594cf90a252b1f45dce90a65', '00227.9e23fa007bc1e12a6b957372d24116f0', '00228.6cf71899d7146e93641d4ad9d0aeb34e', '00229.5ee5fd3867d69cd25a5fde771fda0094', '00230.9a0c6d7bc5e78a2b597bc050e491d05e', '00231.b295668c907d5f4d50f8e9db78ae5714', '00232.dba1ba74b7372e3b13b0a351e2d45b89', '00233.46a5a0be6835c796dac95e1c5b691673', '00234.335356ba4b116d347be3199b40cdaed2', '00235.c3a09c057f8fec7d833a8f38062b9a48', '00236.0d42e8e99de86aae42a4f3e3cdc2465b', '00237.885411da9a2cf59e223a953a1747d44f', '00238.dab1868a3b43de1e01ebdfd0e53de50f', '00239.849f683f7532fe3ef85d3ae6cf2d7153', '00240.6430542510c59bcb5e4cca0112eff3ac', '00241.45aeb31a71118db41c3757eee21f8757', '00242.640f27e47a5754dbf4893781ce156a75', '00243.356078a6eb0847e4670477133553b3af', '00244.d6a35c3356b3796b5ddc77ed1b1995e2', '00245.5d4317b10e081f87fd2cd84e6fc94cd7', '00246.b7cc35e095c9fae344813bf6e1bc681a', '00247.e14fcbf137267399278507b469811f0a', '00248.668706b3eca383f610723863786d422d', '00249.5123280972d4935e630a46f92266f6c8', '00250.c99c3af1901ffb471442f3ef4580ffc8', '00251.7b7563dab83993b166e03ab8f052c5ac', '00252.18ef1111d1d7543890e6b0a7eb13e014', '00253.a396ca42887c9f843052432ff1bcbf41', '00254.84ee8f124a5dbb36412c2e2d5cca3095', '00255.11be25bd4a3d55702ed4a1f13e7d2a3d', '00256.53663e6f042c696de327ed117c0990c4', '00257.3e5b4e24045e108fedeff7d6ff8eecc5', '00258.586a8a7ca9e58ea82936ef0487ae8638', '00259.7310c53a2b5baca35187f0ee38aab709', '00260.9c633d54c32d46465f4162f3a91f553c', '00261.9e12183461e1f5e5061eb9f8d39d9822', '00262.ce0f0852efe359866e64ad9a524e51d4', '00263.6be4d6f2afb3d1b5b8acee019e560ce4', '00264.cef5d54bbce2f4a833aab06487467f82', '00265.d0ebd6ba8f3e2b8d71e9cdaa2ec6fd91', '00266.edda19cbe2bb12d6aca8f9550b870824', '00267.332a04bf60ba54e3a303ee253fb977ee', '00268.ed64201ab977eaad5fd6ad999c2f8255', '00269.b2b5cff76f0c1d2811d88cdfc81a2b4a', '00270.d0a83be3891cf0ea26d2af0102e9a875', '00271.b67b5b37ce874d5ccea3391922f14506', '00272.c319ce83bd9b379fda60a7991da1b9d5', '00273.b57629503558401c3945450dc5dfc5eb', '00274.ecbd86ce57edcb6a419a92479216e43c', '00275.4602fde18bf961c7bdff1a65e4e0fcbe', '00276.5068c9f11be01b50bd179e900cee257e', '00277.0b91824bfb092e74957ecff204754944', '00278.143effa95043688280ced372741d3862', '00279.db581b9c25766016fa42b54f426e1838', '00280.c853f6dc1379a418f0a48e7ec7009744', '00281.a143a6b20ae0f54335a78d477b3d82fe', '00282.865809c7b627e9c6f0d5b32b5a80b02c', '00283.3049b55cf228fd4add06e7b701f71878', '00284.74169e544362fc645322f98d1de72128', '00285.c422b202e0487f766ba13baa7b755bfd', '00286.74f122eeb4cd901867d74f5676c85809', '00287.175dfcaba6a69ffe40222e3937308e2f', '00288.3bf1e169fdf5504b8fa28e9998da147a', '00289.759738dc8d12e85d6e26b866faa94337', '00290.98400fc8bb102f11e201c037a613cf85', '00291.69656be850c89e739f4ae1db5b43d90f', '00292.d70b6d753352d01060579b1c34df4e4d', '00293.d74734bf5cf13ea138e4ee4df7555008', '00294.73bcb5b3dfaccc628419d7ecfe69ff1b', '00295.00390d9365839897c097b0db0d0a567b', '00296.fd066cc4153d4d6e65dc8f06165e3f78', '00297.be029fdbe088fc14a8124640f0bb053e', '00298.8b7d79e9cff4860a08188dd3d0c4ceb9', '00299.7e89319a2d14ca28a61ad12fcb49eff8', '00300.e98a210bc3981e1d64524ed9984be049', '00301.48ccf486575754a29b80e4eae2c5e227', '00302.9aa28800eefcb167ac80f4b6b1e939d6', '00303.72eec73b937da55ad1c649c0092f75ad', '00304.d02fe9b0a4d9111f79643c1e0793d846', '00305.4d30f302b0e02fed5944d83cf2de08e4', '00306.a94c65293f1aa18dd41198b867329cb9', '00307.a2256465cea488cb0ffe6da0a2b0fb07', '00308.ba65bb8c48b44b1767ed1c1de1825892', '00309.ac6da28f3f125547c80fb3fccc295f0d', '00310.66b26e342f980a716f81bb66e9b28c92', '00311.44caa311ef0bcbaf2efd0c9a4e09673f', '00312.2909c5a1114ade0b2aa7c3da6960a3f7', '00313.966f088102b6c7932c1a3655abd2a9be', '00314.611159749e214b996589d557e335648e', '00315.57e3c784e646e449c12675f2981a956f', '00316.cec9411f0e3de588aaffde5847356a72', '00317.62e22febb8eeb1d0a49673ddd92b543d', '00318.5b1d22882c6fbfebcebe12a792b3c6c8', '00319.2c5f52556f53f685fc0a72c6c12cd590', '00320.9933c126186ef60960c78df427a2d8d6', '00321.c3dda1549b97568144b8290208504673', '00322.4eeafc78a7cbb0eb92f9030742660997', '00323.8f7195f98946c42be7c95881ad779fbe', '00324.ce7f14e25bb864ee4084ce6179f975fc', '00325.4c10ab2dbc1ca699e7ce7a4f8aa89498', '00326.e77a07ed3bc9f0e54bc12c3ea32e25fa', '00327.f160a103dfff0676aad343813aeab390', '00328.3f61d8085d0a6376ce225b4d9e5630e8', '00329.84bd9e3cd5592c4335ded8736acbccae', '00330.9676b57232270d009783f5276a1efde3', '00331.ccd0a9edb0852f4811a401d533542237', '00332.5f70a83716da60e6dde2cc0c29d0a0f9', '00333.9542450892a144f44e4d63faabbdb27c', '00334.c7dd12784ce69de4bb49147cce037d76', '00335.a48aba9076c75a8eb74f74ae1f9be1e9', '00336.6d3511fa350ee5cf350ec4827fab5100', '00337.2214ccddb3c9bd9cae70fc25dc9b1de6', '00338.e761d6d7c88c70b86e0dc9d7f0003fbf', '00339.865b307b144029f04b1fc94110acdb91', '00340.91d8c92aa5eccc84c40364fc4fc1ed63', '00341.c7f56e7cd829d52190cfd4af810bebce', '00342.e6c781df2ebba44a429b49b86b376559', '00343.81675074f7fcb53fd83ebabd4d158cb7', '00344.99ffe210a9d425a86ab01840bdfd86c9', '00345.20c35f26ff6b56d678fdbe7750477668', '00346.f1d941485f6a20b29329111c59760585', '00347.f133df7e59af41ba1c596e60dde9dc48', '00348.009168209d00ae1cb41ebe3a7f113d4b', '00349.0a6507ca70c84e4beab8698a733970f6', '00350.b01dafc878fcedbeee6a4d7c120ef0c4', '00351.edc235781cd0e2e3b562d868d3a8df62', '00352.986723b3325cd57e893cfcdf992d59b3', '00353.ec01b62420323fffe253643fe0439c86', '00354.2302c4c1801e52a59346a64a5a31ed85', '00355.9fabc0fb3da1d8376c6db0702b60fb39', '00356.f414aefc1fc74d9cd77da0f07f64546c', '00357.d559b71616f64ba1d1c1e61a03644fd4', '00358.df37619f4cc3d224acd6f8e57e67fd24', '00359.dad4917f824800d6623db29ea557b514', '00360.5e45677c7b7a664d516da6b003d9656d', '00361.6a215262fed7b15f657b22c65107eafd', '00362.bfb007d2df523d5e4ad58dfcdbc1b8cb', '00363.64af27f0c753ccf6ec2e9c4e64c14b76', '00364.30f174421507d353f1f602919dec35af', '00365.b73623c2ea40e64854121432f02a5a15', '00366.e6bc462793d21f588e2368dc089399fc', '00367.d44ba629ed6383ee94999179bb6a04e2', '00368.f86324a03e7ae7070cc40f302385f5d3', '00369.f6f9d4cac4af831140abf032d0378365', '00370.0a2e3b397565840b5c4e46d5c5700444', '00371.3d08a5b828fb31bdacd4d07cad065171', '00372.caa02bf9e0bbd7643dbe83fbac984003', '00373.818730ce90950ecbf244e045a713de53', '00374.67d51286926b6af9ae9be32a9e446b29', '00375.205477cf488dba15ec6dbc46011b8251', '00376.3d17aeac1de8eee4383e077b9e0fe703', '00377.6adf708637c5f1dac1822d80ad0a5740', '00378.46432f84e1aab28c26cf1bc5aa2d36bc', '00379.9c4d9f4fb86361e3c21f376f2cbd0ac1', '00380.9426f88747cb44438bb358841649f326', '00381.235df96b897714cb8dd4fdb74113428d', '00382.457cf61e60b0e7fe754a478f2e2c0592', '00383.5b3e8da8353f48bae364fa900109c027', '00384.956b8ffd2bf74442b89dcfc3b3ea32af', '00385.c874a33cb7def0721807ea870e3c31c8', '00386.d929d7bb175845f6eaa3549dedd8a1e6', '00387.1a5243d401fec09abe374e77ad201d79', '00388.18e2a6069150c2c9139f760fda7668ac', '00389.8606961eaeef7b921ce1c53773248d69', '00390.1b4f14e80c8e7797dce79cf5dc22b625', '00391.57ff08c2830235fc1315c1745829d190', '00392.1a94887ca585cbdaeec97524b9308b63', '00393.b7ba3f196286b0c5ce6e5b1ec9078cd3', '00394.608684acea4bef2ae7f5b89309a6046e', '00395.01a60f5f85141b74be6aa6e347feb5d9', '00396.e9b98e25827d06c7a9cc304282011961', '00397.8e97b74b0753e9f56160fc8cb8d933c9', '00398.d6847698229e6211c91085261e0a9002', '00399.a7f6ab4a02fcda6c06662a660a75e677', '00400.ff81f656b45e5f910a2a64116ea00fc8', '00401.fccfd3c52e43aa3512874c3efec9edcb', '00402.8e937401f8a8a7a1c7661e076f96cd55', '00403.bda6864694236a9ec97714233b831c31', '00404.fb2c69f7df37b12bc62737254d0ea36a', '00405.c838c0717624d85d5a53371fdbce5955', '00406.fe97503539c60ff6814fa2fadf1aa630', '00407.11425a14d7fd9c3e1806fd7dc648001a', '00408.d52d0dde484c37acb79bfdc18d4a2aa9', '00409.6219d28fb4f2ca0173e3f76acbbec8ce', '00410.2bd60034fe4c3f781e44ddac87195fd3', '00411.478dc892fbb1a7970a4442fd6b977c25', '00412.2f7375258785a03b8f8ca2adb0c72620', '00413.e637d3bed73c6df691dc86dd61d46192', '00414.c2dee68136358ceec7d235d03185822b', '00415.62ff4ec7f1c4aa5e5ff0d1165892c0bd', '00416.ea1ffcacd8dd84214e745d86a5013115', '00417.7ec0b5a250ddfd52a9b46385688f9f9c', '00418.93eb266673b3731d82ce305ce6f9aef4', '00419.a88b7702054f8fe1ea38daf082124a6f', '00420.04f6a1501e06ccfc93978982ee7ece8a', '00421.805fdd426ce515374b9e0b42a83a4042', '00422.ac4b66f9c3390c3a98d9c8cbe75f403a', '00423.cfe8ba459149d893789505dcac7db306', '00424.9975dd35a0bc8834d9ccd7dfb27ae7e6', '00425.0ba16e840d94d629f8a3881b4e03a3ad', '00426.dbc70af5d406b97fdf70de03697f5a5a', '00427.49db73be9017efca7355ee80f173a26c', '00428.f28828195802a97e84fbace0b81dbe53', '00429.5c83e9a65ee27155654607ee770b8142', '00430.3fc5dbd2463ea79d094b859e9d7e3465', '00431.7f3adeb8cda736429bbe7ee757a07232', '00432.039993123f40c5865c1a9831b3e32297', '00433.881e63c5f176a80aeb5428f36bd0810e', '00434.41010fa84308b599b5ca5b597185a576', '00435.01f1329e5314b30b44b36c20a98ed846', '00436.90165e25df2411e4bef93391f57d2257', '00437.a1f4bc09ef8406e572438adeb849d31c', '00438.e56e66c54e734033b4f014a98615eeb0', '00439.982a2ff6189badfe70c2fe3c972466a2', '00440.02086b5f064e33a48c34183441934bd3', '00441.d98a50dfe00c17a9d864f859480617e2', '00442.d35b7a477107b2e6bcf47f07eca41fa6', '00443.cbff6c2a1679fe0ffa99c07c61c123ae', '00444.eca3cc749e5630f73f2243f1f35563e7', '00445.45f666c21ff201e070e34c0ddc33dbe0', '00446.8305adb883b4b3721b4c9e541d5017f7', '00447.decc7752d5a6bc685e47b094f76bb2c1', '00448.18e06f65c923e685fb4f72d90962c217', '00449.a5774525dc915cffc54433a1793cbf1a', '00450.72b1e6931947f5bfcc7c116431e2a093', '00451.939a31fdd3afff7c049dd3224ced6261', '00452.82e58fa634669d9f5543b297cec9b6b7', '00453.1b26da8f96711b00e186def7371d1e0d', '00454.e4cd59db7f7856303052e3e882be313c', '00455.d88c833e795f29473c862b4e4a43ac20', '00456.6932df857bc1b0c8766e5a9794d167ba', '00457.89579a11f9036c69e46063fb22057fe6', '00458.ad4375d9c03bdcd1828da9c405441b65', '00459.1b37170cbdad7f2ad4051ccff4d2b863', '00460.ae11aa8c20cf158f55b6a180679d74ea', '00461.94c0b7cab722e5ac253b285e50b047e1', '00462.d20502b45c48c8bb613feb09cd9219c7', '00463.4d93152b4c4c397486807b53501aed8b', '00464.5a7f552394a07524c4aa23b06c9e5915', '00465.772004398b9f98bc63ab9c603b10ce08', '00466.cfc9f0d8a4e28c000bc8962d4d3924d9', '00467.db0549489738f320732f286f74986743', '00468.0aeb96f2dc4a95abedb750a6cff7f343', '00469.b1d31cab7c1b3b5897393f46ce62b3e9', '00470.efaf4cc30f0107b82eaee72c68af5bec', '00471.4275aa8908e9754226118eb99aad8c6d', '00472.32120f66ef86d03baf663889b0235d94', '00473.18c8849136c818c42e6429e94bb42f6a', '00474.df7437b06e0b8725f8309196ba8dd09d', '00475.90154e8e3f3761b155d35323f54aaad7', '00476.7133902476448f294ee064117d96c988', '00477.ae6b0e13cfb834b905857a31327dda32', '00478.416296a9700921997bbda37e62c65035', '00479.1bf2cda4c4b42b94b9b0b14ecb9f826c', '00480.a12b636b1444ed8273930c901422c6d8', '00481.a7bee7a7de9cfdb9ad19c88c0440be61', '00482.6967f5ac2b3b99a8c940773658f4c406', '00483.0ce5057dc155d6a6aca6c917b4eb0793', '00484.0196194ad15151d749ec445f38a2ab47', '00485.51303357b6e195501f2bf225d60161b1', '00486.8294dd2af26dd3d759390f412bbec227', '00487.3f2dcd848a26fee4af6be79673ca12ad', '00488.88642710e6c206d0de1d8a0093ed2700', '00489.2a739cd71c4667d635698fff5120bceb', '00490.4734366879f0805c510b6665d99d8fec', '00491.c0d9405bdda12781f96bc37c00a382d9', '00492.3ffb38f175e41790b1f05096dbe339d8', '00493.29a23aaa27a825c8cfb67264b9d7aeb3', '00494.ba6ae1d625f2a4e039f6822868ee48ad', '00495.3bba63110f3a2a97ae71ce53268766cf', '00496.6ebe7969144149d6c8c170732a1b63e1', '00497.d1de10013dcdc07beee6507aa0d274c9', '00498.05456f69b8ce95cc1846f396b73f31b8', '00499.e9a4884055f2ee93c2c0d974c8b2e7cd', '00500.eb1460f32ec4693ed36e356f0401c8e1', '00501.d49136e1973b2bb467093cc28419b214', '00502.19da1b53a1529e45350243255bee8fd2', '00503.8371a5419a277838b32355a79e9d00cc', '00504.9f783e81d6dd916618dc079f58606b8d', '00505.22cfc49506156219ff2e4441d92e077a', '00506.e8f8279bf8b010bab338e085be47dd9b', '00507.accde385fd6700b6e66aaeaf9032bfc0', '00508.80880b09c43a6a31fdf49578eb5692f1', '00509.d5737f6af394368a65215162e3cb23f4', '00510.850dcc2f8864451743299b60cbd4dd5b', '00511.a729fad46d130c7f0990e0586ed25aa9', '00512.c77705cc5e9a878a5c1f5b17583720f6', '00513.8454cc27ffb04db6d63c81e33c0067e8', '00514.d44bd760b7ea720b9d1e1a7ba105e696', '00515.e84988067a252d765f7d24f15c0b0670', '00516.139a390f9320423395da77f14f7118db', '00517.4610bfad0be0872b61a11e2e7786a4e5', '00518.9aaa49b7c1be4cece3992633347b8a40', '00519.595dfd5bc0bec7bd5f06673fc428bbb3', '00520.823579bff3285c4aefe85db5bff0d6c9', '00521.900f67b5696388c58966c58e3aaaf90c', '00522.db4b857b35a54049c2dc88b2516eb1ea', '00523.9fcc28348487963a8ae5f43c3deb4334', '00524.8635e65e0ff007a8d5cc29de21c04cfc', '00525.08f2f03dc58bc667d28140d30c203cea', '00526.27d0075c192b704fd3b804497b8c33d1', '00527.fe739430917f1facd61acbc162d71970', '00528.4069e359640cbe831b602fd3cc387469', '00529.f267247f996b2eab55c6e18b63e3968b', '00530.1a07bbd6fe2438ed2b3f11e92449327c', '00531.711a16c97d6955bdc3d4b09656e44d93', '00532.81180d4d1d632bb50c189b51f83921e0', '00533.ebdd2ab43a73a867388b595061d66d59', '00534.6db349fcd98d25f61e5bcc4552b45f57', '00535.2c21f614f9593edc5049248d6e873ce8', '00536.ee0a85c68f0db6388d6f8a3468af70ac', '00537.0b676300c214afdc2dd6a5007e8b8e2a', '00538.313057481a3b1638c05066fad46ae65f', '00539.f3a3a009e8410ed004b045e724be525a', '00540.c9e660864381381e6a16c599c8f2e1fe', '00541.cbdcefd1a6109b8f95e1c8dddfbd7bb2', '00542.1db9cca8020648c0ed80436b9aea4d33', '00543.0641e755767b41b404070e155708cee6', '00544.5a9365cf80100b89b50656045cb8b80c', '00545.99996f28814c7028ce6aac44270ff3cd', '00546.30fed3b8e986dc41b1865b9285e84e56', '00547.59bf01e07cf08c7e3a778b747e020989', '00548.120e45c5d33311bc09e844bf236521d2', '00549.a847ea8934802a0ec67a7fd1d136d26d', '00550.02e6c81fb637ae555b997d6fd72df731', '00551.1c59fd8e4f3176c859b79b9a75fcc3b6', '00552.2a17c933697e682b93c2f32b66230a3b', '00553.d1e0ab732c8cbe70432e98301e352954', '00554.a01a74aee9653a7ae8d1d558c75f0a5d', '00555.4139b207075574b3774942a3a42013d8', '00556.eea9a26e128c1b4b676b4180adbd547a', '00557.62ed7b82fd342ca4d7932ccee2552337', '00558.95b8c2677759a2f569a5dc0bd70b8cc0', '00559.caa975fbe7e1641a76de679bdf213adc', '00560.e49654efbb65ad7539d43d356457a322', '00561.4fb75fe802e36488a6acbbcccbcde3c1', '00562.3f2a351171504facae22864c794c26b6', '00563.8c8efdf5034a0ba771e48494fd2d8099', '00564.e6fc359c277f507a2e01198b9c60ae61', '00565.4ef76da45577ee17827cec345ac543b0', '00566.4ce66e249726f98555ef3a7ba1f666d5', '00567.aa0b1a5ccd63ce58ca09389b7dd7a5aa', '00568.e5478bfa670cbd9bc3d26ed23e7b3eb6', '00569.d6da87140fd0ef187bcf217a57153cca', '00570.d98ca90ac201b5d881f2397c95838eb2', '00571.8f35c46bee6d7a238eabf207a5696b0c', '00572.c406ac5bc5c42bedbce48f5661d29976', '00573.f36b8bb4af93f6b0736e7475eb6cbcba', '00574.6c736036ab8317e753dae53ef19123e9', '00575.c4b32c1dc29245ce6298f5abf2f0b085', '00576.36892439c0a6bdd5b4231b639b639399', '00577.8f3db8ab8b69d38bddf8e5a91b353da2', '00578.8c710aa944374d631b9969a806e32a30', '00579.566d8e05220571bff1c2f392a1c7bf41', '00580.41f4f9793351fe7c7d3abe77cedc5528', '00581.9922b0f34aa8f51fb4adf4bf4ecf1464', '00582.25153a03da1710fd133d6ff373d612d3', '00583.7db5166f3ec5a8bcf81bf1b639b48361', '00584.1994033689471c5000d715aeaaf7be24', '00585.a55a40c5fca535871d78848d27efd540', '00586.7ca83d6acc8e5b0e44b78a4fe8bab72c', '00587.8d78332c747a44bf017724d66bf71647', '00588.708ecb20113d4c80b91936cd1c86b186', '00589.38f809ae603fbabb0d3f2389011e9150', '00590.3b596d6b2e6ad9b9f5cf3593a398260b', '00591.3bca4fff29ae5e89e2e2948401a24ab8', '00592.9608ca87c212f35feae1ebde5567c0e2', '00593.f71a708b88b51c4d428bb3bd741ece2d', '00594.805dae98d1ad6f99a7792418c1faccfd', '00595.7182665eb052808e2061bacbc75ed5ee', '00596.73c2473a9c778e096f3a9160d72567e9', '00597.d69fd43248612845c272cc277b890e1a', '00598.583ed313ddee00f0dc9929f76d3bb24e', '00599.94c013ab7037d45045aafbac3389bef0', '00600.a1c1bac6e4b69ad676c35512fec98e05', '00601.3db4b70f50e83050fcec38b75dee609e', '00602.2dc7ba42179a34e52badfe383f7fe08a', '00603.712b15c7b1e7bef7235068a3e4d9bd39', '00604.2241c022167d341022d1f345689801d7', '00605.63a8dd42dd6ce5499718d03acfeb0746', '00606.9733a34d34069bbc9671b0292068449d', '00607.5032b5e20289cecc351fc872b92c2003', '00608.36856bbc19336f3fd57897105b32c720', '00609.07f3cfa331e44f1fc138217fc9f9eb86', '00610.ef7ca9c067516bdd7e29aebc488d1edd', '00611.62116da308e2b9eb2e57ee12de12b677', '00612.97d0559a45fd4630e954b8687dfff55a', '00613.b8dd681e75a5583349b54f16991b096b', '00614.2487f80400eb954b7c3ab257771ed393', '00615.4762e05d7ff70fa43cccbad6745b34cb', '00616.1111fc61de078f069db9d72e961ab5a1', '00617.5433c6be9644f6d773afef39392cb24c', '00618.bec430e993398552fbf09c76e04b9994', '00619.b2a33ba25583113a3d435bcbc8759244', '00620.8d1ccac5b4a36e47f5f168c19e6ac573', '00621.2b161b5c7c09b45b568c1982ed49a008', '00622.80ded6eb7b17a2bb45d502b85244dad1', '00623.37932984e4241279e60e9c28f7fd6706', '00624.2847b091fbcbd97af477c23439e0f22f', '00625.bc9f45777515eeeb8da0c8898c0526c4', '00626.349d4ef602ebce0ec03f1505989ab135', '00627.fcd38764f184dd61db99e15081590e7c', '00628.4a185fee450d8239cf82bee902dbd1af', '00629.370fec99ddca8da57ef5cb0bf30375e5', '00630.d4dad4b8734a30afbf8c80499e652c2c', '00631.585978ee5a109ebd04ea2289ddaa3f20', '00632.5aaf2a16e34b00ee971d17bd4343e61e', '00633.a3d861bf0435fda936962c572ce0956a', '00634.3215eb7dfc919ae5ca49520f9fcd43df', '00635.b30f8636725812c0d15a96f31c07f8b6', '00636.f15c6eabe3d5204cb8704b0a4b845403', '00637.0f0bbdfd5cab1e45883719f70f691862', '00638.62a452b9264fb77572bb34181f71a325', '00639.bf2aca6432694667dc120fff4224e5be', '00640.bd6aaf961fe455813d6cd9448c29f312', '00641.96719d053974ef201283237fc146f384', '00642.19131d951ee16af5a157685213dbc7b8', '00643.25062169a6a9d2109b047a95c633f885', '00644.47e9eaa5c1cac5f991f30201ae7fda6e', '00645.2d95a6a89614625aafb7b333e799e111', '00646.866a1abeab0f141ef2de39b398134d0b', '00647.7d9cd4058b01e8b7f5f788e7fc159aae', '00648.d3808dc202cff72d0326d74d23eaad17', '00649.b630711c0f63812f552cbe85b22f4568', '00650.2c20a3ae4da8ff5186f738ee5d833fda', '00651.10adacfbcf0526d9aa331dbecc1a9509', '00652.dde353b33fdd09f8daa33ffcdb016188', '00653.5bf375439fd118575f08b85000c0d3c7', '00654.820dea38bee9162874d734e791ef5ab9', '00655.cf1f1255898932a567c5f7c39faab3b9', '00656.7d0db073b656ae5ecd234e0c59e97623', '00657.9095f1e5c94587ee44a269318647bf4d', '00658.b990e54a957ef200aa8d668dff83e83c', '00659.1217006d88c29f2f900a9406c51feb64', '00660.91d1af396b1bc7b8703f5fae9de020d8', '00661.e779083f6d4522af5231edf0b9371a1d', '00662.020708cee6e991e3c3a58aa83df7f8d0', '00663.cbfae39e27122415329840060e7619e8', '00664.dd3769251f79f493bd990b8c3f870f24', '00665.f1547d981d26d8c8ccfa9375dcd7d222', '00666.9f288224f19ca69b2663b5b9a85d8d62', '00667.dfa0ab3eb4214034892b8cda76d9d750', '00668.c788422df192a179d3a6ddbcb8b8b612', '00669.1324e7460b86ccd5cf81ea949704351d', '00670.be029e37187b8615a231865e3663dcf9', '00671.daf16d838d9b71f5f6cf09d54ebc1e3c', '00672.f7e4f9c91f81b7506b0e9a22ef1fdfe5', '00673.aa68749868d6679697146490282dc908', '00674.6dcadfb64e1a333f826a1c7b5c722f5f', '00675.2b3aefd8378ddbd20396c4b9d961a0bd', '00676.5a7325cc70b1732867ec5b831da86eca', '00677.b957e34b4dd0d9263b56bf71b1168d8a', '00678.28c4d8cffba35f7a4fa077efb4836fc0', '00679.7c3eae8e28aadb8ea378fb5c04bc5d29', '00680.fba9fe0db5780caca8155fb4defdc679', '00681.fd01c0551b4b72201697bfbd55bccd25', '00682.7b96194cc45dfc4d54679a198dda3244', '00683.7d0233053c9421fe2bf29e23a4aa5b18', '00684.1969c6baadceb721cc2a565b93e7f63f', '00685.0c2b26b54c5bb9e9072515d58ccc14ea', '00686.24376d10c9d96b5aad34a8ed8e6b7586', '00687.a044e978152b1411bd3ea6ddc0f537b2', '00688.b05bdac7f180a6947d701b974b413dec', '00689.baf30774fe011781f6822746345015d5', '00690.f56ab439b3ce565dd3fbbefa5fefd0bc', '00691.fe0daf79c97e1e314de953d18efc37e2', '00692.9761f9740766106c5f982e773069a76d', '00693.6849440c3e1d1584a9f05b067d0062aa', '00694.d04cd6e81d2ff9a678a18607d32e229d', '00695.4ea4110f03a11a6f24b27420647d375f', '00696.767a9ee8575785978ea5174d3ad3ee26', '00697.edd28212eb2b368046311fd1918aae7d', '00698.09cdefd75c1242540db1183f9fc54461', '00699.29e599983f044aee500f3a58c34acffc', '00700.7eee792482a5a8cf20f1e4225f905f6b', '00701.4c1a296394c3afdcb38020e8283d1a5d', '00702.bf064c61d1ba308535d0d8af3bcb1789', '00703.ec6e20ebdbfec16d51db2989785583ed', '00704.e077ad131955ba1fa3b9ba7a68b78f62', '00705.e481bd3281b960fad92e6dfaeb567d14', '00706.a5e10c660dcdf09e6e760d87c0589b9b', '00707.72dce8440a545f840d53765a11adce4f', '00708.d3270ed75122fa3989cec02ffb5b3066', '00709.ab6879788945a66541ed05b4f23edbed', '00710.ab32156df4d26cf061b7e553b51547b5', '00711.cd5fd593ba9d0f75c0af12f4fd2d64f0', '00712.89e45eecae00da0b8207bc79d2e843f1', '00713.7b4a3ad6c8b6bbcf358ee5ee23dcdc12', '00714.16c4d34ab2c9622fe82de9570946f9ef', '00715.ca0843463580080429cb2d0192b9ce0a', '00716.c0e0c922db8f605b6475839d8fec9985', '00717.041b5d95813b24c07616f52509bb9fd9', '00718.1fc4cf16dbe6d0395c754671b24782e1', '00719.6d73cfb0bea6fe5002fbd3b260d480e6', '00720.60fb431980df487172ca5ba412bbedc4', '00721.9f0c973b343b808cdf4ab26c9e9b3b50', '00722.6520838870f11a569a006ac7e119782f', '00723.e72e8e80f67f30983c089943e184f5e6', '00724.06d186a9890c1bc07b1e0bd89b7efb8f', '00725.5d2dec63252bb5fc57f3de280129656a', '00726.96933510684f33c2eea5711f969fe444', '00727.ea5bab335cc61c1d3d85a8566232f5e8', '00728.b5de363dc254b32b4a44fc37743d9322', '00729.d8f3ba695fd4f3c1ac6361f2e118ae55', '00730.b2c9b979063d66d1a14f8d834a1c6dfa', '00731.23dbba60cc6ea56f735599461109200d', '00732.3ed34429d759468e94c14ca1e2bb231c', '00733.8cd99b24ae020e6028d85ad0c4f06186', '00734.e37922bdfd9e3246c18322e4b07a4b23', '00735.97b119b8e994bfd0c9a3455b407e52a3', '00736.ca47a5a3b86318e4f1ae4d6bcaa7fc80', '00737.fe2d8d182d9bc421411c9ca9012f3afc', '00738.5c6ce770da4cc06ebea777b8be30abaa', '00739.9034df113ffe0cff225c698efcea7426', '00740.aef9889d927eccf01a365d72db48882e', '00741.03396e9c6182ba4f821ba2cd3740d1e4', '00742.1be305d2baafb0b3699c2750ee546787', '00743.1ee0d64b26edd4ab988d5b848232f554', '00744.667c8aba4400684b27c339f72ad86968', '00745.d2df6fc9d5de220dc9b34cf04addf9e2', '00746.0ca47650bbc1a73fcfdb519b04fb635e', '00747.39967f26d6c1cba3713e2b9f318d0531', '00748.d6ca40c29f4224487fc8d802cb5dca88', '00749.5f32bf86d99139f3256aa4afdd607f58', '00750.5bf605243948976794d149274a18159b', '00751.1e509bcc1e777532f90081474defea62', '00752.3ce51c783c3d6160d34de35e429dc470', '00753.880e08a60a1c96760d26d37f2d6b1cbb', '00754.35836a337d451aa3b7cfc7a7e617c2b2', '00755.798a2e0b9045d90a9bddbb501dc1fcfb', '00756.286dd5a4431bc1a94af390a6bf4d0349', '00757.0c98cd042bf54bed37dc526f0b57bf26', '00758.af02ef2952273218fb9d6c7ddbec7910', '00759.1c5ec35412195e0c2d80ae829d68e8e9', '00760.705760ac23c26098abf407bfdfd30499', '00761.b4bbbb76fb1fa8407236f5cb167c33d8', '00762.c95ecbfb41e18e9ae4b9aceb4a7de176', '00763.509a13b8ff69430aacaa8b786b322939', '00764.13a2828e7c0475a4d67413331b3f7b2d', '00765.ea01c46568902b1338c9685b55d77f6c', '00766.9ac5716a891643ea31d43388a282cbbb', '00767.d5b223070f2a19834daa88bc4338354d', '00768.ce54703f83eb3bf04a04f665dbf55e96', '00769.25bf9a767b5db0ed93f03c1637281663', '00770.b6b328aeb18316cabd60aa75025771d0', '00771.2ce14d08f77127e0720658404cc4ce11', '00772.ab8da3bd11afb162b0ccbd65edaf6cc8', '00773.d8b19e7b6c9a53f4f37242b3f1ca1276', '00774.1af9be3cd1aba6a371ee11dacc7d1025', '00775.0e012f373467846510d9db297e99a008', '00776.20cdc88a69e453f1ef0dd3b5f55cc717', '00777.5abc0824f35b966cf589b15c4f10f2d2', '00778.d83af9d544ca2957ea6f326728ad004c', '00779.d5e815dc2dda6819f41227fce324b31d', '00780.3c407d4d7361184c739b0346741036dd', '00781.f2f409be2c85d1303022b58db1551d85', '00782.6600ba2aef2816e4852a4c8e43130591', '00783.14a724489223eda0063e308c6914ee38', '00784.372fcb5f8a0507aa4a8fa0de1e76fe79', '00785.95b5f5d3a4210fd76015c4659c5b3ca0', '00786.ca79d7745b67c62712e5a5553c3b83e1', '00787.2ffb20c151e974ecf6dceb42547761d8', '00788.cae8367898a24746723decabdd20ac38', '00789.87278efee0d73a7e902af35c49084230', '00790.226ce4b62d85d7ca13f3f837b731b082', '00791.0150510afcb54992415d2eff33d5a8cb', '00792.f321af7901fa6c9e85362d921eadf2ae', '00793.6da29475fba399c38bb0a93efabcae5c', '00794.ce4c417f911968e4be6ee1203db0bd94', '00795.ea9b54832cc27bb552e483a6aefbde47', '00796.1c06b1656c17f8aa92a42a82ef0ad2e9', '00797.f9905519971d08a70a6d9815016f8295', '00798.789e730c08cdcd58675c1f273fe507ab', '00799.160a04b5935b5a9610b4dc15951b5d30', '00800.0a94761ce8069732112ac9fe52b14e9d', '00801.0a1ec38cd598d6c2e02323487c74e53c', '00802.c2f1957d9e67ae45f06a7c0845b02f3f', '00803.a9faabf181ecae3ece9f7003a005aeea', '00804.a27b268d92e03d488d534b6e69d98f43', '00805.15e21951a8e03def748ffb6b0de7220a', '00806.eed01b7d2bc05e5490e75f366a534353', '00807.ee4df461634d0e9d9c7ef72046c3fa2c', '00808.1398044c30f7120129aed031ce56ba58', '00809.93dfdb8801515083fde97a7fe6c921e4', '00810.a290b36b1210ae7d5ad8d224aef851bf', '00811.caf6de89b99d2266288dfeff16359be3', '00812.5c9165b987d6010d672516ea28ffe213', '00813.3bb7842dbc6ea433e2fa5fb94f3d2571', '00814.6095f126eed33df37a63e3a37b2728fb', '00815.141d4c82a4df4a06f0c0967a608109e6', '00816.5fa114769164d0ff93317bc714a3f68f', '00817.6dd747cab2629ac615233a528525bb8f', '00818.02224a14a25dd7014fd4f48518f48e5b', '00819.cbb61ae5d168944f5a02eccfd7217173', '00820.13f6cb2d10777d8b8ff18399657607e8', '00821.610507766f9b9a60431a96042fc135a5', '00822.9d70f64546100d8f04b7394760cf512b', '00823.187ae0372c96a338a86a19fc3215010d', '00824.77239fe11a4e1336ea49ba0bfc2de54b', '00825.49de040a4a48997da11b0e751d40c211', '00826.6ab31aba455701b24c69fd1f6dd59184', '00827.b863d1780c6c6ed248a3e9136bd52b72', '00828.709e1ec58a2bf04455cdf5c0c83f444c', '00829.7c74d7c59a6a5f0d0e54562ef671d14b', '00830.3a2cadbd29e654a7cbbf64ba4bdc378d', '00831.dfa70bbdaef79d5863917ba90097ba7a', '00832.e30b18b8b964c0252bfcfbfe2b99efd6', '00833.cc61a5d9b6ac040ef4ce65d1ee5ec069', '00834.a73f96c83f5f638954df85ede58a3709', '00835.9068443a73e2e4b91c9117ef9b022675', '00836.0270377f02e23355cca97c0805001c03', '00837.d989d85087fd0d2297bdfc4c4d9039fb', '00838.5d38f350c098436eb6d9cccda1e054e2', '00839.e4777b19e2429f9cece122c1d56998d8', '00840.fd947072df20db5eebb0d015f20073a4', '00841.d62d1f4d0dd8f02d0595dd52875776ef', '00842.85c0352fd0fd5ed7b6008fbe62b42bb2', '00843.0c778329d09499853d99746d0f6f2dc1', '00844.4af56580a8f02ae25ec39faffafba8ce', '00845.c74b7d7bdbbbab316dcb7498825bba9c', '00846.cd171eed5306de66f8ebf444aa61e718', '00847.f752ba326e2f6670fb6fecc5fd655d3a', '00848.a99e7c1ff97407816f4c0b323421b5c9', '00849.5ff774a5add00c6739307f6950b4ddf5', '00850.9435ce0e094b16d0f2c9c458f2900706', '00851.51d3571c945fd64a210d477de46e14b7', '00852.8be48f515c9ecb089aa3fc5983eaf038', '00853.8b209d0398d8c0f76b676097759e24e5', '00854.357b5bdeea553ec020631b131b7e2278', '00855.8e0647984e6592b6400021a5b87ee133', '00856.b71f98991ee068f642498810ba0c5383', '00857.cea46b6fc4077476d49923b4d56621e7', '00858.54a727ce6b2e452f05e2719d99393999', '00859.54a8c500034dd8056834ee17cec9c4cc', '00860.a2a3bca553c3ec8e6ce24f45b3f2a9a4', '00861.6e526bc95d6eb4736211696fec13d9f0', '00862.b3e793b7c8e41cd45a0eccaa7abaf722', '00863.f20cfe969a2e3162ce6ce19fd80188bd', '00864.95da38aac2ee9c6c8d36d0f2f1e8c8e5', '00865.ffa802dadbaca77b74f05cc1c23c30bd', '00866.670508b848fa453d194f443f4737b351', '00867.9e8b300d814c941ba6bbedba138239f0', '00868.f6059340a945c22b175f306ee79e674e', '00869.96acf5a2b0543fd7c1767e5562891eae', '00870.cf6be25af593cc88d0c7f58e7deccea4', '00871.f3bb3f8e157f00992af581a509234858', '00872.b037dfd3ef82cc1690c6692ed42c4dd5', '00873.9fa4518a4adfab3e6b194ee33a89b2e0', '00874.d9f0374ce55cb5e03ca46a5459894e34', '00875.b8e33b6137c804fbf4e77135aeae2283', '00876.f075a944de6d2290fd7a1965ac72d94f', '00877.fb94c382f9f10548db78b9d0339621e7', '00878.23aea042030421f155edaf41a36b3701', '00879.798415ecafdee535a11c68481f5d66b2', '00880.146f15b727deb84e2459cecd3fd67088', '00881.c1a373126fc964123ffbc018433b21d5', '00882.7d2cb3dcfbe9ae110726e656347c0628', '00883.c44a035e7589e83076b7f1fed8fa97d5', '00884.48ae15dc5f48f6caafa8c235d148782a', '00885.5923b3938b5b422e7d514cc4bf403316', '00886.6d792e0aa2cd6975ef5e050f7b0173b5', '00887.07d5efdf4a700dc6d1a7926e0008e57f', '00888.b1cc484869abb3e20ae3843f597dc307', '00889.8f1ca88d8dc661c9ffcd25a2104efe7a', '00890.85334af70442efdbf0b83768fb1d2eb3', '00891.e165e538480dcd42dc62b43b7622ecb3', '00892.9dc7dadb7e1258d9d1256673f2ae741c', '00893.6edf02e68e0e172b2142e5a75d467057', '00894.5b21597d342d44631ebc33acf460883c', '00895.0c7898bdc5199ca3efd6af04c80430d0', '00896.73f4eb6d676530f00ca391dd522034ac', '00897.116b99f81aa0d54498bca28abf4c29ab', '00898.611a5a9738e5905aaff6344c1cdaf32a', '00899.d7f9c80cf9bbd1355322a75886903b65', '00900.04d3fc4b18f2def855155994cd956529', '00901.dd49a05f9b0b28396c8a91b5b2fb0e2a', '00902.1e45b913616e9e1f42bab6b6f31ea830', '00903.49d4e076baf5a4d6272fa9a4e510dc5b', '00904.42d2e7951496bc3b1ee4b67185ce2746', '00905.05268a196c3e0e6464a45e41958a4554', '00906.bdc0d543b54cc81cf378c33bdfa39d4d', '00907.647447c8ce096234074b65ea25655a10', '00908.0be94e6d9ef62596e0dd488fc4d98b8f', '00909.777e83e14a0637cb3ffae7b5c8b0e77f', '00910.ba4833ce4dbc0ae64d1c148cf41aedcf', '00911.dcbdde154d9f25c1afe32f4b8f5f1f9b', '00912.f7faf669f2794a54dd91d62e7ac3b904', '00913.bc83c1f37836dee281cc5282e61acdee', '00914.a24840d53c5f49a00e66fa4425e4626d', '00915.22a9c52df39c264be488f62bba9d621c', '00916.1ea7a40e892220d43795fee49ab4849e', '00917.b633b615b29b9483b6e3ec54dd6914b9', '00918.4fb416f486e8b21ffe522b4074598b69', '00919.3ca1925f3bab9136611b8222f8cb047b', '00920.d7c069763cedddefa021e23cae0dd259', '00921.0407865778a278e577c287a9a04763a7', '00922.699506b21f6625eaaa1482c7fa034e1d', '00923.1a2af021ec7490b689a04ecd0226f9d5', '00924.4dbdc2c81ad764bfe29627498857b6f3', '00925.f32ef12bc4c8a7f4831cdfecd3b743e5', '00926.11b20c87f289b3743af174cd5a1d2c4f', '00927.acbc1da1de97d9257d57b4f46ed7a3f4', '00928.83cc6f8987cb3dd6090a8928f04bd608', '00929.8de0f155d0404d74ae006c0edff6b957', '00930.dd136d3d36e14ab324b79c3cf8c9e6e2', '00931.c27bf5c9bcb24c213aafe1b28fcbcc7a', '00932.659c11cb26c11baa33395f6f6c363ef6', '00933.20b1ef5013048f152931fb6c4e92e9ce', '00934.f9ba910a655535304bf26a3e281cb324', '00935.8ecbeab3ef30caba2c29e25744a2265a', '00936.e8fd8c240b680e948f85f2326cc87250', '00937.1442bfa30552275d60548860104339c3', '00938.e1a61251ecebf0f323c7815e68bdaa27', '00939.e48ae1c641ef0958595719db1befb0d9', '00940.2d6167e70e2aaa01e531409f1dbdd551', '00941.6805692546cf6517f808151dcc9dd6f4', '00942.727cb1619115cdee240fa418da19dd1f', '00943.c87bed16cca1b008f6e796a9e652ddbf', '00944.4c4f3aa0e543af3cab4859ad1b1b16be', '00945.e6eb589db145071f678c95f19b162b9b', '00946.36ac3a6b0fc1b34bb8c125fe75cff193', '00947.488310e3c7ba27ec9d99d390007b8c53', '00948.12717d1c7815c5e226f5b4324220dcd8', '00949.5a860f580179b99a227c4064ac28724c', '00950.552f3425d82204ce19d468127085b7d9', '00951.23649926ba46e21259b518be64d300af', '00952.61bd88dce9acd2fd68dfd2c2e2d9b675', '00953.39959392b9ccbbcbcacdb4211f2986f0', '00954.64e0c6e4f6fad8027420d8082164331d', '00955.34c902aff03e7a4911b6d5e378f69635', '00956.f566e64727b8f438aa73ee8d26e8f31d', '00957.7a0420bc5e7ed1ce8333c98dc766e702', '00958.82f86525742d7ae45f4e6a9df49fb674', '00959.68fb2328c01cd34b7e0f1763c85f9c66', '00960.c4805da3c25d516184adc9343144c909', '00961.509b19e210cc3cda4ae6615a47663d68', '00962.52e0a3b43febe264a7010803f7909f88', '00963.0cc9003be43ed6a642376156e98f5fb1', '00964.4c5e48c8c2668559fbc379616893f3a7', '00965.5732172f491041028b563a9c919d9b4f', '00966.2a4fb2559839748a35516c870f765211', '00967.e95bd7ad9ef796e4b8f762d898bfc690', '00968.747f6cb40f4a18a2e7185454549d06c2', '00969.2d5fb4b3c8c376b12157cc8e0a2e7111', '00970.b567daf8f05ff88b2cc4418bdc993913', '00971.5b0ba338d08a9077b1256678781e4a93', '00972.b94b5871ba0d2d042da63d0fcaa2fa32', '00973.42545038686536033b1032380502ae09', '00974.e075ae7ee23cfacb24d0d1b59ae5af83', '00975.23aa3095e145bf342502ee60bc602c28', '00976.13ecce82e8d787ee17ae688d4c70737d', '00977.8046655ae38293b58a69a94389f20020', '00978.a136387f15961a4f0a2c0ca583206199', '00979.9eef0c20fa5a680d5d4d5b752bbf9453', '00980.c44ba5c1509adaeba8e9e496c91aef25', '00981.3eb28c739b5443730f65626c58e3995e', '00982.4e1d46e8b99725e70515f1df7410aa44', '00983.42eb62cc4057d03dfd3eb1c8afc270e2', '00984.6f4ec805e2e78d5310e0a4ae931e67b3', '00985.e20b9f4f171d907fb8d8439584fe03b1', '00986.93b7eb74f26330872be1d58ec9d2b64c', '00987.88641ac821f19f26060f12197bc585a4', '00988.2154210bb53f94daded7a622e26225a1', '00989.59155225507b38fbee48407ebb6cc68d', '00990.ee34876c3873d8e6197432ad9c558429', '00991.ec5d16cf8c633a2f15b8f98a39c58a60', '00992.4a6d6d9013a804213fff718806aaae49', '00993.041d0d8e108657fd1ba5c605a10e2bfa', '00994.63ad3cd73487972bfc2eb3e78e2e7cf9', '00995.11200ae0fc914c7056dcbf7dcfb4c107', '00996.01a4386651fb07928d2314d8690e61cf', '00997.3e7c9ac060fb43183adc891520f41ce0', '00998.84daa7907ccbbee4f20c4da1288cb196', '00999.c78296e77769d280844fe48f2f3babde', '01000.bd0b18ad8256a7cb29f5508a20cd19ba', '01001.ea532debe8b8f0f94d2fdbbaa743204b', '01002.c71b3eb67b112d8bf7d101cb3cacd6f0', '01003.56ffd3c6ad3dcb0598cb3b79a1e2dc11', '01004.beda866d3cdf304a31d178d03960a3f3', '01005.5ad1b924b3315046822ae89493e5572f', '01006.4a648f164dd2f6076f59272ea14c3c03', '01007.69e228a20df371852b13376f64d01002', '01008.507687dd01e1572bcd2392e1ba70345e', '01009.a48979e302c75b3b7427e2a494f71469', '01010.d1dee04c1b00b3b3fd642a475b6ef52e', '01011.026a9a3bdab758181c61e6d828a4e212', '01012.27f1267454edd513b56e375205d1cbdd', '01013.5e43d991c292968615961b1ccfc378b3', '01014.4268008fc066b05b4a6de75c8221bdde', '01015.8a6eaecc5bc6782f0f60bc0cafd412d9', '01016.553813d21aa39e50dee2eb5af2d67cc6', '01017.6b308cae901605ef24e3cb038d89c3f7', '01018.010877fb4fd12c66ec90c2d0dc36af4d', '01019.58335c892624e5dcf06dd7ba8706bfae', '01020.5476f3169409fc3128ed353f765869a6', '01021.3fc1c0955f38f5873882a577f00a5f2c', '01022.c0028d36bedd0f6be69cf55265ebce3f', '01023.fc38576d2e2054cc52566252f8c75465', '01024.97d0b660e8cc7c56294ba3a801d46d28', '01025.11e89c01b958ab83027b5ea3d508998a', '01026.96f87ecca532224622e3910ba33d8a13', '01027.427bd788f0799aabe46eb0d976bb3dc8', '01028.9bc3697b9d9eb23fc4427b482b012f40', '01029.2daa3bd281a583d4044a97d591e5155d', '01030.c51edb65048a8f86717b049b00ed7356', '01031.58993bacb186b32660aae3fc69890840', '01032.45c15f19b17814767f5e4e50e722e79d', '01033.d64406df785dc24169d6026c61287e08', '01034.6a298abdc5efe614a638c2b55582cdc6', '01035.1210cd8593aa0ed6eb21b86b9c97cc46', '01036.e008967440cf8ad7931ff05a1a845084', '01037.6b42b5f3d3d9e6293bf24af66b250655', '01038.2c9d48308237d4d7ad50bb6864602ab4', '01039.2b799ff9acbf233a7842eab00fcb848f', '01040.07f0f1f73a3c4408b488be99114a32c0', '01041.12f5732227f6d383a0e32355efbf0f59', '01042.5379f7151fef6cce3e2638aee3b193fa', '01043.e8e4f25ec1bd22dc927732b46860df36', '01044.33acf4acbd1ac5f96486771baeda20c7', '01045.5f6b92624699ddf883fc56e9b158c031', '01046.f0371dba9ae76787d5541e73a09099f9', '01047.16b625191a9dc2f7b4247daca75866a4', '01048.fb90c7a3003b8ea5117264b27842bf34', '01049.91539978b8a1bbef1b7eef0bb123b07c', '01050.bb48dfade0a8f372957e8cb2be0476e9', '01051.a739ef0dcd31c40cfeddcdcc017edd15', '01052.15a1e32baa8fb172ca169cf8481897ff', '01053.9f4c2fea143d25bf2680c444e547df55', '01054.7ed05844c2c47feea3059d7173a9f275', '01055.e1fbd6fb316f80e72bd883198f6098c9', '01056.3b111e8f39863835cc7133841b4649b5', '01057.e1933319a8e0ed075aab6d302b132dbd', '01058.89acc8a125f46d7fc204c132e3b37845', '01059.f40b9601c05badff9a3f39ac01660d12', '01060.9c32422288bf0e565cd43473fa6ac5c5', '01061.6610124afa2a5844d41951439d1c1068', '01062.ef7955b391f9b161f3f2106c8cda5edb', '01063.ad3449bd2890a29828ac3978ca8c02ab', '01064.9f4fc60b4e27bba3561e322c82d5f7ff', '01065.b1ad1862ff2ceeb1bfc9cbdf3f87ebee', '01066.f1bb150ef4ede1f6e29ea63ad2ef5684', '01067.960ee297ebec4e02bf924cdbccb893d4', '01068.09401b10e30f84e5cb9c8c5579296f04', '01069.a94a9df489c4da9bf8cf3cbca70b3e53', '01070.6e34c1053a1840779780a315fb083057', '01071.5d83f457fafaabe795b84a483a42a9e1', '01072.81ed44b31e111f9c1e47e53f4dfbefe3', '01073.b7af066dcf93f399434af1a0872a33f0', '01074.8590d61ac0aeeadb58dc2f2ba776c406', '01075.510d4d750a3f004389358a0c715175a5', '01076.3a56372738701391cf04b8a1fd379d3b', '01077.01e634786d242f323e683dd39e468c47', '01078.e83af8e93466283be2ba03e34854682e', '01079.da9e5ee6e70ae459ef6cc777d7b1621f', '01080.b8d12c010e45434e95f67889e26ba456', '01081.844461cf79fe409cdfed1c9456c064f0', '01082.39917c590e0204c5de0142acd3fb3d08', '01083.68ca1eec938ec95c00e6fcd3ed282dd3', '01084.f085d737f5244ffe14e8743e9226fd30', '01085.15903c3e109d4d35eae6bf5ef80acf77', '01086.b08af755794dea40b0f9fac774923811', '01087.cbaefdc8d4dc306f627eac05955cb858', '01088.a46067a122aa5ad5d062961e6ecb3951', '01089.b823a36e49a975cbe29c26766aaa55f8', '01090.a6575cc193fe3bb9f143aa0eb4fed7ac', '01091.9ae9c7b90e88ce075538a8f2ffe71595', '01092.de7b8468488cc45962d2f2d4882aeb66', '01093.a14e2f376790556ad2580f10f761f2cb', '01094.f14bc2edd6fc45fa7b09c0a4ad5b82e3', '01095.d350c57509e9508b773fa5294a9afc83', '01096.0ecf28b2697d77f7039d82f8838bcf8d', '01097.08d3f921b8b1e6627c89504ea1c14069', '01098.f1aee47bcb53f9e9810bc45602904ecb', '01099.7273b08ddcb69f15239cb516b118be07', '01100.3f3a79ad6a2cdd501aa86421fb5157a5', '01101.304a220a50b40f8f729e33ef0ed22f49', '01102.d178bf64121423fea27fcbf754d5f984', '01103.08012d5ec27410861a9b6b32b3ce0164', '01104.703f48a4a1fa8c0e7053fba23997ee81', '01105.7dff67aad7fedce9979018a890846b45', '01106.4a0535d0232e24b9b7107bcd16da1ae0', '01107.18f0cd87bd40e5c64270187a75d668e8', '01108.c6ab8ebf1a366d6420b94fbd4d06cb5c', '01109.871741426740bcfa32cdde600ea0805d', '01110.852a6d27fe8dabfba9b811d8016faa1a', '01111.2f7361f87bcf1782c2f7622d92c6bf7d', '01112.bedeb8c24b16a1351dc11e6d16233f9a', '01113.444c4a1faf97d17bc580aea2905b773b', '01114.ec145f9bdff18c1f07cdcc734fc554f6', '01115.2ba9b3536c901006108da168f1ea2e7e', '01116.a2298fb07d7033a5448f96a375884930', '01117.df1f4e3f246e4104bc4dad63548e59db', '01118.fde67e178520cc3f2557da150983ac00', '01119.055376f4837787aaa7890bf855b45dca', '01120.acaa2a2d6d3688986104cce5b2d3bc95', '01121.cbf22a7c1f37266504f71d7b7b5c8baa', '01122.69d3ebe6675d828f75af6ca1f905802c', '01123.c9c1c0a854f47b3249e596fc2bb361ed', '01124.d97a9cf2c49c6e1e15e0c0aa024d20fc', '01125.e1388e6a675c99fbf85b0ef5ac02d77d', '01126.d930bf33cb3a9468623c15fb4cc24542', '01127.979ce598c5cb0d3d68705e15040f5799', '01128.48db2981ac933d672bcc5203a7063305', '01129.f7613b6d091c77280226d622f866dd9c', '01130.616ad0cc28de13b6deabe9dd13d0dfe0', '01131.f0a4fc8a86ce5529ae7e96e86de6ad2f', '01132.2755d7d8107be0b804bb1f3f5ce29e83', '01133.d9329be5511d9ba5af54e36ce4cb3777', '01134.ababef706c62d3b9efd341c1ee763c85', '01135.d8ebf01721cded4695ffc8ae22b79caa', '01136.994c27928a3ef2d69d08453c49c95f7a', '01137.862bf0c202b134ec11c965d1a46a43a0', '01138.01c3f9c51755c5c8e2dca29bed384009', '01139.12d25b7cb030b26d64d0a16cd3462b21', '01140.71d7100b58f00faaf258b49150c6f54a', '01141.4dcaffc342880fbdbace580e702a1385', '01142.c86c585292af26a7c1b09ed6345982a4', '01143.77077715a838bb473dad6a466d2e2403', '01144.b3cbc4db9d2eac4cd0bea04fd75fc859', '01145.4280ea0a58b56c22eb21583a3b3db290', '01146.fe05a7a131928bf0997793278e203448', '01147.ee1b78a672dbd806bf3393ee9c3903c8', '01148.a8dd7b8896c5c7966bbc52e4f4b0a164', '01149.a3ac28c8860e0beffc8ace0ff49b4532', '01150.8cf9e9429b48ec70e4912a0acacf6a99', '01151.a454cc33dce527bedd70cf42cff5f079', '01152.94d97f41bdf572892508e21b3906aa3b', '01153.d533f7f18252b1a26a9f44a52bf0559a', '01154.9e17bb23e3f1dc6f61f25ea4e7946505', '01155.f0c05f9bee1162915522055b817f7a4f', '01156.64602d74854cb26859c88c6f560fca27', '01157.4717355611939c9adc6f999948fcc975', '01158.43389f122c4f93b2570339801a2be1a0', '01159.722f7cc3779f8b3d075043e2174378e1', '01160.98234b7fbbabe3d268a31b17141cf1a8', '01161.25f5db0a9305744347c51f64ac62efaf', '01162.526ce617b7abacafecf4fc1729c49516', '01163.8acc09ecc06772e532281df46843427e', '01164.2736b1ea833f290333e168efb0c356f4', '01165.5c0ba98485fd4a2e53286b852d62c1b6', '01166.8ab8acc80452beed11a4b841a05d4456', '01167.6c1a9d12bb40059b2b3aba3d1c5c0f3c', '01168.83677f30f1d1c95b863e4e464396e7d7', '01169.ef0eb0827674dd4d69006ed7cb2f6c8c', '01170.ff1eb252e91b1481ee0a2887eb862c16', '01171.bc028721505534967b4371da24b1e042', '01172.548e6eb1a164cc875189890a4b78e4f7', '01173.30be73e4da024638bfbdf5afc05b438f', '01174.6f3f36997e912f8c919ca2d5742b474b', '01175.1cc3a3de60d72ceacc94ecd526d8bf7c', '01176.ea3b78b12b9501f85cb38db408286ba1', '01177.c02828dcc9e06deffbdfb48b97206cb5', '01178.a90ac824be5cbfe0dbbe8824fa07cdd4', '01179.bf1aa6047c74cad4860b8010439f199a', '01180.13edd21d3fb5e2c397528cbc0a581b76', '01181.a1a32438921904f88c7c78f1fea03a8f', '01182.c9d5fc1ef170c05409bf3daa8f36568e', '01183.36c29b5d6d19a328c9928a157019a49c', '01184.d8c35f26c87d09b57575cd666070afd4', '01185.14b996f1781bdf510f63de191373d517', '01186.84abe104b1ba13a5fece47a170d5dbf1', '01187.26511acbd0a46e181d130e70080962f8', '01188.fc8b5d073a903f3de50d4b8e49457b9b', '01189.cca889df55c39eb86b57501a014c3e59', '01190.9f9b5b58c404059cc3cc6e20ee4bbe6f', '01191.07778802f15f6579b274b85a867ebde6', '01192.bf5336caa5be79062f70233fa759a1b8', '01193.5b3aa2609dfb823e754b1407d451f97f', '01194.222c2f540913589b180c35e7034fa5ee', '01195.a22a2504bafda16790a70217d253e770', '01196.bed50a1e10eb99f9ef1dbefa84c54731', '01197.4296fdc3b52c7a52d5373d5bc2205e69', '01198.7d3088654bb7b2cb0796da65b8c71247', '01199.59f410d0b6c37510d6a29d0d02f62101', '01200.fabbc41326c88fd504ae20791dcc3aaf', '01201.2da17f4409568ea3fad63130544ede70', '01202.9fe368b4f333335b31d0d5ede2db37ee', '01203.a19fd2f1ffc3d70528bd30e76a7e35d5', '01204.023682c9961ab23115eef87bb1e15e31', '01205.e3401c959bace9b175eba8c24da908d2', '01206.d6053e42110b3d3279a4e22613df13eb', '01207.3619f002d359bc9c29090c58d7c1b838', '01208.dd294e4904940446bb82b45b37981bce', '01209.b9169047bffea1b9af14ca41f336eede', '01210.3b4f94e91b69061def190573072e880c', '01211.6f83def18349bc93808cbd6b0642b173', '01212.5f88fb786e44da332e42c578fe657978', '01213.25bf48d2ed386aa84360862062fc9c54', '01214.7c4b7b61391c72f324a17a04b680c30c', '01215.94a01e7d8bb1206fbb2f1cc7fb3dcdbd', '01216.e30b39890b41cf8740b3315f79521f59', '01217.ca4f6cab0653e40829f209aefb242ae0', '01218.9ccb65e5b538133faf5c90bf7b3f8374', '01219.45cd32c7d6ff5dcbc288797d8e8d7514', '01220.f57815121767436c538407a25eacdd88', '01221.84df71e86c3f6a71a7cd8bb4f6a97741', '01222.924583306d4cc0c089a9b295915439e4', '01223.bd57469f0b8c0ca986d7a3f40681b56e', '01224.62979c059bdc69eae460be6a91f0bf1a', '01225.394c24658bf3f9f8f741bcbc94ca017c', '01226.a6b2d7b7cf1bc0586ed8cb7ee055d67f', '01227.0c0989577c7476c986aa5328e4ef6118', '01228.8d68492f313838ba1c667c04e0886f86', '01229.ac0aaae3ef49b84eee5d0749fa140f0b', '01230.8ff878325b7c108b20c4d9d609c511b6', '01231.6586e5650d4dc69bff659d38a695721c', '01232.2f44f5a2186e97cf4d65cf191d98e646', '01233.e83467b2f6c65830f00860df89f3b0c5', '01234.868bd8bcbcca009a5856a8ce6da3f593', '01235.ba9c966dd1894a1206da779f572da412', '01236.80295013ea9517181a3a42ad0d4a7f63', '01237.2707518b441177e2f7e8497b63028981', '01238.ccc75b68c2caed8cb251f188164ce8d8', '01239.366f4cc20cf91bd48ec1645f27dc35b3', '01240.606580f695bf5dcf324240db2776def8', '01241.6256684c417b030200ac2792ec46aae4', '01242.813fdb697bdf7abcc40b61a31364ea94', '01243.4288f9b90d18390df79cd4d6f95feee5', '01244.b9cb6115cc7d56d7cba71051834a4d06', '01245.eb8e87560f382001583084d77b047e19', '01246.1734a462e0890957b876bd2bdeca2818', '01247.2a40443c1cba2e07a993b186db41971d', '01248.cd8df6fde5910535d604ad30d0fd872c', '01249.0898a8cbcc6fd1f663d3674685afa7ee', '01250.d793a216ea4b705ea8ea27e396fb115d', '01251.793e5c04967cb90191e805dfa619c55a', '01252.60a457d292a0e9c1307a196324d298dc', '01253.17f98c5b0388d2ae46e31cb6308c7ab6', '01254.e1ba700d620871e67b4f7db4b8859ac3', '01255.3b6925695108a60022e1557430f4973f', '01256.406e1d468dbbc7347179c131ba33f76e', '01257.cd426b4dcf52fd10d26e645b7ace3e14', '01258.a655740f71f7f330ffd270d20444aac6', '01259.503b1765330dada13ff5c85d8b5d9d29', '01260.00507d8794730b35f686ed06471e12ce', '01261.eafbf152124bcd764327d9fda1e8c86f', '01262.0c914a94f4d603363d76958a84c954ec', '01263.40cec40ea12c55f2ac9a98dc07c55d1c', '01264.a6ae16864e0d116132a7d3850e33e9a6', '01265.a6a6ab5606db30f275ee08d3a54b24a9', '01266.94c891b6d36df9a9c187a71e7d90eb83', '01267.88686fe91228476214e39e736ef35838', '01268.0cd2c295a12fb03140c6549cb8980012', '01269.e302364af9816c7d7be5926ebb7652ed', '01270.49d052edd258d0f9eb08ca05e177f965', '01271.519b987eddc0633ac3a5908c33a1fa2c', '01272.8262ec8f7abfb5b42a2548ce966120dc', '01273.0fbb8edd390685df241007451832f145', '01274.bfe4843cd130926efe53dc96bd3dfeea', '01275.5355809b43b1476a1a64a01049857097', '01276.ae29d5365a747f3c249768ba47e73b52', '01277.80c68862f31f15ac616d77358c449fed', '01278.a6b5dc8309ecd924c2ee872d35899de7', '01279.8cd7c5fcfd7a06b4e2b066a7c76846fe', '01280.08e69f637d901fab10aec6c9492d068e', '01281.f5f822f148c91fb7bc87e782f37bd5d4', '01282.8a72fa3979269299eadf8f9742cc4ab6', '01283.a6c7612823e8b946c41bb4c25a64b31e', '01284.5134a1b148030ba27c152e387c3e8369', '01285.64cc8542a7474c2d10de1d890a849307', '01286.a545b12da2ac94e36c6a7033bf077072', '01287.c8de1608b71977e5dd6b71da6a2019d7', '01288.f426e00bfbba33dcca835e93097497bb', '01289.1546c81997f7f3f154f6ef18d6e6bbf7', '01290.41e79a15cd074594f220dfaed53d51aa', '01291.dfc4b8ceb611c971fb6b821eecaa9cea', '01292.554aabaf0a334854817cf994e6951ada', '01293.d9df56671e03c3767875a6e5d4673a09', '01294.8c242aa8998042dd666b7f9db56a6a3e', '01295.c440ea598ea18fee4cf3d2a1a9cd6864', '01296.d07e5ec1fd7ad9a466deb9cf621e7ed9', '01297.911ece8836afba884cf1d352d6749578', '01298.65b9c164b1fc671b0c050ff3f82e77d2', '01299.3d97e3706e7d000ee12fb9e2a5947ed5', '01300.b4d2c4f321c89df3e5f3e7b4bb9326c1', '01301.83b3e0f947cca0c2e3f5cbaffd2772eb', '01302.06ac4ee24e3c434afa330b8c0408649b', '01303.e0dac36f259ebc7b7b4ac81c6923d56e', '01304.33e179931a138954fe23c556cb2068aa', '01305.2c525c3b4e9d21a1af3534d1a059cfaf', '01306.01273f7d32eaabde7b20f220e13eb927', '01307.4b06bdd9604366d63b4106aa8c715c06', '01308.18d641ec475649b1a8ea5ba7292b3e05', '01309.2bec637bc28145370e47c323f994e6eb', '01310.770eccd33b2cdef430359fe8a771e2de', '01311.bcbaf39917e22619944a0e18eb7233f7', '01312.f553517c829fc5778f61f879aa6330df', '01313.f8778c3339382c5514c9e201847f75ee', '01314.ba7b992d372c23964b8b4a1de885a095', '01315.8e0a668ce9b6e62261baccba167f8a67', '01316.41c15382cdd5ff4fe78ae3484ff1dc6d', '01317.55468871d6f7618afed9a0b07ee2609e', '01318.db11c5ecba49aba4fb12fbead712f815', '01319.683e3c750cb5757c27ee18cf6a2ff905', '01320.f1760dca874206f2189cd242da670499', '01321.837b8a696b13b820d154fcb1a0ef6465', '01322.3fde258b3dda105ed24385384566c2e8', '01323.596c172d2be2aee1c7b688b043cce5be', '01324.277cb41dbcbdb083741a66b0c0900cf6', '01325.a0795ecac90cad480868674cfe180695', '01326.d8a709dac6b1c32aa355f0556350b4ab', '01327.1fa998a9866210caed63b142b5b44156', '01328.d0911b225327299d50bc7c7f2284afdf', '01329.19b80c37a933da3531c62ce091e7447c', '01330.765b68f74cf98c8f9cca11999799c206', '01331.4c2d95f57be99f72685e0baff1d32450', '01332.04432fe71e50fbd52f3d8811c1704df6', '01333.fa9c7de34b2a881a69cf649a6a89b15c', '01334.03de0c9d7098f5546c8b95ba9bba0265', '01335.7ea8fb1b5cbb5f10d5e59ce2dffbe2d6', '01336.82adb611b4bea7ae97c57911d3152cee', '01337.e515b1d01d6d98606d994b1c8901904c', '01338.d83fecb2046120fc72d0bb23c150ec4f', '01339.363b1a2eaf356c7b0972c1b81b1db5d5', '01340.2ad5807dd42687fa1f00f40143e175e4', '01341.34cf1021232db9d1c782888dcd1e5328', '01342.ed7748538ffe5695ead0f2135d88d9da', '01343.bc684655fe9c17545f0eea20d6ebdae4', '01344.9076ec44d13f2da07adbe956c032f17b', '01345.ffcc21afc6fa4e97f32f1980c05b33e8', '01346.cbc6b23ec727627babef10bb4cb37158', '01347.5dd5701d8031b7142d587456be226816', '01348.4cfe9c750b06d2062813ea730233e077', '01349.dfb652931b4c7be5c825220a319e9af5', '01350.a0f7f7dbe59f334cd83793d518e603c5', '01351.17df08b43e42781f7e92b91a3ee174b1', '01352.400cef8d0d007f3d7ba8a0c7a8717fcb', '01353.cf72da836d8b771bea4110c8f9b5599b', '01354.8a0699778c705d4f2fbc6f611c11bd05', '01355.9604b641ed970d50b35f2ec2af848e1f', '01356.6edc052e900ddd438a25c6fbe4106334', '01357.cf1f4075b85a439abfc8c0b81bca73ec', '01358.856ab1787169df5216c2c426392cbfbd', '01359.6da1f33746a38bed81d2e7badd0e33a5', '01360.542f5bf8fe1935cc079504c0a0269923', '01361.bc57ef0754c9fae5ab89cac38f656200', '01362.0892cc75c110776a0de7d611d8bab241', '01363.77a99b8d1fa345c7fa3af272f41591e1', '01364.eaba5be49d5662dd5e3f89a7f430e614', '01365.6c57c95938ec12a82d900ad529ad95fd', '01366.f862e5456473e82837fc0a89c6abf5c2', '01367.9a717ca796511aa95c97274c68525fe6', '01368.777aeabc5c7bd8e90b3c1cd33438b394', '01369.164f2b4346151fcef70cd4c71d335ca3', '01370.2b2624810ea623cb3b83e4181c114964', '01371.2e4162848b6034ea5ba93431c6d69d36', '01372.67735089b50706e59ad0573492fc9af2', '01373.fe9c60e3649ce258e8f5f6c40c9b2ce7', '01374.5d5d21f3e389c6de699918082d008fac', '01375.969eb724c2a164f9a010c82fdec8704a', '01376.d80cb9df41061f317f7a1b8e5c6c4038', '01377.16cba8696342f88afb336b700c049819', '01378.b2879080e678334d2473d0e93e89c818', '01379.fa3f6f5c9a842b4bed1a4578d1f56e37', '01380.0a97683490023a8f59c230f5057d15bd', '01381.e8771e2f2786ccd37b1ecdbecd63c881', '01382.cd81392e9d575f84e9870b00f41e2fcf', '01383.18c85b7ead9efe35b9a128c42e5170fc', '01384.e7263302093734244d473fe1f7518497', '01385.2bd848b0b7319c71ebe0fb9282a0a814', '01386.4421abca51be5e71c1651102468420e2', '01387.cd289cbef7f9cb842982e78e49575ca0', '01388.69b4bb3955f65fc32e46fa6e45c65539', '01389.59a935b5c0c95126a686378c5cac67dd', '01390.b29cb5347273b971d876082ebf77242e', '01391.1b54dd8d1b54c65ecb9fd0e9ecbe55be', '01392.775dfd40216f19a11446aa0a3d8d1e73', '01393.7c259c411369b7039505bc91769f09a6', '01394.cdeefbed999cb93e1643908d2c30f217', '01395.2b05351de956c6df76680ac3d2c8afc6', '01396.54a6a27cbd8983e74c7646cb18330f61', '01397.53c38cd7bcd8f13b0d6b784c9265cec1', '01398.71acfbb0cfc859e20438e06955e66d27', '01399.1bc3334a93af5c1919c0520a12965223', '01400.a654793f35a555abaef51abf76d47d75', '01401.70777d5f3e75c701de00d7df66e0dcd2', '01402.602c05e4bdb1f3e4d293f3f9f5a7baad', '01403.240c78274ebf62c726f214797242b409', '01404.789355d67d32ceeedce39b891883eed5', '01405.e574cc5a3baa8e1a715977d29474c6a2', '01406.73967a202d2dbbc9651d0828f3fea38f', '01407.5388b24c7941469cb0164922cf67d111', '01408.3967d7ac324000b3216b1bdadf32ad69', '01409.6874e3b9aad08eb5081dfcbaa3871ffe', '01410.ea9902d4f7947bd3105d23f2b9874690', '01411.f65bc59a6c6b8a80794b04e271148b39', '01412.c6d74476958fabc3a2a7572079a6ce8c', '01413.d1561ddcf3ead3a670b4516b3337216c', '01414.162de78ddf6779f2130568460cbe2924', '01415.f3a2a0972d0e7c8490bcd79664be7db5', '01416.dd0b9717ec7e25f4adb5a5aefa204ba1', '01417.ce7b07a2114218dbac682b599785820d', '01418.de6a5fe900081a0492fb84f6bfae46a1', '01419.97da4f8a986b55cbe1f81bb22836ac58', '01420.4ee4b7db2ca10b3f5ec512d26bf8b3f9', '01421.e01ad8fa7bcb36e969c838578051d684', '01422.cbcae309928553721fdf49cdf98541db', '01423.d12eaa7e292c15107171b0eb39ea40df', '01424.14cf0162b6bf5274305b7b573a0c3a82', '01425.c6c34c1234e8b04e01326868202110fd', '01426.a44cbbf8a894adb293a56a20758ae065', '01427.7c150370fd480849df4e8ab564d88fe9', '01428.a040cc94f80fe9db775e898acfe3c3c9', '01429.6d9cae984e2f92f32d70594f5cc37c87', '01430.a13c07ca5673aad2384d380041305054', '01431.007d88c08ff1d098101146a0b68f7665', '01432.398dffdbd1e29fb5b5af86bc1f939f64', '01433.4392b7c4884f0f218e74a0b86cc5b8c3', '01434.91fb1f11e7d4feae12121239c4c19d9c', '01435.e25d83af5e02f2d2e97880c2e2f17eb2', '01436.dc449ba377210e77d84647619e49c872', '01437.a16dc704b4bfe8b170724a4b68389a40', '01438.3bdd05f78df18d1add2e9a5afd85a6e6', '01439.6a7c45811ec7605d19d385f32cbee42d', '01440.cfce91ecdbad4a984e4efb71c5c497df', '01441.28d32ca53515c4d059474dcf544cfa20', '01442.a81b9c1ad6e37314caa3068a26ca203e', '01443.fbf45616f74c213bc92c655133eeee73', '01444.e1ba7ba95203d116703a10056396a037', '01445.943b6ecc93ff03231306c4e9efeadc01', '01446.2bc1d074ad6e9bc83adf861ccbf0c498', '01447.98e4b20ceb192594e992f7db9f8dfc53', '01448.335343826f0aef0c176f3aebe3c1806a', '01449.36c83d8ef96bc2bf4f6606ab8e62a4a5', '01450.b1d4f6eb3023d388319422cec20d1b0d', '01451.b5a50ca35f50e38d37a2eba47399f57d', '01452.05464b6ef101be1f2f10809d1577d630', '01453.457f368091551f4307961511ce0ead34', '01454.9d6b2206cc67fc7bdce65109a7bf1b5f', '01455.6f59785ae19e2d0c92f0f18764e5e8a6', '01456.5f475d17a5f72ce4067c8727d2db160a', '01457.7702aebfdeac35ac42bd6214f0292a18', '01458.faf90fabe2c118e46dd6a60139a7317f', '01459.47dae1d7997a3d599a8e8f92e53485f4', '01460.09c189854f1d2107aa2ca1a9f3d3e167', '01461.df42ad590ab7cb5ccde90f0cc1ef3dda', '01462.0c2d54d028173cebcb091842144d268a', '01463.28034eb6874b95b8cd4f681cedd0069f', '01464.e3de6d443aab79ba36f75b7e737c7888', '01465.b1fa1feb0603eff01231fa4a5a74cf37', '01466.cf50ec729ec45590dfbb6eb9c4f33175', '01467.3c3e579305d1975c1792ab734c99cdda', '01468.a68ebe03295c662d692e89930e88d07e', '01469.c15d5afb7a49819feadf6c4f3f40c224', '01470.7c7fe4fbf02ec4ec0361bac300830e9d', '01471.df4b4b9ea2810aa90193462b95cfc05b', '01472.b946f70fda01dbc20c92e78c1afeea17', '01473.1b15dc3174af070411cb9f2bd16add15', '01474.87ab36335ec20ae5f4f60955a1c07c5f', '01475.031c58f71a4943490cc3b5aeb13b795c', '01476.63631b2e613c4c2cafa59a581e2f620b', '01477.705f3f5f15f10c4ed2f2cf802e1a5bf1', '01478.6539703e21dfb4f52faa4db689dbc6d5', '01479.c8a6082ee6a9e21154786f69c71b95bd', '01480.1d6e92e72f85630b288a712075387058', '01481.cf3798a158a9f359fd048b6a2895a878', '01482.a3576ddec34b0481a9a671c1f3c141c3', '01483.25278a257e2a09ef840351510809e000', '01484.135f04f6f10d59dbc5c67c4841f4d33f', '01485.4efa6516427c6184adbb4f559ee84055', '01486.d055246ae702f2eaac34a5ce2719c87e', '01487.7bfc394e400ea1925c895925dfeb6b6a', '01488.e5500a90fb3169185bfcf41ef381bd7d', '01489.408e736d2c2fb22b64f9b588c788dad1', '01490.859db59aa3abbf8c92e1766d1aa147b5', '01491.870d988a32a3c80dd577625de0f2b708', '01492.d8e254a173dfdaf36911e9e76ed3e518', '01493.54825a42c8197a8f7045cf4eca7f3ec3', '01494.546fc9949239936419fc8decce22bd7e', '01495.4e9c81cc55d6f717163921629055bc6a', '01496.eb636682660e89dc6411f4587d18bdc8', '01497.7bd463ca8ed96d9d4e12ed6a3958008c', '01498.e0d9701d1bf2798b86efb602a44d072b', '01499.a60b4403c9b03c1812b8aaa7d3e666df', '01500.e0ad2000e488cfcfb840cb50a9383c01', '01501.78f2f952275ec4ddeb969cf596d3ac66', '01502.e49f253ddfc6fb63d759ad198890404f', '01503.5e13994a5676296ed31b14e83367031c', '01504.3a306a038f96c31abe2440db7f7c6806', '01505.736da2d34e20948b7287da130be6e7da', '01506.4bbed296f60b0c14d64999d64081fe40', '01507.e06cf7fcfb3a512f43c827529c19a9e6', '01508.8e4d2554f8964f6b4d78170884abd0d3', '01509.e13d579ab7ecc89514b343c16ea37ecc', '01510.08454da046a34bf7a209a3f3957066fa', '01511.61654b90f93541b604ca624bca8ffc8e', '01512.9a1a7937d7a0691e79d806bdfbda28a3', '01513.80c5fbd984e4ff243d1deeae20ca78b8', '01514.5038367be8c46c0ade062ddd7e03422d', '01515.8eef4db7541adb66e4da229a41666635', '01516.c4f43cc7b838c86bae2005e25850f08b', '01517.254d90491f1660ec23989b4bfc90d2ec', '01518.cc9c410a551f14cd20f150b73d226353', '01519.9b05511d9273ddffdbc1f45dd43fd9ee', '01520.2a29e50286ea0bc939e9fb4c9cc13a50', '01521.ab51de7c30aa23d361c81b99cfb55d3a', '01522.399f9b55d65180631a94a13de6048244', '01523.bdb6a45d09498aa3d8328161459adb26', '01524.59942583cc58fa95ab7d333121598c2c', '01525.fb1d9c8b16b705c53e4cbaf0c1658767', '01526.c30529e56e1407674dfcb3f7080ec91b', '01527.81281cede1b20e6bbfd9f53ee846f815', '01528.09b67e7e14a95859ee6353702058323c', '01529.a34b955e2414056d9d41b48c95f7f15e', '01530.a942433d8d15aa78b6dbee89bf0f09d8', '01531.b1009af0f58d3f0002fbcb3d95f6c1f1', '01532.9baef6f6223b67dc9a0354edabd518d7', '01533.9043f31a8168ff0742a99269f4628d2a', '01534.0af697b73ae39808dd4035294018be4d', '01535.5820cd5a31671e561c20802d2e005914', '01536.9182389be6cb243f644c8cb962a5679e', '01537.ded3233d7649ef141c30e4cc1349f790', '01538.5360a2f683734ab1db6aed00cb329fcb', '01539.1c647c2f17378d671f0b94c25767f708', '01540.a88bbd554b661bc22b47ebbd2763e88d', '01541.88870557aa0c4375f11749cf5cbc6c05', '01542.ed72bf2cd81ccd4c076533fb0af004e5', '01543.044ee0da6eaa44adbadc131be0bcb2d2', '01544.62616d90c7904be02b84255b8dd94006', '01545.0ead90c2ca16ba3631a48c1fff4fa3ef', '01546.600ca62f96dca0db15aa9ebbb19426a8', '01547.637d2970bb87c9f4090d809bfa16fe9a', '01548.e180f41d2fba17905a020043c78febc9', '01549.a465f982502ac6d7c10118f1939f6974', '01550.a036d340bdcf122c8eca891557d50b51', '01551.f08fe347237aafcc3c8cff08a9cf94c3', '01552.340f1924ed7f83b0db34841845465f7d', '01553.da9908f7cf34f302bb78a9986f901ac5', '01554.0aed12846b3981a2a13adf793083e4f0', '01555.14d3d514cf6188c29a13e0d2cdb90a8c', '01556.126fd032d9f624e282a711df96f64cc6', '01557.25496d0c7fc8acbf284debadd4f1dc07', '01558.72508aead37c2c8073e32f9e33e62532', '01559.8648558d73a0837e970b7720184fdffe', '01560.62422bb7104da6017e5568907fd41fb7', '01561.4d9ed1a0103b1a90cfd91921b9014124', '01562.c9d27ce4f88c44947e1480991162b11c', '01563.15052ebc391295c9d722e9b7f9e01f6e', '01564.a9ec7dadba295233cc729b3f7410e983', '01565.c10c0b0e0c9903345e28f9c17fc84400', '01566.d3880fbc5242d59335e33c7485ac692e', '01567.451fa9142ae23a1c09dbbc87a09c557d', '01568.ef4cc7ced238f479403332ec27f3e562', '01569.f7c58b134199bd4d821ca41598e7d79c', '01570.8328542217bef2e4eb7ee644609efdbb', '01571.a12d989267cd61ed856ebc41cc9075bc', '01572.75046f3a9b60454aa0432ddfe764154d', '01573.5f924ad49f0980813de1a9d02dc958d1', '01574.5c7050ec28a486ed83aac7d6ee562038', '01575.9eec6737661d3d57e8b3ca91200d7ef7', '01576.6b733eba3bd6a287e0ef2a99b9afbd68', '01577.481ae48bcd887cf4af60219de12f42a1', '01578.c6f29a4932ca0d892e409d8233619022', '01579.434bedd57f027223f76db3d11f4d960e', '01580.18d5a4c41d28019ab90c111133a07d6a', '01581.83fd47e65808dbeddb6340cfcf40b44f', '01582.251d2e9ec5028a548d6ddfa3dffe86c2', '01583.588f335629805c17aaa6b880c2f586c7', '01584.c2bc0fb5826431ed3df58a0fc968c068', '01585.b819696d5221a8f929902b77a2fc966b', '01586.9f27ed39ecac8ed15e18dc166e930005', '01587.574845236697b5ca4b2133ec681b224a', '01588.f0623dc7b744dd2ba0417f8f0a98662f', '01589.be65e620bca0f1734cd13c71aea78d4c', '01590.8403446e474e3cc1f6acfa87058463a1', '01591.7504f83163aa1c627354192d452a43e3', '01592.2b5d8fc350354b303b6baf2d27f531df', '01593.72453c2f0f6643b4e5f7da773a850b9d', '01594.9e0ea187c7d58d78b9c2a00ecbb57e70', '01595.2dda182ee17cdc04e14dd985a9845330', '01596.fa947ffc2560132f53cc7c0bbf39b584', '01597.03954d8ac44189d40142445ac632f6cf', '01598.3e6e25959eae3d358e21d7144f61c42b', '01599.30e5cb62246ea4c06dbe1f8024ef9ffc', '01600.2a010487f947580f4281abdb3afe5750', '01601.e5488e0e0b9bde9c22e601b1450b63b1', '01602.2fd825dddd8dd74f7f82b2d93aeafc8e', '01603.d3522fb154c0d7e5fcaf91d7720c3ea5', '01604.6034486f13e8427d9e70ad088092d856', '01605.41b0a44d660334296aa720bb40b1c405', '01606.cf1844a356849ed8cdafb12185afd52f', '01607.85bc88e7dae2efaa4f87e070272008b4', '01608.17c1ea3c65f8c32d5762fb045daafcf2', '01609.9e95ea932d2a0d804e7f53bb8d551fa4', '01610.b932de9054af897c91eb2296e8be689c', '01611.f2803c52f689e2139f8ebb09ed5a8d91', '01612.cdcef456e3de75e0c6478cee11565c41', '01613.120a60ca54dbc3331f12609c19388fc4', '01614.005f290e71d13de44d3503c640dfe57c', '01615.63a41aa663eeaf93728e7b1ab572ce91', '01616.f02bab7494befc6a9f31a8b12523beab', '01617.dabfe28cb18f031b5c9335955ba0c164', '01618.c12a22faa8de12e5dacd4d988a0b50a7', '01619.e65e0291e555b111a9acd8b2267a0e1f', '01620.444bae1904c633c8de3f890cf9e5a5b3', '01621.877e68b6e88c06b95504693c90cef86a', '01622.91f94fb37ab624a4b3f0b26fbc428c25', '01623.e4e8861a3bb3e57547fddbaba4b76f3f', '01624.594e8b3d4bb51222991dde7f1db2e5a4', '01625.a7d55f4ad9a62d11bf4e0e5894963f70', '01626.daf72a49b735dc3319a809ec520f2283', '01627.99a91446ce39d668286e93f7703dba3a', '01628.ec313c39ed14b11c19c8621f679fe2cd', '01629.0ff6ccf08604c57e81a797521f9c0e6d', '01630.2ce9002966c4aabfcd51c0ed8182b513', '01631.2cba1b5addc12959348f0318a6cd9bee', '01632.60dcbeefdff4ef0a1a8fb4625240507c', '01633.3eb28763a8b55952e8050cbade5daa49', '01634.124f7f456644842860afd1522cd88b55', '01635.7ee140ca2744c34a2ed33de3ceecb016', '01636.07c82f37d072bce96820af0bbef80eff', '01637.cd9dec755fc9e6d819137b8e0111e031', '01638.1025c8d81a3ce398f65fb401537214fb', '01639.9ebb5f33ccd9bcfb089d758b7523f0c5', '01640.75e754f7e80ce9c9e26898513069d35f', '01641.af4f10c1dad2aea2637aa8cd093adc34', '01642.6e47b00b04a6f2cb1cf9c5c86031132d', '01643.e3c2e047714a395c583f80730acd3762', '01644.77c7add87dfb454c2bcc8ce9f60482bd', '01645.f61b77d47c074402d1ee5976e9a4fd7d', '01646.6943600e0de67c472ee13c9f14345e0f', '01647.c5afcba50538a5f49d6e261f6bcfed40', '01648.7758ab9d9eb224bcb73e0e8e803e92c9', '01649.5bcdd9205f59d95e025a2896a38ee2bb', '01650.f51bd31e8f0e63be278c22d7a4d2bf10', '01651.7cafcb2d9dcaadd665afabc65c267f36', '01652.864cc509960bb627696e65943038856e', '01653.b13797de35037c4f26356e89ba3f9fb1', '01654.ade7f371dd3f7c4393baf201b803755a', '01655.c3fc45d31d7f105f7baa0d7617f71402', '01656.705cfa5ceb056324fe8fef48d12754db', '01657.a57fd76dcafe47299543685aa2387d32', '01658.eeb706ce24cbbf2cd21648a4781a1464', '01659.1d4646886358156accce640171c77c1d', '01660.2ac623f4f429bbe90824fa535e73b558', '01661.1393ea887720c777d1429b07fce98ab4', '01662.4257318f87e53aa246882d00e42c67d5', '01663.16e55768065036480deaa72ebb3bd8d5', '01664.f726e854a4f84a55fa0961e65c372e8d', '01665.e849ebd7ee95f02a6f4d937acb7575e2', '01666.531649d2c834408569b5aba7d5b2b9fb', '01667.4aac42588f98c49a6d4c39c4e65d3387', '01668.8880ac0caa45450bea484d7e9cafdece', '01669.d4ebf95243e3b22d80ea63a1f2be06cc', '01670.2f86bbeac16f343c0c9e8d9d363cabb2', '01671.572d5d58699f0b03e959bbdc6ee14e83', '01672.dd744a40e87e0715cd0153fef3a63a99', '01673.6a0570ff6d45b717e0b6352d8fbf7ad4', '01674.6bb054bf786bfbfeacc78dd1918ffbfa', '01675.5e3a4fdad399e2557d6921d7e938faef', '01676.b1039d148dbb347b468973dc6bfe0319', '01677.35908078146d2d19fccf8b786aa83cf7', '01678.8f5053b1fda58d8224b0fb4827413912', '01679.e027f2af78c05f8498f09d7979cd127d', '01680.3c26c587b4fe3b681981c38f90593e02', '01681.0e74974631f665395f5e6b01148b4bee', '01682.aabc3014dc8e7bbf3748d1e1b2afbf56', '01683.59383d91430d9cb58e7d0aa4e25b1320', '01684.94ca5ccaec9be05c252bf32961a86a3d', '01685.26beacaa0fa03cb6199c57b8a99a2852', '01686.146b27f3890e3350b0e596b42e18a985', '01687.305d7c2b4c83864ca868937855ad1b27', '01688.77ff25da8e59d16dfba5c708a0cf3b69', '01689.f3dfa7db118b7738bcdaa1cd81a0f1e2', '01690.c20b0ff2930d9b36d7aa70e54939d12c', '01691.6057cf5e982869286b4742cee5639a4b', '01692.3349a6670b58d2a39307e87ae0012294', '01693.5f6c04f93ace9da3b5f9e0906ba608c2', '01694.5bae1500a6c23344cde8b81dd95a2dd7', '01695.5914721a121b85cfdc0e39bf4b4e8970', '01696.70dc9da58ada190c2c66f34986636594', '01697.75f57c5146462b574d13349e5c0c4bcc', '01698.906dd11cca6bee22c6843afb597c87a3', '01699.235f7aea351e2aa201447c134468f723', '01700.03a577fc11e0a5121098e0dc83c97d6c', '01701.a28b76746a64d3d352375a462f4f8404', '01702.3a7add5306fcbf4ac7eb42c57c125e85', '01703.db99848ddb40f4d5a0694557363c7250', '01704.7f2b82a41322fa94c43a0dbb75472ff4', '01705.54f25b5c3ce8b81c56da0ef6693c5ffb', '01706.582f22e10f4f792eb0efe0499d37db30', '01707.46172a3da4e739c7b65a3b3aa3869e9d', '01708.49621617c6fee0551ce210e30094898a', '01709.f25ce16131a4a1e9b4eb4e04f748509a', '01710.c86ae674674567c5779cfb7a30385e45', '01711.95d3ab2beeba9b96666d25c09de2143f', '01712.c20d5899b4b27415389a10cd4f400019', '01713.7e6c3f51ab4a45f60fbb0968d56f512c', '01714.822fd92abf93a33969943a291d819fdf', '01715.30f57f8851044a464064eec4c938963d', '01716.8e1547062c811ff9b62183ad65bf4ed6', '01717.7b6864b6307973a30ec24e69fc4a466a', '01718.049911b67a0ff546e80e2acc6bcbe6ff', '01719.a401ddc61fc3d89fbaee70ea107a9956', '01720.edac63c7227d89192cc41c922d689d22', '01721.33f28d80618a37469e4530603d6f8b5b', '01722.d77de28865080535c4e108eada26ed24', '01723.26284dbbc6f595fdc9c388008e5aa72c', '01724.9dd46d474cc33df16c9443ac6759e679', '01725.80327e3b2580e1e277165899b2532871', '01726.1c598ff775a4de81c391eb9bb738d0c9', '01727.d6713b65baf275582be556a87a824dd4', '01728.0bbb7ccf73587c7f02655596e7fa6477', '01729.01f5d745e5bca5dcb35f0f863f4b0bdf', '01730.3d930e2d4968f325cc6a773df09e8969', '01731.48b91fabd8e14b220898d3daef4ff0b1', '01732.6c654f95a549a4f09daff21def44f511', '01733.7b8c9da065dd15894b0c6f851ac461e8', '01734.e1c6a4364e0762f323cd69d23e030fc8', '01735.d038cbb36f734c5ddbb023d074711d10', '01736.c66fbc9c72afb9ea062537d3635d1d6c', '01737.0adb46c649c37f8f26c46c6d1b0d8d93', '01738.780eecf7f0db1db00bd0a6248de51260', '01739.f57fcc3356b4c910af8ac2ce06d7301c', '01740.22ff82ab4b9265075924f41abe0460f7', '01741.2a15d667c53727befded94d9b526afff', '01742.e5c02ab6101d2a7759f059da0e6385ca', '01743.07f7f47e25de2b8f08cabfc5ef3e3709', '01744.add31f8a35fa0fd63e70eacd58c82a44', '01745.46a467858b1369e9513a8a369a67a70b', '01746.06fb7b96d18dae121abb94e8a7624f4b', '01747.147241797a056a32e99562b240ebb283', '01748.69dcabe5a5fe6ffc5e20522e4c5477e4', '01749.da79f6e9c4f07174e5dec173c9481b99', '01750.73b4d9ab83de83ae58707c8bdcda0fc5', '01751.bff303bb4466a91b0f88491b207e8ed8', '01752.a672617b99187e1c4029bc33a4e8a596', '01753.ae52e350b9847d6f5c6ca350c4f4eacb', '01754.8fbef0589564bb19c088156227772fb9', '01755.51e8b76626231abf27c682904ee4b4c1', '01756.0e8cedd7ff0e281e2da6e6c40fd177a8', '01757.994c77afc8d6fb072d8b95ccfdf09627', '01758.ace2433031b3ea150e728b34850cdceb', '01759.9f36557559ed64908479a42411c17b4b', '01760.bfe819f6abc823642064dc200a54be39', '01761.3dc0d0a66c067a0de0afd63c2524594e', '01762.9c9c7d47366cfecf47ceff0f68554ec9', '01763.33f1ae2bd826fe0fcee7fa711e6658a0', '01764.67be9637b8f7f4dd85f8a96b016a92ed', '01765.1fdea814d93c5d2f3254299057e78ed5', '01766.cb970cd14ed91de5dc42765019865a19', '01767.6311d2facfb91a58256337892138dd6e', '01768.d947c066118f7fe81e5d4b45fc572f94', '01769.c9114afaa3ce4beff694dc5cfcfed322', '01770.0e2c720e2d4abac3f8734b9914186f21', '01771.dafcc5e0c21e3748ff6169c2c9fa0e63', '01772.e17237d8112c2741c1b8819ed4cff474', '01773.e0850dc6f3d7e902f61de852025ad50b', '01774.cf5f37a5bfe6c69ad140690964495add', '01775.4ede389289dcd6b898f0486ee505e2b7', '01776.a24065765090b85ec4ddf2959d995685', '01777.847e32367275b88c4d83c54288486c14', '01778.942b9362f8c42ef1b372d45d423f33f0', '01779.417598c604ceede305e840bf6cd39bcc', '01780.cefffc9e96ebdadead2eb63ffc6fa8d8', '01781.37ea8ceefdbde6881efe1460f4a9406a', '01782.278f53b8f65fcd422cb26c5bbe74599d', '01783.8eb2bfc28026b79260080a288a8a468c', '01784.c15f9f673cafccec42a66a0ac5c93bcc', '01785.e7cfe3e061b24884f128628969d5d790', '01786.3ceb1c3eee839cc3c0493c42182a1d06', '01787.8c7c325481bbce39e57c1fc224ded7d5', '01788.13a01b91868ffe1729e48559df46e978', '01789.f0bfa328796c1dbfb2be2b30c54b1d8f', '01790.b34e1f2eb1469c7eca5e14f49bdb1956', '01791.e4725d74c9e65532740c0939f407c063', '01792.d692d61a2055379dbe501674ecca6b58', '01793.40201d6bb7828b8f79e793823cc25580', '01794.e322c3e66406d3a985a61aba25902c5b', '01795.81e9f47a31cf1179ec98bf927e26e9de', '01796.a693e22b61e4ab58fd68f1b52c39e293', '01797.bc81a0859adaca5ea082f4db7cdac088', '01798.0b993670b6535ff7567d1f05af8eb4e8', '01799.b520d5d5fcbafd03435d8d2b887581e4', '01800.1fd79d18b9d3c56996ba3c40b26df35a', '01801.1724b0100b279470dfe73c76f0f12b90', '01802.ff9ee51b3e799284764549c0ac551301', '01803.ef4fe207e525dee50b369a7d61b5d9ed', '01804.4a2382011fcfcff362ab880720012e74', '01805.10159c57f30716e6768671cfdd865e7d', '01806.cc26d0fd2e1f4320462e811aad1e9a5f', '01807.08bdc96ca0f8ca425fe8acd21fb25c70', '01808.6c7e63e38f30e266d3fd878049ee4836', '01809.2edc06abde52f0d98a38f0d82f1df79f', '01810.185304bab9dec6787060fb4580a01729', '01811.e6ab34fdde98dbbb9beabd7cd99028d7', '01812.feffa846675a880e453fd3445af97ee0', '01813.2711af4b8a31e4ff0c38fe92f2fa79d7', '01814.147154187b3dcab4d2065a1cd9beac95', '01815.8d7b043ae6c9306a2926deb530eeb7a7', '01816.6b3df134031475f588f5f5533afd344e', '01817.90971d2fe4d8208860ceabfc847c418f', '01818.25094be6fb43cd96116debebf792807f', '01819.6fa6ec281b4b77dbe5e802748882249f', '01820.96d981c2fc543b11a6dd277e7b510bf1', '01821.8c40839ff8502b2f68bc7295e1cf1371', '01822.b7ebd6708eae196f05fcd57fc3e79efb', '01823.facfb054d9543739725ce71d1c611ade', '01824.6d42c63b158791596bce94b47b076b66', '01825.824c1cafd03a8dbf953d5ab27a191e3e', '01826.ad12430bacae88235edc88001bf80c9e', '01827.e9f4e7b5f1fd68f9e800366097c648f2', '01828.11c5a509322a65af2e98181f5a47b8b1', '01829.1c87e9a5f2b7eb832ab305288b9b8438', '01830.edfe460e0871e3f0da84f16a76abf064', '01831.3d5b1520c6a4ea6801db4e60f6d20374', '01832.f1fd44d2d038f5c6f845b1baf01b0c2e', '01833.a5d6896566d14f58063642635cc92756', '01834.e716d845b22e35a8b7192215a3705057', '01835.c8221e8dc28b9896f51c8cad173a2321', '01836.b3c961ef5ae267e9d3809233982b0b23', '01837.35d2e6dc532ce52d25be82b08b6daf5b', '01838.ca87fad0e36751e30a3595555d3200ab', '01839.cbc2edf86a3edffd90cf1150c9829396', '01840.1f9b806a13652241523473772e8bd6d7', '01841.f6e93800676ee7030137e589a2906013', '01842.87765cd89a91416e1ac34a38628be46d', '01843.ce0f26c22efed433edbce217b1e56331', '01844.291384ad2b36270505f0923d501a0c1a', '01845.7d5cdeb25bed88bfefaeb8c1e01681ca', '01846.af884c94693e5cce571396b4fd151167', '01847.82d1ad908c6b97d8c713a9633992bfa5', '01848.0d688cb288a6392e87737952a68961b7', '01849.d52088ef45a2453969e563a04df1e1e4', '01850.f789b0fdb4ed4a2407565f9525815222', '01851.7d72251b2e0ef6c5092d34b393efac00', '01852.2f84d9c30b714b8acda055bdf3585a7d', '01853.0898df4ab8739dd95d821cb6cf834083', '01854.b9d034bad2e2cae90a94cf369eb37673', '01855.19acbc78b4bb1959ace6f1ec1d6329e8', '01856.c021a63248e3e6a2e151b67689d75e13', '01857.573641361191125a643d0d6c52451e0a', '01858.c6147940a2048fd84b1d8c2d0485a9b6', '01859.8998777b348fa74fc13a7140fd95766c', '01860.e3c05c35ba29c002364a701b79ceb7d1', '01861.b9f301b256385d122143d7de7ecc711e', '01862.0f817e5ccbe32d7e7ed0886f2393b887', '01863.bd70d6cfad21b043c84dab8e1e86e2be', '01864.5c470b3dac9aa63055ed0d4557f9c43f', '01865.ce38cf9b8b0850e17b0510a181f6167d', '01866.75c5029703de73d75e5ed23b657ea052', '01867.bef318a5c37fc91ac6973482f70e50ce', '01868.387fbe2fed47c184aba7bc60bb90e6b3', '01869.1eb8e1093d75d3694e00857f680fd768', '01870.2c9f4adcd1eec7ae3607d76bbf9063bc', '01871.559182646be4765b896699c6b1036739', '01872.12ce21b8ad1ce1683ad4ada3ad4d3f8e', '01873.a6f902f85a5f8170fbe24b3da8ce78b3', '01874.e7532bf3a643c2eba1d2ff1dda98aa25', '01875.a904e15f372e7f833164f6f94e136304', '01876.2cf3694e786c36b8538d4e8e72b2b520', '01877.ef69b53341e4f02ccf01ffdf83db34fa', '01878.e825bd2722968151f439704c324ca9d9', '01879.5983208e53737f295fe86bafed730c6a', '01880.648d1b6e86c56206eb60856243321265', '01881.5fd0ccb8cf61b46dac75efd3aa4893f4', '01882.2d19f172c5d4beb01b16e4106ea6fed5', '01883.16589be1ac43846c99b29ce78cd60223', '01884.668657309015de89f9c77353a649aaa3', '01885.55d0ff99f3f0300f151c636966a077e2', '01886.a5067b050d45de749e4ffb058ebb836b', '01887.733f8aab4f2bb3d9b709acd44dc175f5', '01888.8a0b734ddcedf7c25b60250d8c7b6e11', '01889.494c3e4735873024c557ac4b0a4fae61', '01890.ca549f2cd53f42b6b70717f051f03e08', '01891.ea821f774736a6a9b155fe0dd4a53ad1', '01892.701fbf72f73f9dacf3fd176e14660a04', '01893.b4a8f702e496578a4df29d12624abb4b', '01894.a6896770e24b5211fa506b0039343769', '01895.45d546ac150b5bdfc6eee0e122aabbcb', '01896.516f258e3f8185d4a0e002a7d806bddf', '01897.c6a89cc02dd2e65063ef2f16ad080021', '01898.063ef9dcd226ad1fd43c94e2d9de4e49', '01899.c95b24588b4ed006af5332e498a23723', '01900.1b90f4154957d1860a3de19ba95ede12', '01901.b9c2a64e9531ae9f0f6aedbb42b7c1fb', '01902.7911c2c7f6b6f3ca8ecf8fc35df8aa28', '01903.7cd58b43139e430224c5de7639b0d5d7', '01904.c85458b60f9ef9b77f1f9530a7d3729e', '01905.5ef2d9dfa4dc1df5e1c2cc2f7f694092', '01906.9445c6890c7a515634bfd7f52116cb45', '01907.e3d6292e517c3efb5e11773790b9be4f', '01908.d4433993e642ce126d272930d9ce47da', '01909.46dafb96df4c8a412d5d7b1ba7469109', '01910.2eb8fda6fb32ed1a19ac7cc9a4e51f82', '01911.4b2610df15a17c72bde555e33ec43784', '01912.a26e261a1b2b9af7d0c2a4341f173786', '01913.2a83ce1d003b4e136cc6a4f35cb09b50', '01914.4d0a9a472c29ba4b5fa18e479881f627', '01915.45328e54f66be8d9049a97d4bf52ac4d', '01916.927341170e7ab60892b8ad1294be7454', '01917.5d9c51a24c9b60a4ac76d2f55364acd4', '01918.3f9c0a50f6fcfe9f048fa71f58c71760', '01919.d7184a960a5372abc840760b64476b79', '01920.cd24c8611ba6d6f47ea171fdf5907194', '01921.fcba8196561fbe679e04ee55aa5bccb8', '01922.87f1df03581a29cd517b8fd78fe73e62', '01923.6b9f0ab130fa8a9762525e7ea6d2b478', '01924.1df566db37be7bab3b91a279282a055a', '01925.bf3c999d8afa02dda7e5cbadb2590c56', '01926.a39cdccce6bf270df65526eb028cd53f', '01927.813aaa504987571f43b3eb0f264a1191', '01928.d1ee764b9abe31d0074a052066b62e81', '01929.9db22d74f8863514abb093de574529c8', '01930.4a3619ad3669bda50855cd8e3ab85cb5', '01931.95bc125f167b45a2fe51796fc69af04c', '01932.f8c1d938ebba259e2926cf4400891c86', '01933.340608a4c5e02c7f6fce00e78818da21', '01934.c78fac21c6a9fdd42667a2e35f8a4692', '01935.ee107676efc24029cdbae10a0d2fdcb9', '01936.f08c29205773f60e0c4960c32d8ca845', '01937.34432f6d48dea72a52f5feb0593ff808', '01938.da956f847b734888d96d8dd4ee736f40', '01939.189b450fa1626558188f4eea2216a77f', '01940.8cdfd0318485cb2a285f705c962b783e', '01941.37649e11410be2f2e3b9edb8753b4d8a', '01942.30343e06573f363493a13a5a2b4ebc6f', '01943.8c51a0c70d8f706da2c5435fe4f2bdd0', '01944.246605bdc72c4edf26299853775632d8', '01945.68b0cc1d272dc3bc3bffcb3112379650', '01946.c1c46e47ea231deff72265e4913d2989', '01947.1d30e15168424f7d1342c5dcd60f22b2', '01948.d51fec6f7672e603b0a3113a86869d10', '01949.bbbed2631072b12ec6ce17ee94aa0852', '01950.5861f344d1425a202572f92ba78455b1', '01951.2705d634a1fbf2b8f592c5904fb3c3e1', '01952.b1c3aefbb256d7b5ed14a7adbfe46cc7', '01953.68702f882d7ae19147b1e20ae27fe192', '01954.1e0de194b37c10621fd49e3364fac758', '01955.9a79544ac8b1f704edf3a5279199a2b4', '01956.48e99fecde779559c37f2cbe80268a5f', '01957.cb77a3e0c65f431a0b2060fecbc77e17', '01958.1e8e2e3b7209d3f368f2ec07a6ed7d18', '01959.95ec2c4a427341dc7907c29de27eeb02', '01960.fba6095606ddf528fe030b09bc0d213d', '01961.b47390d07cd4c2dba35176e9a948bac4', '01962.0d30a20c3c442d13266e8818fdbc2e40', '01963.8e6f21d04d443ff9c7ee96c9afda33fd', '01964.1aca2f1241d31ef4b04d07804347b592', '01965.05b80e8b7ec20c70737999bdf82714ed', '01966.892057de32d635ad24f06844dea3ef71', '01967.c30def1b9cb26faec22834ab35e8a4d8', '01968.3e981a6ec4270b2d9c5ff91b412270b7', '01969.cf0d52e9e3e36aad1531882f263d2c16', '01970.953f97d05583f057ab9a56bf1e8a9087', '01971.9ad3a97c1c02d6d43eb6d36d6554187f', '01972.2cf954aa6e8e1228f1641f222aa1365c', '01973.993039d29cddde0cdf4b0d58ed71fbe5', '01974.1d45bc3954f2572bcced02004515cf9f', '01975.cf8723fe55a068c4cc86a29ba3d7a96a', '01976.36f1e6364384d6b12b89200071b5c926', '01977.ba3a34c315c74fbc8c92ec2802b59deb', '01978.f18e3f39d0279942276343a9fd0b5858', '01979.d734b8873a97f8bdd28ff533c2a57bd9', '01980.7c8a47a94e97e6e9c5c7ad7385ee932c', '01981.9490b3cdd1178076369a9687a7ba61d4', '01982.082a7fbaf9f6926f0fe7db4024f7e847', '01983.c86e755901d631e96568bd63d3d42b34', '01984.d4decf46e66a4fce3fe8fb718de0345a', '01985.6c30949152f8ef16b89a14157828f338', '01986.50558fe132d11c723dd80f7b17944d0a', '01987.5a551d9f6cf04a2c2465f59a64e5c349', '01988.28cb6159d514e801aa832a9b9e074664', '01989.6164d7ff1901c22ad3aef666d9b0e00b', '01990.39a9a025cc77060562dc4aa2558c9bfe', '01991.27c828be78e15dbf223bb3f3944508d6', '01992.a1001b981c9a668d9ecac46c889a5516', '01993.0d629f3a16f0cd287ebb51fa9b18ad30', '01994.6adf7b49957166bcd6d6bbd3715b44ca', '01995.cdffea988c8a96c8ad9246306a1bd851', '01996.042a235bff6cf2c28002f366a0014042', '01997.854ac67a4aee0e4c65f0ba7aa8602421', '01998.f090217aafda1257441170988ef77744', '01999.be500ef9ae24936ccde1ec4300fb97b8', '02000.b361c999f4744dbbdcc4b63f9136c0ec', '02001.2c618fdfdfa2ea01d0a5b6dc936942fa', '02002.9d050af76b119f481ac03fdfff6d2855', '02003.0efdf5386d93ddbff346b304c637ab35', '02004.58880d4612fa6d656058f7d919a8a931', '02005.6dcbdb5a9ca527afb89bb80e65f94fc1', '02006.e6e362eb554a8cebfec08a622aa57ade', '02007.56f76b49333a3f97e5464dd8dc0cc419', '02008.457f36e690db26cbdfcffbc4a97aaa86', '02009.905783cbb4da8e14c78b45e7e22a024c', '02010.19960a552d8fcac95ee22e40089b65d6', '02011.2ff6e35252bc54d7c4d2a88902985c24', '02012.8ae061c514b0ac3666a3c468bae38b8b', '02013.63c8067b2baa06b3d1b0e4703f242080', '02014.9bd5595bc7eb6aa723a125b1c4597af7', '02015.3eb2d99abc124ddf8e557c21412b7c1a', '02016.bee6489a5881c10f72f8fc9ed69647c7', '02017.0fa26737f69e42fbd91df35b8c40798d', '02018.da7863829eb2ffbc8cba0ba84e19ce19', '02019.be738f87dbaaa59311e56b502ed7a217', '02020.c4892988e3528bb4cd4fa0e127fb8367', '02021.8cb448c156646bcd63bd5f4d801445fb', '02022.5ecf975278edd8b82be5e9afaaf5f4ff', '02023.36162b9866a8ec72ee07e96ff71b28dc', '02024.a456c36c72668eacb428a23a0020fd77', '02025.0beab0f85f7c33fe9fd50d2006defbfc', '02026.e6e094c6110cbff0c3a55e0fc5c9273a', '02027.60b6c65b051a3172d1277cae222638c7', '02028.8bbeba8b0c9494fd378235a5ab6e0c34', '02029.d5a4d6426d7b98b1855162933e94e489', '02030.596414a1b7f0e928af1b40535a6cc0ca', '02031.b9ff23aa908548b80f2a19f81b9fa700', '02032.c9f7d8c8ebdcf626a6bbf4e2ae23a827', '02033.7e339b1a98f4c553ca9f293b32409336', '02034.bd799f09b362a83731ae6931a7916caf', '02035.842dff8f82400d04db0407a2ec98881f', '02036.ab9f23457f950a124c5b78449cc610c7', '02037.e8c4c40b39c2c650031428e8e06d9be4', '02038.66020ba7bdc7df1d4254b6371d688e14', '02039.e857d7be701dfbf786040367b1a7c4ab', '02040.fe93b48dcafdc2c4a30bd41682baa446', '02041.cc10a7838446976226cbb91b0c89ab5d', '02042.c31b1794eb5e8972e312ef4b14fe3c9f', '02043.aa852e4d083325078cad6d701ffd99f7', '02044.49050939c26d30dbc6f6c21bb5d20879', '02045.3c41ab8c1fc88e04173c456288628c63', '02046.4904dd6df6b17114aa4e41ed891d37a8', '02047.58252091629643882c4fb2e260954c60', '02048.146a986ae719349d6b6e4d5f9c0e38bd', '02049.2ce8f1e1c26f0c95f2e72853dbf11100', '02050.180c2df32d19ed66c26e0cf69df96622', '02051.58e196144807bd76d7b77d4b7efb6d32', '02052.b3ed6f4d14c22157fa06ea355abe575f', '02053.c0f3c7c8455da887dfd0dd3f5e151eef', '02054.56a00df5b128866454ef832ec5ce78a2', '02055.80f7eff41824e0337e453a988ceda994', '02056.7bc7703e40a24dda665d4ce7b0cba710', '02057.e12a3ac5c26689c7cbf57b12acf63314', '02058.75b61c2e1ca8c0db4f01c3ce78bf9334', '02059.e7cb2f48474335029d7eb951c82722f4', '02060.0b202908cd60ea1f719c700ed73f2806', '02061.22bbc22474fdf08ca2fb5d8353675730', '02062.c7e072e021caef4d69db2422f117acff', '02063.eb91377a959b437f6977f0db277f30e6', '02064.8479a2ccea9f9f503098cd53601ca0c2', '02065.4773cf538284baa6a4b0c26e41115e8e', '02066.90b20b7ff6897463b82a981713cbdef4', '02067.4d2f2b0ae64c68570f08423ed43ce845', '02068.bbd1abb5ce3c84be97f8423e631a872a', '02069.6a2d4fb29121bc81427eb1519b5fdf9c', '02070.5686ae05b8d5e6eb569995e3e4fb2751', '02071.eb5bab68ff59c5d8b3261c30e92b5cde', '02072.d62917c72ae68ea3b426ad9c063e461d', '02073.1b332bbccca72969c7af61749d0f3b4c', '02074.c21a64b241c67b1b9b647c20f9b768aa', '02075.5273c4e858a891ff02f032381abbab4b', '02076.b889755182f3dbd673ff2164775d8c61', '02077.b414e742b034b2ac1a59abf3c64b4c18', '02078.bb5e15e013281b062bbbefee2244b90e', '02079.a265ac9e0309b96f745562b578a95208', '02080.dada2901a28c2e2eb93daad554ff9e0e', '02081.c1f8bb9aaaffa5ece4200abaa1eef28e', '02082.88d2cf1c1b7a9e8fa24712699f8021d1', '02083.7f857949a544c14d1ce9083b355ab9dd', '02084.fa79aeac6edde944f05e95d07b13751b', '02085.fff553bbd7afbe7514d53ee72c3a0f96', '02086.cce6b354269ae66f536b1e04b16a4197', '02087.1d6e87f2e6e97b044d7c4955a1e394a1', '02088.17edeee5193df341ff427a8b9b20aadf', '02089.66f20c124425295959478a681acebb98', '02090.b0f0c24b38c70a02ab6cd7d3d9a5ede7', '02091.a8d680784cab21286b3061455a5417f4', '02092.8d8d4dc1b4aca7317182db0d5deb3504', '02093.469eb0b68209dad7e394d169f24f52d5', '02094.52be9f01821142f5765e27d7da4d98c2', '02095.3a693b19dba1a74951afa2302b39c23a', '02096.6666e73fdf554a7c90fe9713625939f5', '02097.7804042a511a199b02f3da79a05d54c2', '02098.96a584164de1918fe146c1ef4012182e', '02099.b813af8263b207105cc291c890dd6a4b', '02100.9e565da6180ec3bcba22c6de299c27a6', '02101.295cc5ef152533e232130931e8967fbc', '02102.1c6772318e1a478b7363393023e8615d', '02103.965d43603c70557c5b97202ad556ab1e', '02104.aecac880ad87b5a3e10b11414fe66746', '02105.4b566a220773c7dfde49b30a87949d22', '02106.32e64793fdc81898147d99f0f6088022', '02107.02e8d908f24817692efb25a72094385a', '02108.26f65a28cfd5799070536a2e9b24b62b', '02109.c30c0a19444ebb469f7985e56cd2c3e0', '02110.0d93f1c3cade1575f248f9291fb0e505', '02111.b9e939730374567a02cc9163ad2bdae9', '02112.cb5394bfccf5142a80f06383c4e8864d', '02113.9c60c7a3fdfda46f4a2946ac84a2b368', '02114.c0b6a6fc087fc1f489402941ee3ccaa2', '02115.ec06cd38c70f03bea7521625fbb3a370', '02116.ef7558c9207d8d3fd813506328130c92', '02117.5633de8a0bbffe95762840affd0986c9', '02118.bb124ff787bb569dc9f12eb6c9995ce4', '02119.b25cd2dcf356da11d164e24384634f4d', '02120.335e5984c47786e3ebf25a2b2b8df23b', '02121.a3d7ff79d23212690ebf4252a79ce4ef', '02122.22ce726bf257299808d6ee1092e1021c', '02123.aa6a294680d57c8c1841e0ffa52943ad', '02124.6bdfa74ca5ba8137a6e3cb9e239da331', '02125.65dd6c7fa2821edf108878b7d8358659', '02126.a174877fa2d5b42dc9f546fb730a1bba', '02127.ad63b18b0cad3b4fcda7e9027f962053', '02128.6145f76cb91b506940866355a81e3e05', '02129.6b9fb6fade127a4657fb25ec86f96399', '02130.88ee51a6832ac1e8177adc4421f6d519', '02131.bdbca1d0e61528e8b86d759dedc06665', '02132.e928b9a7c9ef61c237c9c4436c915883', '02133.fa79ba4d4cc50dc7a06841fac00bae2f', '02134.be73ba19e760b16a8aaf67fa400e093e', '02135.1164b8ba39eb3436bb354c2ff643c609', '02136.e5c8edd8057c6d595eb368cde9a8aa41', '02137.eeb2c9168c0f339904baf7c8099bf9c2', '02138.11d7e5296b32d42edecffd41e9ea4405', '02139.cd47d59fadf3820279deae89a3c9647b', '02140.ccabcb71ece6c0835518e4c7900ef94b', '02141.231d4ce2138a09cb98710f20f5e65765', '02142.5e6033b9cc15ca182478cf380cbb60f7', '02143.dd0f85f71161b073aa383206a584fd9e', '02144.9288d3523cb8cb036f166e3b69c7ce05', '02145.61ad4950ae2ed9433d6b7d54b6f1aea7', '02146.08b5ca9cb17ad30a0295e17560307aeb', '02147.755e772a933ae1f7a6311e10bb298532', '02148.b1943afbb4ceeb22287a67baa3ccd266', '02149.1c0281a08a6b3ae2ba66d79e3beaf032', '02150.8afb54d691650381863620864dc83f29', '02151.d9959f781f817fad004ae40eda5f7748', '02152.8df514c41920019281f8f0723dad0001', '02153.3b412c75b49b69f16d96132f9d71e434', '02154.ff5a0262e2def432790ad7c13deb190e', '02155.bda8d6fe384d01fbd2bf35694c5f8d07', '02156.74c1dcd4f27d57b0ffe636326f652c5b', '02157.931d22174434be3dd5356fb201196654', '02158.8bf79606e0b4c729519937615b0fb494', '02159.3b7200492cf429f50cf6668efb36177f', '02160.c5ef0a4f48766c7209928b8959200f2e', '02161.4b942bb106ecf89f8cec2699e8a9a7be', '02162.a1a481752dd8f6db2d81b0c27866b2e3', '02163.39e9d518b4d551f900e959eb7345fc74', '02164.9811123409bd1868ffa612e9ac926233', '02165.5a53a5143f3c5a2caa499f831f29f2a8', '02166.13587bcaeaf8c5c3c8b234e4ab90bc40', '02167.2c54db4de2163fee22c21095780fb2c8', '02168.7553183780de52538cc77ddc247af5b6', '02169.5424cc156b999457273d8f8d8f630093', '02170.0a3dd712120a37116a51102cb8d7e5f8', '02171.b9bc07d8d041e3fb2f0a75999eb36e16', '02172.f45a282de760a30c7f201e6dc79aeba5', '02173.e732f964a266e408f2ba0b5ded6f867c', '02174.972ad84526db8315392111259bd7eec1', '02175.05074ef986eed2c7c332b0cba9c6dabb', '02176.13aebc7d3e5c0db9f362f97ddcfb8bf5', '02177.271ffe8f601916de07520b23fe0d0921', '02178.efa76e272d764da2a8392d836722e5f9', '02179.1aea6799b3c33b025767ad498891bb4e', '02180.634c51a827a89348307b598dda197cdf', '02181.a7e15d16987b4db753c47d2ad7ebc84e', '02182.eca8f053ffd4f6353722c98c07ce781e', '02183.37c8e1fc380f9d2db2421ac4c1bdbe4a', '02184.63621c20176bcd2a19a94a1a99042740', '02185.cb5555815172c9f244e7e5da118fbcdc', '02186.1c49e48d3f59c54735464569429dfd1e', '02187.3f8ea19249f46d941671b62c7a43ca0b', '02188.3a31f5febb420d22b9ee986c4994591d', '02189.87c2e44a35ec0e62b20783d9a29d5c5e', '02190.92b3abc7fadd16370cbc516dcc0d0152', '02191.f0e2c0d69eb3c4571a1b656b2b787003', '02192.41f1b8c296ad29aad5d34d66834cb265', '02193.cf0b191c8de7d71019c017994531b644', '02194.169397b29153e7036c63ca030b0ebd2e', '02195.6b277d940aa10f421b1eb0aa9b540e50', '02196.9b6d21c546d5814dc10c9f87b1bfd945', '02197.8ff83816cea0884898d358cd0423b356', '02198.c08bebb7e1d24a5175846ab55fa47fd3', '02199.663c7327f5f9c7aa46d0fc56fbb68208', '02200.2f5bbdb813d3a4f97b7191e764e1ce61', '02201.1eb2f7b1a998eb4e08c50f05312b48bd', '02202.fd6cdebf0762194039aed87bb12a8cc9', '02203.b3cd1f66645417a8b3efee0c73dc38ac', '02204.ecd97a0ec1b96cb73d8a6765a6cd03cc', '02205.ecb148571da605047c076185be6a53ea', '02206.ea5ab2238a2d2a4eb62debb104235086', '02207.fd9ab7028cda31c1fb223b220113395b', '02208.b6600296e30c947432d10f7b0999638b', '02209.af015c8af7d05a011604be64d0417ed7', '02210.6af0d0f1a0499de6f7774e321080c1c7', '02211.06ce65e84569f2a40763e9c9ac2ee6cc', '02212.87cbd6ee3c8396df8af3e85edbc62a43', '02213.c2bba9fc586632714938a0bf1180b74f', '02214.e7a51ad65f79d62757fd8a468952934a', '02215.7378c7c75e977c87de39e8b48291c8b7', '02216.ca589f9f9e1aed8d827e21bacfc5f86c', '02217.480e180ae8976cf6457850fd1ec9eaee', '02218.f615f1b7360b9a22a0c9387f285a5af0', '02219.ac02d646e0a69417b46a3f0f475952f2', '02220.4280613b5d6f26a438b380b45b10c833', '02221.879d8772739a56d751f60d43900609a2', '02222.9bef51f7af05a6b348a6b696c687c23f', '02223.ceda95b7f82b5015e11a6eedcb50378b', '02224.4f3f70256587197ca97a89d947bb3059', '02225.fbb50abca97a353460a3adbfa26b0353', '02226.f0d35bc5878e743c176afbe9b51dc8d2', '02227.bc3b678dc7d0e59974fd2d2bfccfc21f', '02228.af711080d4eb57589dbdae3ebb10cd83', '02229.22705c47166ea4c8a659bb0b0853c121', '02230.83d29be67d33b60cfc25c55a8a7d2c16', '02231.f2e821bac37b113fc3e095f4f597d81d', '02232.5b851f21174e8a172cdeb2c4fac519fd', '02233.371bfe54c9b2da2ccdf0011da37af005', '02234.532c6dfa80ade100533cafbdea1fe348', '02235.d38f9dc34f5f3148e20d0405f31b29f7', '02236.46b510d2f030ddaa7bcc52ef26535bae', '02237.eb8f3fdf220396347b7d8a454fb9c330', '02238.f3ef4b4b526ba634c07afc13952005c6', '02239.ec845653f8827026a27cb4f5f1c6fb91', '02240.fe7a1b134c52afd2b9a666ee65e789cb', '02241.aaefd69aeb045921a2c82a01c13d225d', '02242.069e8b99ee8a2d62ec97d0e9d389aa5f', '02243.38fa5e851222887cd610d694989414d5', '02244.ec757949204665ad24fa1a091258fe86', '02245.665f72308396aa60a33375e5834de93c', '02246.b353269018884d01ee252bca5bd419ef', '02247.3e6230c66e51a61da5401d91d914f466', '02248.63dc24958fcab409ff3ea0484ee44c4c', '02249.69c4a67fc3122f5f47bb86de4d3c2872', '02250.f947b89c1c14ac1d0e806219ad0d2161', '02251.d49946be522e8f8b9e639efde9bbf1fd', '02252.ebbd0ad5e87fe492f43719803a2f7360', '02253.d5c5abb3f43de2d174990b4cc271ab5a', '02254.a9356b1df0e51b1825e6339f9d1f42bd', '02255.0c14a8144617b63d1f36d8e2b66f392d', '02256.85f12e332ce4720e3ee4b91ee62c5298', '02257.1a05802599dcab3a54d36deb369f8b37', '02258.30db9327f0a0591eda268a3dd46a42a5', '02259.75e1cd5cf4a8857fb04b58ff179bed51', '02260.6d015856826faa40edaba42f20a69cc5', '02261.cb19fd83782c6695c1172e21a4c72826', '02262.eb4d98f3705c995154ee6c778957e4c4', '02263.6bdea10315e48c5f22133ac71e43488b', '02264.2d1e4f4cd87e96f5ac2f24c992b59e2a', '02265.40b76de637202cfef4db6f2d48508282', '02266.dc8353bea2a93134f0e947ec60106c32', '02267.411e9ce8e8de3ee987f22ab7ce7fc008', '02268.4453eaf85c9daec0bb335986e639dbaa', '02269.ee87871a0b0364173f13977f058f3e19', '02270.860a99063549ce66ec006fa54cf23720', '02271.713bd681f26262b9af956f74fa3f5719', '02272.3f911ccf260be36f08868f4540332f6f', '02273.261b1d4fc305dcb4e604790d2e2d5bb0', '02274.d25fe5d3adc798112cd281bd89d642db', '02275.076ff76b138aa30d495a07d0fe3461bc', '02276.5f58a304eeaaffc11013d50b3752243b', '02277.f693b982e015112a922d663557266509', '02278.5681f9fd02e38391b917d4623ff9d198', '02279.4592a8960372d98328df98397554306a', '02280.db9948c9442aa9465d50aa344043ab74', '02281.0c788946658a7633490bd31043cc513e', '02282.600d0cbbcde2ef57a436ea913c7b4dd6', '02283.e7e38a2cdd5a04ea9543e8173653bd07', '02284.3bab45e6a7f377869d7856d8c1692b59', '02285.55daa852c99a6745283e6917b27e4600', '02286.a21741fc63dabc4454c8d5140d559b22', '02287.05088931220174dcef44fd30efb3616d', '02288.bea4bfd2ffe3c40c427cd9c579ea4252', '02289.06bd7baa07bfb24600299b47b78abe33', '02290.63a40c780fe1f8e771f62473dc3dce0b', '02291.c5c8900bccc84c58cfb6d73ab1b678c6', '02292.bde66349816068e3b4b5a8914e99097c', '02293.2ae2c667486323afb16d109b406b8783', '02294.93bf98f2c25739805c0e8cae23f9dc55', '02295.d6c2920e31d10893221d58aa148719c1', '02296.09d0ea0aa1638ab3e2dbbe4aae06b21b', '02297.a0f08a4cc518d9c666dffef38f4b3076', '02298.501991b65594ba4937fc54a5c23ee1c3', '02299.e0ae6c52e1cd301952051809eb5245ea', '02300.fbd28368d45456c91e57afc5b5a5817a', '02301.a12a68c684b8c32e4f93cf6628e9eb5c', '02302.6b0e60535c666317d676c81aeea21f4f', '02303.7bc2a5bbe2ab0578f966b85eabb3a35b', '02304.90b0a5f1bd3ab6a9dde682a954ec1734', '02305.7955c4d9b3bc15c0881298fd27e35889', '02306.73f5f4ae7ecc1258584e96b1138987e3', '02307.d9d5e8536e4c12d3571e099f5fec2d07', '02308.0fa0a0b2d072a7d8f863c0fe5b34045e', '02309.cb91e69b3d4d562c5f7f1402fa84f108', '02310.b23c6ea3aaef834945f3f11c155d238a', '02311.09366d71e6cc084f7a077d7df92b4287', '02312.892bf166595db14c451d16204076c24f', '02313.792888aeb3a4fdd1adcbbb094959714c', '02314.608313fbd690f2d120b68c894333a134', '02315.b64bfd78655623c6d47856cea12a9182', '02316.983d961f8f303f41897dd82ad4542f4b', '02317.942204d4fb105bda92c73930fdf9235f', '02318.48d402a51963b3fe7e43da0bd4ec8c50', '02319.59d9edb59decb975831e89c07330dbf0', '02320.9d983e803c0325063c06097d7bb4b3f1', '02321.0982ccadf7cc01460bc93bdebb833034', '02322.302cf0b8480d647482d266ecca5497b4', '02323.dbe22daff2cf3e9c7aa284ec961481c4', '02324.939312dace3fd8b6b3d2d1116cd83024', '02325.95960d8f09ba654e65217297bb9cd0c7', '02326.efbe943cacc775a6dc2b384350195fb8', '02327.32e1253fcbec3d879b9cf8acb9aee1aa', '02328.3ee8aa6fb89a74f63d2be89404554cd1', '02329.26c7e9813ea8b29dce213bc8275e2904', '02330.5c2ab6791a51f161fd09d889ad5144f3', '02331.20925f3659cfea80ba7be52b3c379524', '02332.e40c30e2449d14172a3319197b5886f7', '02333.2a59c82074b44c35e79462984c8f8d9d', '02334.742721e46b366730e9669b47f77a7f8e', '02335.1e8a1512670aba127c43ac4d297a1884', '02336.13de9eccd455085a1ff722dc09a059a3', '02337.ad6e6743b8b59611fe9a4961c3192dfc', '02338.069cf2dc77bb733ae5f864b7ad17868d', '02339.6a217c7473a881cc0d68a2c1617722e4', '02340.de68a83f900418f6cde87bdf92801f73', '02341.024003ab6c0a1f22f449b8c991d2d69c', '02342.fb90b37c6a682e01e61c9da213e727b7', '02343.5e52d740e7107ba7278b6d8451c2e181', '02344.9fc799c5b2dcdbc98f22ad3d6cb15c17', '02345.52eedf6f431a61908c62a4d561e655fe', '02346.2fb10027326d7f45655131a42b2fac69', '02347.db1c7895dd0bb6691993728cbc54423e', '02348.3391838baa191517da63530666cc516c', '02349.2043804e03b68a6d09f3a08e6a9ec7d6', '02350.b8ed9b115e8d8e0fb8db75b855d184c3', '02351.d6b3bc2bb32bd4a790e07be3bc9c8bb0', '02352.7e2d173161b2e106f6ebf8bdce836b82', '02353.d1d5be2d594526feaefe01119c9b114e', '02354.3be731874b373f98e66b3254f75a30b6', '02355.72b763dd3d17e12d274177c333863200', '02356.e517c740ad66697bba95a671d902563f', '02357.8bb1da478aac76b57282a9305b11c81a', '02358.1a83ca0239ea10a6b2b19e5b3ef8a01a', '02359.63b4bf64205944352697f4dd2a731c77', '02360.e0e26457785f0c6b622dd5b94996ced9', '02361.68fa77659ad7611f8bcad48d030a3039', '02362.00b2a07a8d70813c728bd210ee511a0f', '02363.bbded22e51204b9d7cd1a7e2df26efc3', '02364.30b936d4dfbe3edf7fdadf0a0c1ffd10', '02365.e74194f171d02137cba0548d118aed05', '02366.27ba8f494336f24905ffd95e1b139438', '02367.d5ef41d805a4ae9381ae279bbfbce1a8', '02368.e7f41e5cdd25ad10fba7c09915e39e25', '02369.c227dfdc5a8086022f67503580b48b96', '02370.7d8fb2144e17272cb6984c42af313d9c', '02371.32a223c606465d39cb1788f4dde71017', '02372.ba6a7288c11b60bd92e3245c76652846', '02373.45f4057eab005d140507e72867f7a3c0', '02374.71b4f1f5c95ebd79a8ce656bb350282b', '02375.edeb9041e87f72ee99fa802021017fc2', '02376.413750be8a48807a2f7235dd48867fe9', '02377.7dcfe4965c5a7dda43574d0f74d29cff', '02378.ff357ba03232ac47ae4cbdf1a770cfc4', '02379.dc53ca4837452561724dbf9afd8a52b9', '02380.25e823fa7a52cdd64be4b53caf862f34', '02381.e00a6c4a6d57003d10e0df8dc65e1b8b', '02382.eb2484cdedd309cd6d94fdc9731ef5c5', '02383.833224f74156975eb4364e6a4ddf9a0a', '02384.1833d9d553ee4c2bf37bfedb952a1424', '02385.f62055b86361f86a511971dfcbe54fd6', '02386.50c399343f4145ea32f5c5e6828ce2bb', '02387.9d5f4f48c229943053ee40235b3fd75c', '02388.065b9450504ae5c247c966660fd297e1', '02389.bf7ec2ae6243dab5dfc26c3f31c25b2a', '02390.e9c19167c2abb222ddb6ecd1ec91a048', '02391.96819f50982c2bbe2b1bcb5ac241d2a9', '02392.5cfa16e5b6c7712e109a845b8fed4949', '02393.fd8a3a8ebc19951bcfb868ead80f0a49', '02394.be97a45948bd954bae8fe8489de926f0', '02395.ff44e9fcba3b3fb6541d320cde0831a1', '02396.0a7da4e5438d7316dd2fa1cf838dce13', '02397.87db84626f7e5927b6fabc96e6be2b2e', '02398.799b8be8a8ee865c6dfd22989e77a7c0', '02399.80c1a552b08b3c77ded87e0b3de97c8e', '02400.e033408c1d071abb62c3a1322a87bd67', '02401.015271d0ec5160083028b8644b9d8e55', '02402.7f699b32ac5965e5086d82b4199ba461', '02403.e2243f5db10d146f2b44dbb87159cc88', '02404.da865baa8492a392d7a5a035f0d3b7a0', '02405.09deeb2c650f3f44789439c91e2d0a62', '02406.7d974783ba62923eef75300a9420a42e', '02407.204ec9176022e4c98300ba4f7c02cb7b', '02408.782df84d9981b7c54dc46f5cd5695969', '02409.2685d37952e55aa12a8dd07dc11c24b8', '02410.1e210a6beee21bbc102e8a45e80e7f2a', '02411.cb3baadc8219b02864983eef1fc2785e', '02412.23b29d8b8bea2c522888d2344a6b971b', '02413.097c8ce1cfe27aa9d219e7bba451b36f', '02414.7f6f9056fa659fb7a11febc394974506', '02415.0d9e7688dc9d051d9493f809b64821a1', '02416.d382623221b581302dce05f3ade9573e', '02417.0a5253a87a7a62db85836c45d2446c18', '02418.a437a22a14db25e4a04a3940407084c0', '02419.ade095af23802012668f4ec856bf7e63', '02420.8189d37102e8813fe966be2840346b27', '02421.c01ed1383a70703fb52cda0db36734a4', '02422.cdeb9f1dc58b063c7d8b14e1f5cd66d3', '02423.1dc909c6b3be62619e6679bb3fec1ab0', '02424.3f022ffe6f06ab63fe087756835a6315', '02425.f6091f9f9b3594f56f1f9430b9d9e6c7', '02426.d591c3ee3150dcbd9da22a4ed8f69c75', '02427.ee2da8686c5acea975b56ce32314b622', '02428.f441443c176dbaf533553dd0f4940085', '02429.d93428d69b44bb6ca23611fe03328455', '02430.785209e091fddfe4bce68a4bd348f088', '02431.00d4789f409f10d1047e13e6f9138282', '02432.529ee53cd95ce5c419495625a6727f1e', '02433.9cfb47708291604f2c38393706175160', '02434.37126367f2a918fead5ff8ea834cc334', '02435.0dcf87932640d0341c61495eefe7f88f', '02436.5821586f609075c777d251052f6534fe', '02437.6b2d91957a295729c0c65d48eee31ec3', '02438.46704858cc30f315ab2c937257bdf43b', '02439.e0ab144da5d5f95e6accf8d8a84f5fd1', '02440.cab44b8904a9df823667f58f5a018d85', '02441.231d03774c8f1725c43fdc85fed114ef', '02442.ebce98dea2d472fbdc7682664984af1a', '02443.867bca40d0f04d5d12b1866ce890c6cd', '02444.5fd7d2baf5c7b8866a9a51a4a3dbaf2e', '02445.c8fd8c92ab5a91bbf5e94e5277a47863', '02446.00be6d27ed9c7ded51a87830b09b1eb4', '02447.5ecaa423bfa4ab050e5b9a0a34f6191f', '02448.1daa1a47414fb57c4456af88204d029f', '02449.7b52df455e5abff6fae35979800a27c0', '02450.326fa2bec3901e1f7fe78693c0e76bce', '02451.2d85b62408d45e219d34e55a1439f795', '02452.22e8f668f27122f74442cd887a02be07', '02453.ca217660d72de334fd254a8ef39ff7d2', '02454.7015a418cb0c3ca707b8b63e267bc6a0', '02455.8cc0169c74f4414a3be8a09dd7417450', '02456.2d80a710374d58fdaec212af6d791179', '02457.b9ce53f6744f6deb11a365882297639d', '02458.fd912fbe64911a9d4549de2df559a5bf', '02459.e4b0d8c4b8389ac7b907935718f694c9', '02460.553f4ad4ee6fe63fb789337ab097ab97', '02461.a1007afeb8f2a233e221a320d856ec81', '02462.4f93bc374730a117b103d5c3a2d699f6', '02463.4e629845ecd2756eb5f2d77868a58535', '02464.95f59bae730edc01ce4f88d98791ffca', '02465.ec5094d26877bc1fd048d57c0ad42aad', '02466.b71ae3ebfc7860ad17eabdf70410279a', '02467.b05b3925df99da2a9426f07833ce5a9d', '02468.3ac182b2833f74c850d4bcaf63fdd347', '02469.901d2dc268a72e42497dac1ea80d861d', '02470.b68fe61c2cd92ceff2ab3e473fd7da0f', '02471.18281d43dc0775e915267c2ea5170f1f', '02472.5c879dd55c3d4171e1787e8529bbd7e1', '02473.207afa13ad7d745dfd1344f84531ac16', '02474.c76ffef81a2529389e6c3bbb172184d7', '02475.9277ee243e3f51fa53ed6be55798d360', '02476.de1d459426662492dd1235046b504c3d', '02477.07b2069e9827cfd6f97d07eea2913d57', '02478.40723f38488bddaf5a24ef2a91679c75', '02479.14365bcad3a60fcf24c5c1813f6291fb', '02480.72714df60c9be29d6f7985c777cbfc13', '02481.176b368fe4b90682f33647d65a8b97a3', '02482.35c166ec6a85e108ad693ea43329762f', '02483.ab1bee02c10ddecc0e86c39eaebc2996', '02484.32a0bca2600788be144b93cae341efbf', '02485.ba9aebbdbec0d9fecec595eeebe5db87', '02486.bdf90e871b673fd14f47f3fe36622742', '02487.c2e725d509201dc30debb7bd94d07f5e', '02488.68fed64ff8169f1505b74080bb7b6158', '02489.85c20a6f9d75714d9f44398baeddd416', '02490.7be0f683db6994ddd8445cdcc2eb5042', '02491.c26245be2a5096fa86647d594561c511', '02492.6aede44f654a1bbc60c95c7dd770e624', '02493.f9f2870094430b7db8b0c1052b302cf1', '02494.a14f2d3a9bef3f59aa419b03aee8f871', '02495.5064946e77b3046873da91fc47656465', '02496.aae0c81581895acfe65323f344340856', '02497.60497db0a06c2132ec2374b2898084d3', '02498.09835f512f156da210efb99fcc523e21', '02499.b4af165650f138b10f9941f6cc5bce3c', '02500.05b3496ce7bca306bed0805425ec8621']\n"
     ]
    }
   ],
   "source": [
    "print(ham_filenames)"
   ]
  },
  {
   "cell_type": "code",
   "execution_count": 20,
   "metadata": {},
   "outputs": [],
   "source": [
    "# We can use Python's email module to parse these emails (this handles headers, encoding, and so on)\n",
    "import email\n",
    "import email.policy\n",
    "\n",
    "def load_email(is_spam, filename, spam_path=SPAM_PATH):\n",
    "    directory = \"spam\" if is_spam else \"easy_ham\"\n",
    "    with open(os.path.join(spam_path, directory, filename), \"rb\") as f:\n",
    "        return email.parser.BytesParser(policy=email.policy.default).parse(f)"
   ]
  },
  {
   "cell_type": "code",
   "execution_count": 21,
   "metadata": {},
   "outputs": [],
   "source": [
    "ham_emails = [load_email(is_spam=False, filename=name) for name in ham_filenames]\n",
    "spam_emails = [load_email(is_spam=True, filename=name) for name in spam_filenames]"
   ]
  },
  {
   "cell_type": "code",
   "execution_count": 24,
   "metadata": {},
   "outputs": [
    {
     "name": "stdout",
     "output_type": "stream",
     "text": [
      "Martin A posted:\n",
      "Tassos Papadopoulos, the Greek sculptor behind the plan, judged that the\n",
      " limestone of Mount Kerdylio, 70 miles east of Salonika and not far from the\n",
      " Mount Athos monastic community, was ideal for the patriotic sculpture. \n",
      " \n",
      " As well as Alexander's granite features, 240 ft high and 170 ft wide, a\n",
      " museum, a restored amphitheatre and car park for admiring crowds are\n",
      "planned\n",
      "---------------------\n",
      "So is this mountain limestone or granite?\n",
      "If it's limestone, it'll weather pretty fast.\n",
      "\n",
      "------------------------ Yahoo! Groups Sponsor ---------------------~-->\n",
      "4 DVDs Free +s&p Join Now\n",
      "http://us.click.yahoo.com/pt6YBB/NXiEAA/mG3HAA/7gSolB/TM\n",
      "---------------------------------------------------------------------~->\n",
      "\n",
      "To unsubscribe from this group, send an email to:\n",
      "forteana-unsubscribe@egroups.com\n",
      "\n",
      " \n",
      "\n",
      "Your use of Yahoo! Groups is subject to http://docs.yahoo.com/info/terms/\n"
     ]
    }
   ],
   "source": [
    "# Let's look at one example of ham and one example of spam, to get a feel of what the data looks like\n",
    "print(ham_emails[1].get_content().strip())"
   ]
  },
  {
   "cell_type": "code",
   "execution_count": 25,
   "metadata": {},
   "outputs": [
    {
     "name": "stdout",
     "output_type": "stream",
     "text": [
      "1) Fight The Risk of Cancer!\n",
      "http://www.adclick.ws/p.cfm?o=315&s=pk007\n",
      "\n",
      "2) Slim Down - Guaranteed to lose 10-12 lbs in 30 days\n",
      "http://www.adclick.ws/p.cfm?o=249&s=pk007\n",
      "\n",
      "3) Get the Child Support You Deserve - Free Legal Advice\n",
      "http://www.adclick.ws/p.cfm?o=245&s=pk002\n",
      "\n",
      "4) Join the Web's Fastest Growing Singles Community\n",
      "http://www.adclick.ws/p.cfm?o=259&s=pk007\n",
      "\n",
      "5) Start Your Private Photo Album Online!\n",
      "http://www.adclick.ws/p.cfm?o=283&s=pk007\n",
      "\n",
      "Have a Wonderful Day,\n",
      "Offer Manager\n",
      "PrizeMama\n",
      "\n",
      "\n",
      "\n",
      "\n",
      "\n",
      "\n",
      "\n",
      "\n",
      "\n",
      "\n",
      "\n",
      "\n",
      "\n",
      "If you wish to leave this list please use the link below.\n",
      "http://www.qves.com/trim/?ilug@linux.ie%7C17%7C114258\n",
      "\n",
      "\n",
      "-- \n",
      "Irish Linux Users' Group: ilug@linux.ie\n",
      "http://www.linux.ie/mailman/listinfo/ilug for (un)subscription information.\n",
      "List maintainer: listmaster@linux.ie\n"
     ]
    }
   ],
   "source": [
    "print(spam_emails[1].get_content().strip())"
   ]
  },
  {
   "cell_type": "markdown",
   "metadata": {},
   "source": [
    "Some emails are actually multipart, with images and attachments. Let's look at the various types of structures the emails have. First create a function that will get the email strucuter, then create a function that will count the emails with various types of structure"
   ]
  },
  {
   "cell_type": "code",
   "execution_count": 26,
   "metadata": {},
   "outputs": [],
   "source": [
    "def get_email_structure(email):\n",
    "    if isinstance(email, str):\n",
    "        return email\n",
    "    payload = email.get_payload()\n",
    "    if isinstance(payload, list):\n",
    "        return \"multipart({})\".format(\", \".join([\n",
    "            get_email_structure(sub_email)\n",
    "            for sub_email in payload\n",
    "        ]))\n",
    "    else:\n",
    "        return email.get_content_type()"
   ]
  },
  {
   "cell_type": "code",
   "execution_count": 27,
   "metadata": {},
   "outputs": [],
   "source": [
    "from collections import Counter\n",
    "\n",
    "def structures_counter(emails):\n",
    "    structures = Counter()\n",
    "    for email in emails:\n",
    "        structure = get_email_structure(email)\n",
    "        structures[structure] += 1\n",
    "    return structures"
   ]
  },
  {
   "cell_type": "code",
   "execution_count": 28,
   "metadata": {},
   "outputs": [
    {
     "data": {
      "text/plain": [
       "[('text/plain', 2408),\n",
       " ('multipart(text/plain, application/pgp-signature)', 66),\n",
       " ('multipart(text/plain, text/html)', 8),\n",
       " ('multipart(text/plain, text/plain)', 4),\n",
       " ('multipart(text/plain)', 3),\n",
       " ('multipart(text/plain, application/octet-stream)', 2),\n",
       " ('multipart(text/plain, text/enriched)', 1),\n",
       " ('multipart(text/plain, application/ms-tnef, text/plain)', 1),\n",
       " ('multipart(multipart(text/plain, text/plain, text/plain), application/pgp-signature)',\n",
       "  1),\n",
       " ('multipart(text/plain, video/mng)', 1),\n",
       " ('multipart(text/plain, multipart(text/plain))', 1),\n",
       " ('multipart(text/plain, application/x-pkcs7-signature)', 1),\n",
       " ('multipart(text/plain, multipart(text/plain, text/plain), text/rfc822-headers)',\n",
       "  1),\n",
       " ('multipart(text/plain, multipart(text/plain, text/plain), multipart(multipart(text/plain, application/x-pkcs7-signature)))',\n",
       "  1),\n",
       " ('multipart(text/plain, application/x-java-applet)', 1)]"
      ]
     },
     "execution_count": 28,
     "metadata": {},
     "output_type": "execute_result"
    }
   ],
   "source": [
    "structures_counter(ham_emails).most_common()"
   ]
  },
  {
   "cell_type": "code",
   "execution_count": 29,
   "metadata": {},
   "outputs": [
    {
     "data": {
      "text/plain": [
       "[('text/plain', 218),\n",
       " ('text/html', 183),\n",
       " ('multipart(text/plain, text/html)', 45),\n",
       " ('multipart(text/html)', 20),\n",
       " ('multipart(text/plain)', 19),\n",
       " ('multipart(multipart(text/html))', 5),\n",
       " ('multipart(text/plain, image/jpeg)', 3),\n",
       " ('multipart(text/html, application/octet-stream)', 2),\n",
       " ('multipart(text/plain, application/octet-stream)', 1),\n",
       " ('multipart(text/html, text/plain)', 1),\n",
       " ('multipart(multipart(text/html), application/octet-stream, image/jpeg)', 1),\n",
       " ('multipart(multipart(text/plain, text/html), image/gif)', 1),\n",
       " ('multipart/alternative', 1)]"
      ]
     },
     "execution_count": 29,
     "metadata": {},
     "output_type": "execute_result"
    }
   ],
   "source": [
    "structures_counter(spam_emails).most_common()"
   ]
  },
  {
   "cell_type": "markdown",
   "metadata": {},
   "source": [
    "There are a lot of structural differences between SPAM and HAM. For one, SPAM has a lot of html, but has no pgp-signature."
   ]
  },
  {
   "cell_type": "code",
   "execution_count": 32,
   "metadata": {},
   "outputs": [
    {
     "name": "stdout",
     "output_type": "stream",
     "text": [
      "Return-Path : <12a1mailbot1@web.de>\n",
      "Delivered-To : zzzz@localhost.spamassassin.taint.org\n",
      "Received : from localhost (localhost [127.0.0.1])\tby phobos.labs.spamassassin.taint.org (Postfix) with ESMTP id 136B943C32\tfor <zzzz@localhost>; Thu, 22 Aug 2002 08:17:21 -0400 (EDT)\n",
      "Received : from mail.webnote.net [193.120.211.219]\tby localhost with POP3 (fetchmail-5.9.0)\tfor zzzz@localhost (single-drop); Thu, 22 Aug 2002 13:17:21 +0100 (IST)\n",
      "Received : from dd_it7 ([210.97.77.167])\tby webnote.net (8.9.3/8.9.3) with ESMTP id NAA04623\tfor <zzzz@spamassassin.taint.org>; Thu, 22 Aug 2002 13:09:41 +0100\n",
      "From : 12a1mailbot1@web.de\n",
      "Received : from r-smtp.korea.com - 203.122.2.197 by dd_it7  with Microsoft SMTPSVC(5.5.1775.675.6);\t Sat, 24 Aug 2002 09:42:10 +0900\n",
      "To : dcek1a1@netsgo.com\n",
      "Subject : Life Insurance - Why Pay More?\n",
      "Date : Wed, 21 Aug 2002 20:31:57 -1600\n",
      "MIME-Version : 1.0\n",
      "Message-ID : <0103c1042001882DD_IT7@dd_it7>\n",
      "Content-Type : text/html; charset=\"iso-8859-1\"\n",
      "Content-Transfer-Encoding : quoted-printable\n"
     ]
    }
   ],
   "source": [
    "# Look @ header of emails\n",
    "for header, value in spam_emails[0].items():\n",
    "    print(header , \":\", value)"
   ]
  },
  {
   "cell_type": "code",
   "execution_count": 33,
   "metadata": {},
   "outputs": [
    {
     "name": "stdout",
     "output_type": "stream",
     "text": [
      "Return-Path : <exmh-workers-admin@spamassassin.taint.org>\n",
      "Delivered-To : zzzz@localhost.netnoteinc.com\n",
      "Received : from localhost (localhost [127.0.0.1])\tby phobos.labs.netnoteinc.com (Postfix) with ESMTP id D03E543C36\tfor <zzzz@localhost>; Thu, 22 Aug 2002 07:36:16 -0400 (EDT)\n",
      "Received : from phobos [127.0.0.1]\tby localhost with IMAP (fetchmail-5.9.0)\tfor zzzz@localhost (single-drop); Thu, 22 Aug 2002 12:36:16 +0100 (IST)\n",
      "Received : from listman.spamassassin.taint.org (listman.spamassassin.taint.org [66.187.233.211]) by    dogma.slashnull.org (8.11.6/8.11.6) with ESMTP id g7MBYrZ04811 for    <zzzz-exmh@spamassassin.taint.org>; Thu, 22 Aug 2002 12:34:53 +0100\n",
      "Received : from listman.spamassassin.taint.org (localhost.localdomain [127.0.0.1]) by    listman.redhat.com (Postfix) with ESMTP id 8386540858; Thu, 22 Aug 2002    07:35:02 -0400 (EDT)\n",
      "Delivered-To : exmh-workers@listman.spamassassin.taint.org\n",
      "Received : from int-mx1.corp.spamassassin.taint.org (int-mx1.corp.spamassassin.taint.org    [172.16.52.254]) by listman.redhat.com (Postfix) with ESMTP id 10CF8406D7    for <exmh-workers@listman.redhat.com>; Thu, 22 Aug 2002 07:34:10 -0400    (EDT)\n",
      "Received : (from mail@localhost) by int-mx1.corp.spamassassin.taint.org (8.11.6/8.11.6)    id g7MBY7g11259 for exmh-workers@listman.redhat.com; Thu, 22 Aug 2002    07:34:07 -0400\n",
      "Received : from mx1.spamassassin.taint.org (mx1.spamassassin.taint.org [172.16.48.31]) by    int-mx1.corp.redhat.com (8.11.6/8.11.6) with SMTP id g7MBY7Y11255 for    <exmh-workers@redhat.com>; Thu, 22 Aug 2002 07:34:07 -0400\n",
      "Received : from ratree.psu.ac.th ([202.28.97.6]) by mx1.spamassassin.taint.org    (8.11.6/8.11.6) with SMTP id g7MBIhl25223 for <exmh-workers@redhat.com>;    Thu, 22 Aug 2002 07:18:55 -0400\n",
      "Received : from delta.cs.mu.OZ.AU (delta.coe.psu.ac.th [172.30.0.98]) by    ratree.psu.ac.th (8.11.6/8.11.6) with ESMTP id g7MBWel29762;    Thu, 22 Aug 2002 18:32:40 +0700 (ICT)\n",
      "Received : from munnari.OZ.AU (localhost [127.0.0.1]) by delta.cs.mu.OZ.AU    (8.11.6/8.11.6) with ESMTP id g7MBQPW13260; Thu, 22 Aug 2002 18:26:25    +0700 (ICT)\n",
      "From : Robert Elz <kre@munnari.OZ.AU>\n",
      "To : Chris Garrigues <cwg-dated-1030377287.06fa6d@DeepEddy.Com>\n",
      "Cc : exmh-workers@spamassassin.taint.org\n",
      "Subject : Re: New Sequences Window\n",
      "In-Reply-To : <1029945287.4797.TMDA@deepeddy.vircio.com>\n",
      "References : <1029945287.4797.TMDA@deepeddy.vircio.com>    <1029882468.3116.TMDA@deepeddy.vircio.com> <9627.1029933001@munnari.OZ.AU>    <1029943066.26919.TMDA@deepeddy.vircio.com>    <1029944441.398.TMDA@deepeddy.vircio.com>\n",
      "MIME-Version : 1.0\n",
      "Content-Type : text/plain; charset=\"us-ascii\"\n",
      "Message-Id : <13258.1030015585@munnari.OZ.AU>\n",
      "X-Loop : exmh-workers@spamassassin.taint.org\n",
      "Sender : exmh-workers-admin@spamassassin.taint.org\n",
      "Errors-To : exmh-workers-admin@spamassassin.taint.org\n",
      "X-Beenthere : exmh-workers@spamassassin.taint.org\n",
      "X-Mailman-Version : 2.0.1\n",
      "Precedence : bulk\n",
      "List-Help : <mailto:exmh-workers-request@spamassassin.taint.org?subject=help>\n",
      "List-Post : <mailto:exmh-workers@spamassassin.taint.org>\n",
      "List-Subscribe : <https://listman.spamassassin.taint.org/mailman/listinfo/exmh-workers>,    <mailto:exmh-workers-request@redhat.com?subject=subscribe>\n",
      "List-Id : Discussion list for EXMH developers <exmh-workers.spamassassin.taint.org>\n",
      "List-Unsubscribe : <https://listman.spamassassin.taint.org/mailman/listinfo/exmh-workers>,    <mailto:exmh-workers-request@redhat.com?subject=unsubscribe>\n",
      "List-Archive : <https://listman.spamassassin.taint.org/mailman/private/exmh-workers/>\n",
      "Date : Thu, 22 Aug 2002 18:26:25 +0700\n"
     ]
    }
   ],
   "source": [
    "for header, value in ham_emails[0].items():\n",
    "    print(header, \":\", value)"
   ]
  },
  {
   "cell_type": "markdown",
   "metadata": {},
   "source": [
    "Clearly there is less info inthe SPAM. Certainly there is other useful information here. One can also look at individual headers."
   ]
  },
  {
   "cell_type": "code",
   "execution_count": 35,
   "metadata": {},
   "outputs": [
    {
     "data": {
      "text/plain": [
       "'Life Insurance - Why Pay More?'"
      ]
     },
     "execution_count": 35,
     "metadata": {},
     "output_type": "execute_result"
    }
   ],
   "source": [
    "spam_emails[0][\"Subject\"]"
   ]
  },
  {
   "cell_type": "code",
   "execution_count": 36,
   "metadata": {},
   "outputs": [],
   "source": [
    "# Split data into training and testing set\n",
    "\n",
    "import numpy as np\n",
    "from sklearn.model_selection import train_test_split\n",
    "\n",
    "X = np.array(ham_emails + spam_emails, dtype=object)\n",
    "y = np.array([0] * len(ham_emails) + [1] * len(spam_emails)) #makes a target of 0 for HAM and 1 for SPAM\n",
    "\n",
    "X_train, X_test, y_train, y_test = train_test_split(X, y, test_size=0.2, random_state=42)"
   ]
  },
  {
   "cell_type": "markdown",
   "metadata": {},
   "source": [
    "start writing the preprocessing functions. First, we will need a function to convert HTML to plain text. Arguably the best way to do this would be to use the great BeautifulSoup library, but I would like to avoid adding another dependency to this project, so let's hack a quick & dirty solution using regular expressions. The following function first drops the \"head\" section, then converts all \"a\" tags to the word HYPERLINK, then it gets rid of all HTML tags, leaving only the plain text. For readability, it also replaces multiple newlines with single newlines, and finally it unescapes html entities (such as \"&gt\"; or \"&nbsp\"):"
   ]
  },
  {
   "cell_type": "code",
   "execution_count": 37,
   "metadata": {},
   "outputs": [],
   "source": [
    "import re\n",
    "from html import unescape\n",
    "\n",
    "def html_to_plain_text(html):\n",
    "    text = re.sub('<head.*?>.*?</head>', '', html, flags=re.M | re.S | re.I)\n",
    "    text = re.sub('<a\\s.*?>', ' HYPERLINK ', text, flags=re.M | re.S | re.I)\n",
    "    text = re.sub('<.*?>', '', text, flags=re.M | re.S)\n",
    "    text = re.sub(r'(\\s*\\n)+', '\\n', text, flags=re.M | re.S)\n",
    "    return unescape(text)"
   ]
  },
  {
   "cell_type": "code",
   "execution_count": 38,
   "metadata": {},
   "outputs": [
    {
     "name": "stdout",
     "output_type": "stream",
     "text": [
      "<HTML><HEAD><TITLE></TITLE><META http-equiv=\"Content-Type\" content=\"text/html; charset=windows-1252\"><STYLE>A:link {TEX-DECORATION: none}A:active {TEXT-DECORATION: none}A:visited {TEXT-DECORATION: none}A:hover {COLOR: #0033ff; TEXT-DECORATION: underline}</STYLE><META content=\"MSHTML 6.00.2713.1100\" name=\"GENERATOR\"></HEAD>\n",
      "<BODY text=\"#000000\" vLink=\"#0033ff\" link=\"#0033ff\" bgColor=\"#CCCC99\"><TABLE borderColor=\"#660000\" cellSpacing=\"0\" cellPadding=\"0\" border=\"0\" width=\"100%\"><TR><TD bgColor=\"#CCCC99\" valign=\"top\" colspan=\"2\" height=\"27\">\n",
      "<font size=\"6\" face=\"Arial, Helvetica, sans-serif\" color=\"#660000\">\n",
      "<b>OTC</b></font></TD></TR><TR><TD height=\"2\" bgcolor=\"#6a694f\">\n",
      "<font size=\"5\" face=\"Times New Roman, Times, serif\" color=\"#FFFFFF\">\n",
      "<b>&nbsp;Newsletter</b></font></TD><TD height=\"2\" bgcolor=\"#6a694f\"><div align=\"right\"><font color=\"#FFFFFF\">\n",
      "<b>Discover Tomorrow's Winners&nbsp;</b></font></div></TD></TR><TR><TD height=\"25\" colspan=\"2\" bgcolor=\"#CCCC99\"><table width=\"100%\" border=\"0\"  ...\n"
     ]
    }
   ],
   "source": [
    "# test to see if html -> plain text worked\n",
    "html_spam_emails = [email for email in X_train[y_train==1]\n",
    "                    if get_email_structure(email) == \"text/html\"]\n",
    "sample_html_spam = html_spam_emails[7]\n",
    "print(sample_html_spam.get_content().strip()[:1000], \"...\")"
   ]
  },
  {
   "cell_type": "code",
   "execution_count": 41,
   "metadata": {},
   "outputs": [
    {
     "name": "stdout",
     "output_type": "stream",
     "text": [
      "\n",
      "OTC\n",
      " Newsletter\n",
      "Discover Tomorrow's Winners \n",
      "For Immediate Release\n",
      "Cal-Bay (Stock Symbol: CBYI)\n",
      "Watch for analyst \"Strong Buy Recommendations\" and several advisory newsletters picking CBYI.  CBYI has filed to be traded on the OTCBB, share prices historically INCREASE when companies get listed on this larger trading exchange. CBYI is trading around 25 cents and should skyrocket to $2.66 - $3.25 a share in the near future.\n",
      "Put CBYI on your watch list, acquire a position TODAY.\n",
      "REASONS TO INVEST IN CBYI\n",
      "A profitable company and is on track to beat ALL earnings estimates!\n",
      "One of the FASTEST growing distributors in environmental & safety equipment instruments.\n",
      "Excellent management team, several EXCLUSIVE contracts.  IMPRESSIVE client list including the U.S. Air Force, Anheuser-Busch, Chevron Refining and Mitsubishi Heavy Industries, GE-Energy & Environmental Research.\n",
      "RAPIDLY GROWING INDUSTRY\n",
      "Industry revenues exceed $900 million, estimates indicate that there could be as much as $25 billi ...\n"
     ]
    }
   ],
   "source": [
    "print(html_to_plain_text(sample_html_spam.get_content())[:1000], \"...\")"
   ]
  },
  {
   "cell_type": "code",
   "execution_count": 42,
   "metadata": {},
   "outputs": [],
   "source": [
    "# It works! Now let's write a function that takes an email as input and returns its content as plain text, \n",
    "# whatever its format is:\n",
    "\n",
    "def email_to_text(email):\n",
    "    html = None\n",
    "    for part in email.walk():\n",
    "        ctype = part.get_content_type()\n",
    "        if not ctype in (\"text/plain\", \"text/html\"):\n",
    "            continue\n",
    "        try:\n",
    "            content = part.get_content()\n",
    "        except: # in case of encoding issues\n",
    "            content = str(part.get_payload())\n",
    "        if ctype == \"text/plain\":\n",
    "            return content\n",
    "        else:\n",
    "            html = content\n",
    "    if html:\n",
    "        return html_to_plain_text(html)"
   ]
  },
  {
   "cell_type": "code",
   "execution_count": 43,
   "metadata": {},
   "outputs": [
    {
     "name": "stdout",
     "output_type": "stream",
     "text": [
      "\n",
      "OTC\n",
      " Newsletter\n",
      "Discover Tomorrow's Winners \n",
      "For Immediate Release\n",
      "Cal-Bay (Stock Symbol: CBYI)\n",
      "Wat ...\n"
     ]
    }
   ],
   "source": [
    "print(email_to_text(sample_html_spam)[:100], \"...\")"
   ]
  },
  {
   "cell_type": "markdown",
   "metadata": {},
   "source": [
    "Let's throw in some stemming. Stemming is the process of reducing inflected words to their word stem, base or root form For this to work, you need to install the Natural Language Toolkit (NLTK). It's as simple as running the following command (don't forget to activate your virtualenv first; if you don't have one, you will likely need administrator rights, or use the --user option):"
   ]
  },
  {
   "cell_type": "markdown",
   "metadata": {},
   "source": [
    "pip3 install nltk"
   ]
  },
  {
   "cell_type": "code",
   "execution_count": 44,
   "metadata": {},
   "outputs": [
    {
     "name": "stdout",
     "output_type": "stream",
     "text": [
      "Computations => comput\n",
      "Computation => comput\n",
      "Computing => comput\n",
      "Computed => comput\n",
      "Compute => comput\n",
      "Compulsive => compuls\n"
     ]
    }
   ],
   "source": [
    "try:\n",
    "    import nltk\n",
    "\n",
    "    stemmer = nltk.PorterStemmer()\n",
    "    for word in (\"Computations\", \"Computation\", \"Computing\", \"Computed\", \"Compute\", \"Compulsive\"):\n",
    "        print(word, \"=>\", stemmer.stem(word))\n",
    "except ImportError:\n",
    "    print(\"Error: stemming requires the NLTK module.\")\n",
    "    stemmer = None"
   ]
  },
  {
   "cell_type": "markdown",
   "metadata": {},
   "source": [
    "We will also need a way to replace URLs with the word \"URL\". For this, we could use hard core regular expressions but we will just use the urlextract library. You can install it with the following command (don't forget to activate your virtualenv first; if you don't have one, you will likely need administrator rights, or use the --user option):"
   ]
  },
  {
   "cell_type": "markdown",
   "metadata": {},
   "source": [
    "pip3 install urlextract"
   ]
  },
  {
   "cell_type": "code",
   "execution_count": 46,
   "metadata": {},
   "outputs": [],
   "source": [
    "# if running this notebook on Colab, we just pip install urlextract\n",
    "try:\n",
    "    import google.colab\n",
    "    !pip install -q -U urlextract\n",
    "except ImportError:\n",
    "    pass # not running on Colab"
   ]
  },
  {
   "cell_type": "code",
   "execution_count": 47,
   "metadata": {},
   "outputs": [
    {
     "name": "stdout",
     "output_type": "stream",
     "text": [
      "['github.com', 'https://youtu.be/7Pq-S557XQU?t=3m32s']\n"
     ]
    }
   ],
   "source": [
    "try:\n",
    "    import urlextract \n",
    "    \n",
    "    url_extractor = urlextract.URLExtract()\n",
    "    print(url_extractor.find_urls(\"Will it detect github.com and https://youtu.be/7Pq-S557XQU?t=3m32s\"))\n",
    "except ImportError:\n",
    "    print(\"Error: replacing URLs requires the urlextract module.\")\n",
    "    url_extractor = None"
   ]
  },
  {
   "cell_type": "markdown",
   "metadata": {},
   "source": [
    "We are ready to put all this together into a transformer that we will use to convert emails to word counters. Note that we split sentences into words using Python's split() method, which uses whitespaces for word boundaries. This works for many written languages, but not all. For example, Chinese and Japanese scripts generally don't use spaces between words, and Vietnamese often uses spaces even between syllables. It's okay in this exercise, because the dataset is (mostly) in English."
   ]
  },
  {
   "cell_type": "code",
   "execution_count": 48,
   "metadata": {},
   "outputs": [],
   "source": [
    "from sklearn.base import BaseEstimator, TransformerMixin\n",
    "\n",
    "class EmailToWordCounterTransformer(BaseEstimator, TransformerMixin):\n",
    "    def __init__(self, strip_headers=True, lower_case=True, remove_punctuation=True,\n",
    "                 replace_urls=True, replace_numbers=True, stemming=True):\n",
    "        self.strip_headers = strip_headers\n",
    "        self.lower_case = lower_case\n",
    "        self.remove_punctuation = remove_punctuation\n",
    "        self.replace_urls = replace_urls\n",
    "        self.replace_numbers = replace_numbers\n",
    "        self.stemming = stemming\n",
    "    def fit(self, X, y=None):\n",
    "        return self\n",
    "    def transform(self, X, y=None):\n",
    "        X_transformed = []\n",
    "        for email in X:\n",
    "            text = email_to_text(email) or \"\"\n",
    "            if self.lower_case:\n",
    "                text = text.lower()\n",
    "            if self.replace_urls and url_extractor is not None:\n",
    "                urls = list(set(url_extractor.find_urls(text)))\n",
    "                urls.sort(key=lambda url: len(url), reverse=True)\n",
    "                for url in urls:\n",
    "                    text = text.replace(url, \" URL \")\n",
    "            if self.replace_numbers:\n",
    "                text = re.sub(r'\\d+(?:\\.\\d*(?:[eE]\\d+))?', 'NUMBER', text)\n",
    "            if self.remove_punctuation:\n",
    "                text = re.sub(r'\\W+', ' ', text, flags=re.M)\n",
    "            word_counts = Counter(text.split())\n",
    "            if self.stemming and stemmer is not None:\n",
    "                stemmed_word_counts = Counter()\n",
    "                for word, count in word_counts.items():\n",
    "                    stemmed_word = stemmer.stem(word)\n",
    "                    stemmed_word_counts[stemmed_word] += count\n",
    "                word_counts = stemmed_word_counts\n",
    "            X_transformed.append(word_counts)\n",
    "        return np.array(X_transformed)"
   ]
  },
  {
   "cell_type": "code",
   "execution_count": 49,
   "metadata": {},
   "outputs": [
    {
     "data": {
      "text/plain": [
       "array([Counter({'chuck': 1, 'murcko': 1, 'wrote': 1, 'stuff': 1, 'yawn': 1, 'r': 1}),\n",
       "       Counter({'the': 11, 'of': 9, 'and': 8, 'all': 3, 'christian': 3, 'to': 3, 'by': 3, 'jefferson': 2, 'i': 2, 'have': 2, 'superstit': 2, 'one': 2, 'on': 2, 'been': 2, 'ha': 2, 'half': 2, 'rogueri': 2, 'teach': 2, 'jesu': 2, 'some': 1, 'interest': 1, 'quot': 1, 'url': 1, 'thoma': 1, 'examin': 1, 'known': 1, 'word': 1, 'do': 1, 'not': 1, 'find': 1, 'in': 1, 'our': 1, 'particular': 1, 'redeem': 1, 'featur': 1, 'they': 1, 'are': 1, 'alik': 1, 'found': 1, 'fabl': 1, 'mytholog': 1, 'million': 1, 'innoc': 1, 'men': 1, 'women': 1, 'children': 1, 'sinc': 1, 'introduct': 1, 'burnt': 1, 'tortur': 1, 'fine': 1, 'imprison': 1, 'what': 1, 'effect': 1, 'thi': 1, 'coercion': 1, 'make': 1, 'world': 1, 'fool': 1, 'other': 1, 'hypocrit': 1, 'support': 1, 'error': 1, 'over': 1, 'earth': 1, 'six': 1, 'histor': 1, 'american': 1, 'john': 1, 'e': 1, 'remsburg': 1, 'letter': 1, 'william': 1, 'short': 1, 'again': 1, 'becom': 1, 'most': 1, 'pervert': 1, 'system': 1, 'that': 1, 'ever': 1, 'shone': 1, 'man': 1, 'absurd': 1, 'untruth': 1, 'were': 1, 'perpetr': 1, 'upon': 1, 'a': 1, 'larg': 1, 'band': 1, 'dupe': 1, 'import': 1, 'led': 1, 'paul': 1, 'first': 1, 'great': 1, 'corrupt': 1}),\n",
       "       Counter({'url': 4, 's': 3, 'group': 3, 'to': 3, 'in': 2, 'forteana': 2, 'martin': 2, 'an': 2, 'and': 2, 'we': 2, 'is': 2, 'yahoo': 2, 'unsubscrib': 2, 'y': 1, 'adamson': 1, 'wrote': 1, 'for': 1, 'altern': 1, 'rather': 1, 'more': 1, 'factual': 1, 'base': 1, 'rundown': 1, 'on': 1, 'hamza': 1, 'career': 1, 'includ': 1, 'hi': 1, 'belief': 1, 'that': 1, 'all': 1, 'non': 1, 'muslim': 1, 'yemen': 1, 'should': 1, 'be': 1, 'murder': 1, 'outright': 1, 'know': 1, 'how': 1, 'unbias': 1, 'memri': 1, 'don': 1, 't': 1, 'html': 1, 'rob': 1, 'sponsor': 1, 'number': 1, 'dvd': 1, 'free': 1, 'p': 1, 'join': 1, 'now': 1, 'from': 1, 'thi': 1, 'send': 1, 'email': 1, 'egroup': 1, 'com': 1, 'your': 1, 'use': 1, 'of': 1, 'subject': 1})],\n",
       "      dtype=object)"
      ]
     },
     "execution_count": 49,
     "metadata": {},
     "output_type": "execute_result"
    }
   ],
   "source": [
    "# Test transform on some emails\n",
    "X_few = X_train[:3] # makes array for first three emails\n",
    "X_few_wordcounts = EmailToWordCounterTransformer().fit_transform(X_few)\n",
    "X_few_wordcounts"
   ]
  },
  {
   "cell_type": "markdown",
   "metadata": {},
   "source": [
    "This looks correct.\n",
    "Now we have the word counts, and we need to convert them to vectors. For this, we will build another transformer whose fit() method will build the vocabulary (an ordered list of the most common words) and whose transform() method will use the vocabulary to convert word counts to vectors. The output is a sparse matrix."
   ]
  },
  {
   "cell_type": "code",
   "execution_count": 50,
   "metadata": {},
   "outputs": [],
   "source": [
    "from scipy.sparse import csr_matrix\n",
    "\n",
    "class WordCounterToVectorTransformer(BaseEstimator, TransformerMixin):\n",
    "    def __init__(self, vocabulary_size=1000):\n",
    "        self.vocabulary_size = vocabulary_size\n",
    "    def fit(self, X, y=None):\n",
    "        total_count = Counter()\n",
    "        for word_count in X:\n",
    "            for word, count in word_count.items():\n",
    "                total_count[word] += min(count, 10)\n",
    "        most_common = total_count.most_common()[:self.vocabulary_size]\n",
    "        self.most_common_ = most_common\n",
    "        self.vocabulary_ = {word: index + 1 for index, (word, count) in enumerate(most_common)}\n",
    "        return self\n",
    "    def transform(self, X, y=None):\n",
    "        rows = []\n",
    "        cols = []\n",
    "        data = []\n",
    "        for row, word_count in enumerate(X):\n",
    "            for word, count in word_count.items():\n",
    "                rows.append(row)\n",
    "                cols.append(self.vocabulary_.get(word, 0))\n",
    "                data.append(count)\n",
    "        return csr_matrix((data, (rows, cols)), shape=(len(X), self.vocabulary_size + 1))"
   ]
  },
  {
   "cell_type": "code",
   "execution_count": 51,
   "metadata": {},
   "outputs": [
    {
     "data": {
      "text/plain": [
       "<3x11 sparse matrix of type '<class 'numpy.int64'>'\n",
       "\twith 20 stored elements in Compressed Sparse Row format>"
      ]
     },
     "execution_count": 51,
     "metadata": {},
     "output_type": "execute_result"
    }
   ],
   "source": [
    "#Apply to our small set of emails for testing\n",
    "vocab_transformer = WordCounterToVectorTransformer(vocabulary_size=10)\n",
    "X_few_vectors = vocab_transformer.fit_transform(X_few_wordcounts)\n",
    "X_few_vectors"
   ]
  },
  {
   "cell_type": "markdown",
   "metadata": {},
   "source": [
    "What does this matrix mean? Well, the 99 in the second row, first column, means that the second email contains 99 words that are not part of the vocabulary. The 11 next to it means that the first word in the vocabulary is present 11 times in this email. The 9 next to it means that the second word is present 9 times, and so on. You can look at the vocabulary to know which words we are talking about. The first word is \"the\", the second word is \"of\", etc."
   ]
  },
  {
   "cell_type": "code",
   "execution_count": 52,
   "metadata": {},
   "outputs": [
    {
     "data": {
      "text/plain": [
       "{'the': 1,\n",
       " 'of': 2,\n",
       " 'and': 3,\n",
       " 'to': 4,\n",
       " 'url': 5,\n",
       " 'all': 6,\n",
       " 'in': 7,\n",
       " 'christian': 8,\n",
       " 'on': 9,\n",
       " 'by': 10}"
      ]
     },
     "execution_count": 52,
     "metadata": {},
     "output_type": "execute_result"
    }
   ],
   "source": [
    "# Look @ vocabulary\n",
    "vocab_transformer.vocabulary_"
   ]
  },
  {
   "cell_type": "markdown",
   "metadata": {},
   "source": [
    "Everything looks good. \n",
    "Let's transform the entire dataset and train our classifier"
   ]
  },
  {
   "cell_type": "code",
   "execution_count": 54,
   "metadata": {},
   "outputs": [],
   "source": [
    "from sklearn.pipeline import Pipeline\n",
    "\n",
    "# pipeline for creating eamail -> wordcounter -> vector\n",
    "preprocess_pipeline = Pipeline([\n",
    "    (\"email_to_wordcount\", EmailToWordCounterTransformer()),\n",
    "    (\"wordcount_to_vector\", WordCounterToVectorTransformer()),\n",
    "])\n",
    "\n",
    "X_train_transformed = preprocess_pipeline.fit_transform(X_train)"
   ]
  },
  {
   "cell_type": "code",
   "execution_count": 55,
   "metadata": {},
   "outputs": [
    {
     "name": "stderr",
     "output_type": "stream",
     "text": [
      "[Parallel(n_jobs=1)]: Using backend SequentialBackend with 1 concurrent workers.\n"
     ]
    },
    {
     "name": "stdout",
     "output_type": "stream",
     "text": [
      "[CV] END ................................ score: (test=0.981) total time=   0.3s\n"
     ]
    },
    {
     "name": "stderr",
     "output_type": "stream",
     "text": [
      "[Parallel(n_jobs=1)]: Done   1 out of   1 | elapsed:    0.3s remaining:    0.0s\n"
     ]
    },
    {
     "name": "stdout",
     "output_type": "stream",
     "text": [
      "[CV] END ................................ score: (test=0.985) total time=   0.5s\n"
     ]
    },
    {
     "name": "stderr",
     "output_type": "stream",
     "text": [
      "[Parallel(n_jobs=1)]: Done   2 out of   2 | elapsed:    0.8s remaining:    0.0s\n"
     ]
    },
    {
     "name": "stdout",
     "output_type": "stream",
     "text": [
      "[CV] END ................................ score: (test=0.991) total time=   0.5s\n"
     ]
    },
    {
     "name": "stderr",
     "output_type": "stream",
     "text": [
      "[Parallel(n_jobs=1)]: Done   3 out of   3 | elapsed:    1.3s finished\n"
     ]
    },
    {
     "data": {
      "text/plain": [
       "0.9858333333333333"
      ]
     },
     "execution_count": 55,
     "metadata": {},
     "output_type": "execute_result"
    }
   ],
   "source": [
    "# Train on linera regression\n",
    "from sklearn.linear_model import LogisticRegression\n",
    "from sklearn.model_selection import cross_val_score\n",
    "\n",
    "log_clf = LogisticRegression(solver=\"lbfgs\", max_iter=1000, random_state=42)\n",
    "score = cross_val_score(log_clf, X_train_transformed, y_train, cv=3, verbose=3)\n",
    "score.mean()"
   ]
  },
  {
   "cell_type": "markdown",
   "metadata": {},
   "source": [
    "Over 98.5%, not bad for a first try! However, remember that we are using the \"easy\" dataset. You can try with the harder datasets, the results won't be so amazing. You would have to try multiple models, select the best ones and fine-tune them using cross-validation, and so on.\n",
    "\n",
    "But you get the picture, so let's stop now, and just print out the precision/recall we get on the test set:"
   ]
  },
  {
   "cell_type": "code",
   "execution_count": 56,
   "metadata": {},
   "outputs": [
    {
     "name": "stdout",
     "output_type": "stream",
     "text": [
      "Precision: 95.88%\n",
      "Recall: 97.89%\n"
     ]
    }
   ],
   "source": [
    "from sklearn.metrics import precision_score, recall_score\n",
    "\n",
    "X_test_transformed = preprocess_pipeline.transform(X_test)\n",
    "\n",
    "log_clf = LogisticRegression(solver=\"lbfgs\", max_iter=1000, random_state=42)\n",
    "log_clf.fit(X_train_transformed, y_train)\n",
    "\n",
    "y_pred = log_clf.predict(X_test_transformed)\n",
    "\n",
    "print(\"Precision: {:.2f}%\".format(100 * precision_score(y_test, y_pred)))\n",
    "print(\"Recall: {:.2f}%\".format(100 * recall_score(y_test, y_pred)))"
   ]
  },
  {
   "cell_type": "code",
   "execution_count": null,
   "metadata": {},
   "outputs": [],
   "source": []
  }
 ],
 "metadata": {
  "kernelspec": {
   "display_name": "Python 3",
   "language": "python",
   "name": "python3"
  },
  "language_info": {
   "codemirror_mode": {
    "name": "ipython",
    "version": 3
   },
   "file_extension": ".py",
   "mimetype": "text/x-python",
   "name": "python",
   "nbconvert_exporter": "python",
   "pygments_lexer": "ipython3",
   "version": "3.8.3"
  }
 },
 "nbformat": 4,
 "nbformat_minor": 4
}
